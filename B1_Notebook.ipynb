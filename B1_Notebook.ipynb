{
  "cells": [
    {
      "cell_type": "markdown",
      "metadata": {
        "id": "LChB_2wjoFIB"
      },
      "source": [
        "# Clustering Analysis on Anime"
      ]
    },
    {
      "cell_type": "code",
      "execution_count": null,
      "metadata": {
        "id": "re3zqLJ9nhqP"
      },
      "outputs": [],
      "source": [
        "#distance to measure the difference between animes\n",
        "df = pd.read_csv('anime_new.csv')\n",
        "df = df.loc[:, ~df.columns.str.contains('^Unnamed')]\n",
        "df.head(3)\n",
        "\n",
        "df_num = df.select_dtypes('number')\n",
        "df_num.info()\n",
        "\n",
        "df_num = df_num.dropna()\n",
        "df_num.isnull().sum()\n",
        "\n",
        "df_num.head(3)\n",
        "df_num.describe\n",
        "\n",
        "#22 columns\n",
        "df_num.info()\n",
        "\n",
        "\n",
        "ds = StandardScaler().fit_transform(df_num)\n",
        "data_scaled = pd.DataFrame(ds,columns=df_num.columns)\n",
        "data_scaled.describe().T\n",
        "\n",
        "pca = PCA(0.95)\n",
        "pcs = pca.fit_transform(ds)\n",
        "varexp = pca.explained_variance_ratio_\n",
        "pca.n_components_\n",
        "\n",
        "plt.title(\"Cumulative Explained Variance\")\n",
        "plt.plot(range(1, len(varexp)+1), np.cumsum(varexp))\n",
        "plt.axhline(.95)\n",
        "plt.show()\n",
        "\n",
        "columns_name = []\n",
        "for i in range(pca.n_components_):\n",
        "    columns_name.append('pca_'+ str(i+1))\n",
        "pca_df = pd.DataFrame(pcs,columns=columns_name)\n",
        "\n",
        "krange_pca = range(2,20)\n",
        "inertia_pca =[]\n",
        "silo_pca = []\n",
        "for k in krange_pca:\n",
        "    kmodel = KMeans(k)\n",
        "    k_labs = kmodel.fit_predict(pca_df)\n",
        "    inertia_pca.append(kmodel.inertia_)\n",
        "    silo_pca.append(silhouette_score(pca_df,k_labs))\n",
        "\n",
        "#Show Inertia plot\n",
        "sns.lineplot(krange_pca,inertia_pca)\n",
        "plt.title('k value and inertia')\n",
        "plt.show()\n",
        "\n",
        "#Show Silhouette plot\n",
        "sns.lineplot(krange_pca, silo_pca)\n",
        "plt.title('k value and silhouette score')\n",
        "plt.show()\n",
        "\n",
        "k4 = KMeans(4)\n",
        "k4_labs = k4.fit_predict(pca_df)\n",
        "\n",
        "skplt.metrics.plot_silhouette(pca_df, k4_labs, title=\"Kmeans-3\", figsize=(15,5))\n",
        "plt.show()\n",
        "\n",
        "\n",
        "df_num['k4_labs'] = k4_labs\n",
        "df_num['k4_labs'].value_counts(sort=False)\n",
        "\n",
        "profile = df_num.groupby('k4_labs').mean().T\n",
        "profile\n",
        "\n",
        "plt.figure(figsize=(12, 6))\n",
        "#pal = sns.color_palette(\"blue\")\n",
        "sns.heatmap(profile, center=0, xticklabels=profile.columns)\n",
        "plt.title('Characteristics of 4 customer clusters')\n",
        "plt.show()"
      ]
    },
    {
      "cell_type": "markdown",
      "metadata": {
        "id": "uYNyaJhp0agL"
      },
      "source": [
        "# Clustering Analysis on Users"
      ]
    },
    {
      "cell_type": "markdown",
      "metadata": {
        "id": "UTlO92Is426M"
      },
      "source": [
        "## Basic Analysis"
      ]
    },
    {
      "cell_type": "code",
      "execution_count": null,
      "metadata": {
        "colab": {
          "base_uri": "https://localhost:8080/"
        },
        "id": "cvTKJKoqCkjN",
        "outputId": "43d3ec7d-9191-4122-8142-df6785a4f570"
      },
      "outputs": [
        {
          "name": "stdout",
          "output_type": "stream",
          "text": [
            "Drive already mounted at /content/drive; to attempt to forcibly remount, call drive.mount(\"/content/drive\", force_remount=True).\n"
          ]
        }
      ],
      "source": [
        "from google.colab import drive\n",
        "drive.mount('/content/drive')"
      ]
    },
    {
      "cell_type": "code",
      "execution_count": null,
      "metadata": {
        "id": "tngaqUoj78bv"
      },
      "outputs": [],
      "source": [
        "animelist = pd.read_csv('/content/drive/Shareddrives/BA820 Team1/Raw data/animelist.csv')"
      ]
    },
    {
      "cell_type": "code",
      "execution_count": null,
      "metadata": {
        "colab": {
          "base_uri": "https://localhost:8080/",
          "height": 204
        },
        "id": "QLWcKSOh9Zx7",
        "outputId": "278ef082-f65c-40c7-ba30-65b2bd70b07a"
      },
      "outputs": [
        {
          "data": {
            "text/html": [
              "<div>\n",
              "<style scoped>\n",
              "    .dataframe tbody tr th:only-of-type {\n",
              "        vertical-align: middle;\n",
              "    }\n",
              "\n",
              "    .dataframe tbody tr th {\n",
              "        vertical-align: top;\n",
              "    }\n",
              "\n",
              "    .dataframe thead th {\n",
              "        text-align: right;\n",
              "    }\n",
              "</style>\n",
              "<table border=\"1\" class=\"dataframe\">\n",
              "  <thead>\n",
              "    <tr style=\"text-align: right;\">\n",
              "      <th></th>\n",
              "      <th>user_id</th>\n",
              "      <th>anime_id</th>\n",
              "      <th>rating</th>\n",
              "      <th>watching_status</th>\n",
              "      <th>watched_episodes</th>\n",
              "    </tr>\n",
              "  </thead>\n",
              "  <tbody>\n",
              "    <tr>\n",
              "      <th>0</th>\n",
              "      <td>0</td>\n",
              "      <td>67</td>\n",
              "      <td>9</td>\n",
              "      <td>1</td>\n",
              "      <td>1</td>\n",
              "    </tr>\n",
              "    <tr>\n",
              "      <th>1</th>\n",
              "      <td>0</td>\n",
              "      <td>6702</td>\n",
              "      <td>7</td>\n",
              "      <td>1</td>\n",
              "      <td>4</td>\n",
              "    </tr>\n",
              "    <tr>\n",
              "      <th>2</th>\n",
              "      <td>0</td>\n",
              "      <td>242</td>\n",
              "      <td>10</td>\n",
              "      <td>1</td>\n",
              "      <td>4</td>\n",
              "    </tr>\n",
              "    <tr>\n",
              "      <th>3</th>\n",
              "      <td>0</td>\n",
              "      <td>4898</td>\n",
              "      <td>0</td>\n",
              "      <td>1</td>\n",
              "      <td>1</td>\n",
              "    </tr>\n",
              "    <tr>\n",
              "      <th>4</th>\n",
              "      <td>0</td>\n",
              "      <td>21</td>\n",
              "      <td>10</td>\n",
              "      <td>1</td>\n",
              "      <td>0</td>\n",
              "    </tr>\n",
              "  </tbody>\n",
              "</table>\n",
              "</div>"
            ],
            "text/plain": [
              "   user_id  anime_id  rating  watching_status  watched_episodes\n",
              "0        0        67       9                1                 1\n",
              "1        0      6702       7                1                 4\n",
              "2        0       242      10                1                 4\n",
              "3        0      4898       0                1                 1\n",
              "4        0        21      10                1                 0"
            ]
          },
          "execution_count": 5,
          "metadata": {},
          "output_type": "execute_result"
        }
      ],
      "source": [
        "animelist.head()"
      ]
    },
    {
      "cell_type": "code",
      "execution_count": null,
      "metadata": {
        "colab": {
          "base_uri": "https://localhost:8080/",
          "height": 419
        },
        "id": "BxAdmHJLAsa9",
        "outputId": "b1e7c702-20cf-47b8-ce0e-3854b2c9acbc"
      },
      "outputs": [
        {
          "data": {
            "text/html": [
              "<div>\n",
              "<style scoped>\n",
              "    .dataframe tbody tr th:only-of-type {\n",
              "        vertical-align: middle;\n",
              "    }\n",
              "\n",
              "    .dataframe tbody tr th {\n",
              "        vertical-align: top;\n",
              "    }\n",
              "\n",
              "    .dataframe thead th {\n",
              "        text-align: right;\n",
              "    }\n",
              "</style>\n",
              "<table border=\"1\" class=\"dataframe\">\n",
              "  <thead>\n",
              "    <tr style=\"text-align: right;\">\n",
              "      <th></th>\n",
              "      <th>index</th>\n",
              "      <th>count</th>\n",
              "    </tr>\n",
              "  </thead>\n",
              "  <tbody>\n",
              "    <tr>\n",
              "      <th>0</th>\n",
              "      <td>1535</td>\n",
              "      <td>238790</td>\n",
              "    </tr>\n",
              "    <tr>\n",
              "      <th>1</th>\n",
              "      <td>16498</td>\n",
              "      <td>216767</td>\n",
              "    </tr>\n",
              "    <tr>\n",
              "      <th>2</th>\n",
              "      <td>11757</td>\n",
              "      <td>209919</td>\n",
              "    </tr>\n",
              "    <tr>\n",
              "      <th>3</th>\n",
              "      <td>5114</td>\n",
              "      <td>201611</td>\n",
              "    </tr>\n",
              "    <tr>\n",
              "      <th>4</th>\n",
              "      <td>4224</td>\n",
              "      <td>196190</td>\n",
              "    </tr>\n",
              "    <tr>\n",
              "      <th>...</th>\n",
              "      <td>...</td>\n",
              "      <td>...</td>\n",
              "    </tr>\n",
              "    <tr>\n",
              "      <th>17557</th>\n",
              "      <td>48391</td>\n",
              "      <td>1</td>\n",
              "    </tr>\n",
              "    <tr>\n",
              "      <th>17558</th>\n",
              "      <td>48427</td>\n",
              "      <td>1</td>\n",
              "    </tr>\n",
              "    <tr>\n",
              "      <th>17559</th>\n",
              "      <td>41250</td>\n",
              "      <td>1</td>\n",
              "    </tr>\n",
              "    <tr>\n",
              "      <th>17560</th>\n",
              "      <td>47634</td>\n",
              "      <td>1</td>\n",
              "    </tr>\n",
              "    <tr>\n",
              "      <th>17561</th>\n",
              "      <td>48480</td>\n",
              "      <td>1</td>\n",
              "    </tr>\n",
              "  </tbody>\n",
              "</table>\n",
              "<p>17562 rows × 2 columns</p>\n",
              "</div>"
            ],
            "text/plain": [
              "       index   count\n",
              "0       1535  238790\n",
              "1      16498  216767\n",
              "2      11757  209919\n",
              "3       5114  201611\n",
              "4       4224  196190\n",
              "...      ...     ...\n",
              "17557  48391       1\n",
              "17558  48427       1\n",
              "17559  41250       1\n",
              "17560  47634       1\n",
              "17561  48480       1\n",
              "\n",
              "[17562 rows x 2 columns]"
            ]
          },
          "execution_count": 7,
          "metadata": {},
          "output_type": "execute_result"
        }
      ],
      "source": [
        "popular = animelist['anime_id'].value_counts(sort = True, ascending = False)\n",
        "pop = popular.to_frame(name = 'count').reset_index()\n",
        "pop = pop.rename(columns={'index': 'anime_id'})\n",
        "num_users = len(animelist['user_id'].unique())\n",
        "pop['percentage'] = (pop['count']/num_users)*100\n",
        "pop"
      ]
    },
    {
      "cell_type": "code",
      "execution_count": null,
      "metadata": {
        "colab": {
          "base_uri": "https://localhost:8080/",
          "height": 346
        },
        "id": "W6qzAjLaE758",
        "outputId": "ace6dea8-bda6-4653-b5e5-661ffdf0fb42"
      },
      "outputs": [
        {
          "data": {
            "text/plain": [
              "[Text(0, 0.5, 'Count of Anime'),\n",
              " Text(0.5, 0, 'Percentage of Users'),\n",
              " Text(0.5, 1.0, 'Distribution of Animes Watched by Percentage of Users')]"
            ]
          },
          "execution_count": 14,
          "metadata": {},
          "output_type": "execute_result"
        },
        {
          "data": {
            "image/png": "[encoded data removed]",
            "text/plain": [
              "<Figure size 432x288 with 1 Axes>"
            ]
          },
          "metadata": {
            "needs_background": "light"
          },
          "output_type": "display_data"
        }
      ],
      "source": [
        "sns.histplot(x = 'percentage', data = pop).set(title = 'Distribution of Animes Watched by Percentage of Users', xlabel = 'Percentage of Users', ylabel = 'Count of Anime')"
      ]
    },
    {
      "cell_type": "code",
      "execution_count": null,
      "metadata": {
        "colab": {
          "base_uri": "https://localhost:8080/",
          "height": 346
        },
        "id": "3yf0VA11GEBq",
        "outputId": "d0d3c85d-1491-4e82-f850-9aca3d766e73"
      },
      "outputs": [
        {
          "data": {
            "text/plain": [
              "[Text(0, 0.5, 'Count of Anime'),\n",
              " Text(0.5, 0, 'Percentage of Users'),\n",
              " Text(0.5, 1.0, 'Distribution of Animes Watched by Percentage of Users')]"
            ]
          },
          "execution_count": 14,
          "metadata": {},
          "output_type": "execute_result"
        },
        {
          "data": {
            "image/png": "[encoded data removed]",
            "text/plain": [
              "<Figure size 432x288 with 1 Axes>"
            ]
          },
          "metadata": {
            "needs_background": "light"
          },
          "output_type": "display_data"
        }
      ],
      "source": [
        "selected = pop[pop['percentage'] >= 40]\n",
        "sns.histplot(x = 'percentage', data = selected).set(title = 'Distribution of Animes Watched by Percentage of Users', xlabel = 'Percentage of Users', ylabel = 'Count of Anime')"
      ]
    },
    {
      "cell_type": "code",
      "execution_count": null,
      "metadata": {
        "id": "pTQZp9T5Frpk"
      },
      "outputs": [],
      "source": [
        "top = []\n",
        "\n",
        "for i in pop['percentage']: \n",
        "  if i > 0.40:\n",
        "    top.append(i)"
      ]
    },
    {
      "cell_type": "code",
      "execution_count": null,
      "metadata": {
        "colab": {
          "base_uri": "https://localhost:8080/",
          "height": 419
        },
        "id": "mmfDcEkXLiWy",
        "outputId": "852d43d5-334a-4bf9-ed93-18462fe8691b"
      },
      "outputs": [
        {
          "data": {
            "text/html": [
              "<div>\n",
              "<style scoped>\n",
              "    .dataframe tbody tr th:only-of-type {\n",
              "        vertical-align: middle;\n",
              "    }\n",
              "\n",
              "    .dataframe tbody tr th {\n",
              "        vertical-align: top;\n",
              "    }\n",
              "\n",
              "    .dataframe thead th {\n",
              "        text-align: right;\n",
              "    }\n",
              "</style>\n",
              "<table border=\"1\" class=\"dataframe\">\n",
              "  <thead>\n",
              "    <tr style=\"text-align: right;\">\n",
              "      <th></th>\n",
              "      <th>index</th>\n",
              "      <th>count</th>\n",
              "    </tr>\n",
              "  </thead>\n",
              "  <tbody>\n",
              "    <tr>\n",
              "      <th>0</th>\n",
              "      <td>1535</td>\n",
              "      <td>238790</td>\n",
              "    </tr>\n",
              "    <tr>\n",
              "      <th>1</th>\n",
              "      <td>16498</td>\n",
              "      <td>216767</td>\n",
              "    </tr>\n",
              "    <tr>\n",
              "      <th>2</th>\n",
              "      <td>11757</td>\n",
              "      <td>209919</td>\n",
              "    </tr>\n",
              "    <tr>\n",
              "      <th>3</th>\n",
              "      <td>5114</td>\n",
              "      <td>201611</td>\n",
              "    </tr>\n",
              "    <tr>\n",
              "      <th>4</th>\n",
              "      <td>4224</td>\n",
              "      <td>196190</td>\n",
              "    </tr>\n",
              "    <tr>\n",
              "      <th>...</th>\n",
              "      <td>...</td>\n",
              "      <td>...</td>\n",
              "    </tr>\n",
              "    <tr>\n",
              "      <th>6928</th>\n",
              "      <td>11465</td>\n",
              "      <td>1308</td>\n",
              "    </tr>\n",
              "    <tr>\n",
              "      <th>6929</th>\n",
              "      <td>1295</td>\n",
              "      <td>1306</td>\n",
              "    </tr>\n",
              "    <tr>\n",
              "      <th>6930</th>\n",
              "      <td>2796</td>\n",
              "      <td>1306</td>\n",
              "    </tr>\n",
              "    <tr>\n",
              "      <th>6931</th>\n",
              "      <td>6686</td>\n",
              "      <td>1304</td>\n",
              "    </tr>\n",
              "    <tr>\n",
              "      <th>6932</th>\n",
              "      <td>2929</td>\n",
              "      <td>1304</td>\n",
              "    </tr>\n",
              "  </tbody>\n",
              "</table>\n",
              "<p>6933 rows × 2 columns</p>\n",
              "</div>"
            ],
            "text/plain": [
              "      index   count\n",
              "0      1535  238790\n",
              "1     16498  216767\n",
              "2     11757  209919\n",
              "3      5114  201611\n",
              "4      4224  196190\n",
              "...     ...     ...\n",
              "6928  11465    1308\n",
              "6929   1295    1306\n",
              "6930   2796    1306\n",
              "6931   6686    1304\n",
              "6932   2929    1304\n",
              "\n",
              "[6933 rows x 2 columns]"
            ]
          },
          "execution_count": 17,
          "metadata": {},
          "output_type": "execute_result"
        }
      ],
      "source": [
        "#top anime where viewer rate is above xx% \n",
        "most_pop = animelist['anime_id'].value_counts(sort = True, ascending = False).head(len(top))\n",
        "pop_df = most_pop.to_frame('count').reset_index()\n",
        "pop_list = pop_df['index'].to_list()\n",
        "pop_anime = animelist.copy()\n",
        "pop_anime.head()"
      ]
    },
    {
      "cell_type": "code",
      "execution_count": null,
      "metadata": {
        "id": "pXlcWjy1gl7n"
      },
      "outputs": [],
      "source": [
        "pop_anime = animelist[animelist['anime_id'].isin(pop_list)]\n",
        "pop_anime.shape"
      ]
    },
    {
      "cell_type": "markdown",
      "metadata": {
        "id": "BcG6q8uS0Ao3"
      },
      "source": [
        "## Subset Data "
      ]
    },
    {
      "cell_type": "code",
      "execution_count": null,
      "metadata": {
        "id": "tFPhj2VFpbSE"
      },
      "outputs": [],
      "source": [
        "#pop_anime = pd.read_csv('/content/drive/Shareddrives/BA820 Team1/Clean data/pop_anime40')"
      ]
    },
    {
      "cell_type": "code",
      "execution_count": null,
      "metadata": {
        "id": "RVRqSsZl41WL"
      },
      "outputs": [],
      "source": [
        "pop_anime['user_id'].nunique()"
      ]
    },
    {
      "cell_type": "code",
      "execution_count": null,
      "metadata": {
        "id": "TZbuoFLw5y-i"
      },
      "outputs": [],
      "source": [
        "all_watched = pop_anime['user_id'].value_counts()\n",
        "all = all_watched.to_frame(name = 'count').reset_index()"
      ]
    },
    {
      "cell_type": "code",
      "execution_count": null,
      "metadata": {
        "id": "igRya08dpve8"
      },
      "outputs": [],
      "source": [
        "all[all['count']==59].count()"
      ]
    },
    {
      "cell_type": "code",
      "execution_count": null,
      "metadata": {
        "id": "68HfS8X6pwDd"
      },
      "outputs": [],
      "source": [
        "len(user_list)"
      ]
    },
    {
      "cell_type": "code",
      "execution_count": null,
      "metadata": {
        "id": "WTci86CQp4HR"
      },
      "outputs": [],
      "source": [
        "pop_anime = animelist[(animelist['anime_id'].isin(pop_list)) & animelist['user_id'].isin(user_list)]"
      ]
    },
    {
      "cell_type": "code",
      "execution_count": null,
      "metadata": {
        "id": "c2nwhAcCp-eI"
      },
      "outputs": [],
      "source": [
        "ratings = pop_anime.pivot_table(values = 'rating', index = 'user_id', columns = 'anime_id')"
      ]
    },
    {
      "cell_type": "code",
      "execution_count": null,
      "metadata": {
        "id": "szg1yNuGqCaJ"
      },
      "outputs": [],
      "source": [
        "ratings = pd.DataFrame(ratings)"
      ]
    },
    {
      "cell_type": "code",
      "execution_count": null,
      "metadata": {
        "id": "9ALPnbH1qJMf"
      },
      "outputs": [],
      "source": [
        "ratings.head()"
      ]
    },
    {
      "cell_type": "code",
      "execution_count": null,
      "metadata": {
        "id": "KqYmF23Wqcew"
      },
      "outputs": [],
      "source": [
        "ratings.shape"
      ]
    },
    {
      "cell_type": "markdown",
      "metadata": {
        "id": "nFAcaBzOSeDG"
      },
      "source": [
        "## Clustering "
      ]
    },
    {
      "cell_type": "code",
      "execution_count": null,
      "metadata": {
        "id": "hmLRMPx8SpnM"
      },
      "outputs": [],
      "source": [
        "##Hierarchical clustering \n",
        "pop_anime_clust = ratings.copy()"
      ]
    },
    {
      "cell_type": "code",
      "execution_count": null,
      "metadata": {
        "id": "IeRonpn1ivdS"
      },
      "outputs": [],
      "source": [
        "pop_anime_clust.astype(int)"
      ]
    },
    {
      "cell_type": "code",
      "execution_count": null,
      "metadata": {
        "id": "4iRlqzJXSzvf"
      },
      "outputs": [],
      "source": [
        "cdist = pdist(pop_anime_clust.values, metric = 'jaccard')\n"
      ]
    },
    {
      "cell_type": "code",
      "execution_count": null,
      "metadata": {
        "id": "1zu7V7g3yID8"
      },
      "outputs": [],
      "source": [
        "hc1 = linkage(cdist)\n",
        "hc2 = linkage(cdist, method = 'complete')\n",
        "hc3 = linkage(cdist, method = 'average')\n",
        "hc4 = linkage(cdist, method = 'ward') "
      ]
    },
    {
      "cell_type": "code",
      "execution_count": null,
      "metadata": {
        "id": "Y3F41kN1bg39"
      },
      "outputs": [],
      "source": [
        "plt.figure(figsize=(5,6))\n",
        "plt.title('Single')\n",
        "single = dendrogram(hc1)"
      ]
    },
    {
      "cell_type": "code",
      "execution_count": null,
      "metadata": {
        "id": "NSiPlughbjTK"
      },
      "outputs": [],
      "source": [
        "plt.figure(figsize=(5,6))\n",
        "plt.title('Complete')\n",
        "complete = dendrogram(hc2)"
      ]
    },
    {
      "cell_type": "code",
      "execution_count": null,
      "metadata": {
        "id": "mMVm9Pm7bkyr"
      },
      "outputs": [],
      "source": [
        "plt.figure(figsize=(5,6))\n",
        "plt.title('Average')\n",
        "average = dendrogram(hc3)"
      ]
    },
    {
      "cell_type": "code",
      "execution_count": null,
      "metadata": {
        "id": "HJU0XYzXbmUF"
      },
      "outputs": [],
      "source": [
        "plt.figure(figsize=(5,6))\n",
        "plt.title('Ward - Jaccard')\n",
        "ward = dendrogram(hc4)"
      ]
    },
    {
      "cell_type": "code",
      "execution_count": null,
      "metadata": {
        "id": "DtEYQZo1bn5W"
      },
      "outputs": [],
      "source": [
        "#setting clusters by the number of clusters we want \n",
        "c1 = fcluster(hc1, 3, criterion = 'maxclust')"
      ]
    },
    {
      "cell_type": "code",
      "execution_count": null,
      "metadata": {
        "id": "JGl8EGR4jtKS"
      },
      "outputs": [],
      "source": [
        "pop_anime_clust['cluster'] = c1"
      ]
    },
    {
      "cell_type": "code",
      "execution_count": null,
      "metadata": {
        "id": "cQYz4X6-bvhS"
      },
      "outputs": [],
      "source": [
        "##KMeans Clustering \n",
        "pop_anime_kmeans = ratings.copy()"
      ]
    },
    {
      "cell_type": "code",
      "execution_count": null,
      "metadata": {
        "id": "6ZasTZXwcEPn"
      },
      "outputs": [],
      "source": [
        "#examine how many clusters would be appropriate to use based on inertia\n",
        "#ideal is low inertia while having low number of k\n",
        "krange = range(2,100)\n",
        "\n",
        "cluster_sol = []\n",
        "\n",
        "for k in krange:\n",
        "  x = KMeans(k)\n",
        "  x.fit(pop_anime_kmeans)\n",
        "  x.predict(pop_anime_kmeans)\n",
        "  y = x.inertia_\n",
        "  cluster_sol.append(y)\n",
        "\n",
        "cluster_sol"
      ]
    },
    {
      "cell_type": "code",
      "execution_count": null,
      "metadata": {
        "id": "HG2PwHxEcMeS"
      },
      "outputs": [],
      "source": [
        "sns.lineplot(krange, cluster_sol).set_title('Number of Clusters to Inertia of Fit')\n",
        "plt.xlabel('Number of Clusters')\n",
        "plt.ylabel('Inertia')"
      ]
    },
    {
      "cell_type": "code",
      "execution_count": null,
      "metadata": {
        "id": "k0haPhP7cO4G"
      },
      "outputs": [],
      "source": [
        "#edit with number of clusters \n",
        "k = KMeans(5)\n",
        "labs = k.fit_predict(pop_anime_kmeans)"
      ]
    },
    {
      "cell_type": "code",
      "execution_count": null,
      "metadata": {
        "id": "9KsH8I0PcauA"
      },
      "outputs": [],
      "source": [
        "pop_anime_kmeans['k'] = labs"
      ]
    },
    {
      "cell_type": "code",
      "execution_count": null,
      "metadata": {
        "id": "NfAQ_jDJcggR"
      },
      "outputs": [],
      "source": [
        "#use silo score to access how appropriately the clusters were assigned based on 5 clusters\n",
        "#pass through silhouette_score(feature space, cluster assignment)\n",
        "#want silo to be as close as 1 as possible \n",
        "silo_overall = metrics.silhouette_score(pop_anime_kmeans, labs)\n",
        "silo_overall"
      ]
    },
    {
      "cell_type": "code",
      "execution_count": null,
      "metadata": {
        "id": "yazydVVpclTT"
      },
      "outputs": [],
      "source": [
        "#plotting \n",
        "skplt.metrics.plot_silhouette(pop_anime_kmeans, labs, figsize = (10,6))"
      ]
    },
    {
      "cell_type": "markdown",
      "metadata": {
        "id": "uoZxUz8is_2y"
      },
      "source": [
        "# Recommendation system 1\n",
        "Colaboraive Filtering using the structure of knn"
      ]
    },
    {
      "cell_type": "markdown",
      "metadata": {
        "id": "AgAs__PYhUtu"
      },
      "source": [
        "### Raw Code for Recommendation System"
      ]
    },
    {
      "cell_type": "code",
      "execution_count": null,
      "metadata": {
        "id": "Lk8l9SqbZxaz"
      },
      "outputs": [],
      "source": [
        "import pandas as pd\n",
        "import numpy as np\n",
        "import matplotlib.pyplot as plt"
      ]
    },
    {
      "cell_type": "code",
      "execution_count": null,
      "metadata": {
        "id": "C-WuyhRjZnrs"
      },
      "outputs": [],
      "source": [
        "def change(s):\n",
        "  t=set(s[1:-1].split(\", \"))\n",
        "  return t\n",
        "# Use class to make the system\n",
        "class recommend_system:\n",
        "\n",
        "# favorite is the favorite anime the new user select, we would get this in the following inputfavorite method\n",
        "# alist is the data set we use to find the similar users, it's called userlist. The path of this dataset is the only argument we need\n",
        "# recommendlist is the final recommand anime we got\n",
        "  def __init__(self,path):\n",
        "    self.favorite=set()\n",
        "    self.alist=pd.read_csv(path)\n",
        "    self.recommendlist=pd.DataFrame()\n",
        "    self.alist['animelist']=self.alist['animelist'].apply(change)\n",
        "    self.knn=60\n",
        "\n",
        "# Get the new user's favorite anime. Take int as input\n",
        "  def inputfavorite(self):\n",
        "    favorite = []\n",
        "    s = input('Please input your favorite anime id:')\n",
        "    while s != '-1':\n",
        "      self.favorite.add(s)\n",
        "      s = input('Please input more anime id (type -1 to  stop):')\n",
        "    self.alist['jacdis'] = self.alist['animelist'].apply(self.distance)\n",
        "    self.recommend = self.alist\n",
        "    self.alist.sort_values('jacdis', ascending=False, inplace=True)\n",
        "    self.alist.reset_index(drop=True,inplace=True)\n",
        "\n",
        "# Distance calculating functions we use to determine which are the similar users\n",
        "  def distance(self,y):\n",
        "    return 2*len(self.favorite & y)/(len(self.favorite)+len(self.favorite | y))\n",
        "\n",
        "# Output method of our recommendation system. \n",
        "# Select the most similar users in the dataset and get the intersection of their favorite list\n",
        "# The intersection is the result and every time we only print 3 of them.\n",
        "  def recommendation(self):\n",
        "    k_in_knn=self.knn\n",
        "    self.recommenddict=dict()\n",
        "    for i in range(0,k_in_knn):\n",
        "      for id in self.alist['animelist'][i]:\n",
        "        try:\n",
        "          self.recommenddict[id]+=1\n",
        "        except:\n",
        "          self.recommenddict[id]=1\n",
        "    for id in self.favorite:\n",
        "      try:\n",
        "        del self.recommenddict[id]\n",
        "      except:\n",
        "        pass\n",
        "    self.recommendlist=pd.DataFrame(data=self.recommenddict,index=['Recommend Ratio']).T\n",
        "    self.recommendlist['Recommend Ratio']=self.recommendlist['Recommend Ratio']/k_in_knn\n",
        "    self.recommendlist.sort_values('Recommend Ratio',ascending=False,inplace=True)\n",
        "    print(self.recommendlist)\n",
        "  def tranfer(self):\n",
        "    self.anime_name=pd.read_csv('/content/drive/MyDrive/BA820 Project/anime.csv')\n",
        "    self.anime_name=anime_name[['MAL_ID','Name','Score']]\n",
        "    self.anime_name['MAL_ID'].astype('int64')\n",
        "    self.recommand_name=self.recommendlist.merge(anime_name,how='inner',on='MAL_ID')"
      ]
    },
    {
      "cell_type": "markdown",
      "metadata": {
        "id": "eB-mr-P8hZo6"
      },
      "source": [
        "### Raw Code for Evaluation"
      ]
    },
    {
      "cell_type": "code",
      "execution_count": null,
      "metadata": {
        "id": "fUpm4rOvGd_F"
      },
      "outputs": [],
      "source": [
        "def evaluate(klist):\n",
        "  evaluation=recommend_system('/content/drive/MyDrive/BA820 Project/userlist.csv')\n",
        "  data=pd.read_csv('/content/drive/MyDrive/BA820 Project/userlist.csv')\n",
        "  data['animelist']=data['animelist'].apply(change)\n",
        "\n",
        "  test=data.sample(n=10, replace=False,axis=0,random_state=830)\n",
        "  train = data[~ data['user_id'].isin(test['user_id'])]\n",
        "\n",
        "  test.index=test['user_id']\n",
        "  train.index=train['user_id']\n",
        "  average_score=dict()\n",
        "  evaluation.alist=evaluation.alist[~ evaluation.alist['user_id'].isin(test['user_id'])]\n",
        "  for k in klist:\n",
        "    evaluation.knn=k\n",
        "    socrelist=[]\n",
        "    for i in test.index:\n",
        "      l=list(t for t in test['animelist'][i])\n",
        "      selectlist=set(l[0:10])\n",
        "      testlist=set(l[10:])\n",
        "\n",
        "      evaluation.favorite=selectlist\n",
        "      evaluation.alist['jacdis'] = evaluation.alist['animelist'].apply(evaluation.distance)\n",
        "      evaluation.recommend = evaluation.alist\n",
        "      evaluation.alist.sort_values('jacdis', ascending=False, inplace=True)\n",
        "      evaluation.alist.reset_index(drop=True,inplace=True)\n",
        "      evaluation.recommendation()\n",
        "      evaluation.recommendlist.reset_index(inplace=True)\n",
        "      result=list(i for i in evaluation.recommendlist[0:10]['index'])\n",
        "      score=0\n",
        "      for i in result:\n",
        "        if i in testlist:\n",
        "          score+=1\n",
        "      socrelist.append(score)\n",
        "    average_score[k]=np.mean(socrelist)\n",
        "  return average_score"
      ]
    },
    {
      "cell_type": "markdown",
      "metadata": {
        "id": "65qpN9YlheY2"
      },
      "source": [
        "### Evaluation"
      ]
    },
    {
      "cell_type": "code",
      "execution_count": null,
      "metadata": {
        "id": "f8WpnfY3qbTz"
      },
      "outputs": [],
      "source": [
        "klist=range(0,200,10)\n",
        "score_list1=evaluate(klist)\n",
        "data1=pd.DataFrame(score_list1,index=['Score']).T"
      ]
    },
    {
      "cell_type": "code",
      "execution_count": null,
      "metadata": {
        "colab": {
          "base_uri": "https://localhost:8080/",
          "height": 317
        },
        "id": "cZ_RIGv903xz",
        "outputId": "9b725ee6-cb09-4ed0-ab0c-af58c093ed0a"
      },
      "outputs": [
        {
          "data": {
            "text/plain": [
              "Text(0, 0.5, 'Evaluation Score')"
            ]
          },
          "execution_count": 88,
          "metadata": {},
          "output_type": "execute_result"
        },
        {
          "data": {
            "image/png": "[encoded data removed]",
            "text/plain": [
              "<Figure size 432x288 with 1 Axes>"
            ]
          },
          "metadata": {
            "needs_background": "light"
          },
          "output_type": "display_data"
        }
      ],
      "source": [
        "plt.plot(data1)\n",
        "plt.ylim(5,7)\n",
        "plt.title('Evaluation Score for Different k',size=15)\n",
        "plt.xlabel('k',size=12)\n",
        "plt.ylabel('Evaluation Score',size=12)"
      ]
    },
    {
      "cell_type": "markdown",
      "metadata": {
        "id": "G3R-SNnmhlOP"
      },
      "source": [
        "### Example Excuation"
      ]
    },
    {
      "cell_type": "code",
      "execution_count": null,
      "metadata": {
        "id": "Mq-WOx_61toq"
      },
      "outputs": [],
      "source": [
        "re=recommend_system('/content/drive/MyDrive/BA820 Project/userlist.csv')"
      ]
    },
    {
      "cell_type": "code",
      "execution_count": null,
      "metadata": {
        "colab": {
          "base_uri": "https://localhost:8080/"
        },
        "id": "suwfNsiK10NK",
        "outputId": "3a7c8abf-60b3-4995-e842-f7c1850e59d3"
      },
      "outputs": [
        {
          "name": "stdout",
          "output_type": "stream",
          "text": [
            "Please input your favorite anime id:35\n",
            "Please input more anime id (type -1 to  stop):135\n",
            "Please input more anime id (type -1 to  stop):35\n",
            "Please input more anime id (type -1 to  stop):-1\n"
          ]
        }
      ],
      "source": [
        "# Enter the ID of your favorite anime, enter -1 to stop\n",
        "re.inputfavorite()"
      ]
    },
    {
      "cell_type": "code",
      "execution_count": null,
      "metadata": {
        "colab": {
          "base_uri": "https://localhost:8080/"
        },
        "id": "4GQny51z16LS",
        "outputId": "1bf0e77b-ef21-40e7-9f13-ca46d71f02de"
      },
      "outputs": [
        {
          "name": "stdout",
          "output_type": "stream",
          "text": [
            "       Recommend Ratio\n",
            "121           0.883333\n",
            "1535          0.516667\n",
            "199           0.283333\n",
            "2904          0.266667\n",
            "1575          0.266667\n",
            "...                ...\n",
            "239           0.016667\n",
            "2158          0.016667\n",
            "11665         0.016667\n",
            "3167          0.016667\n",
            "208           0.016667\n",
            "\n",
            "[340 rows x 1 columns]\n"
          ]
        }
      ],
      "source": [
        "# Returns our recommendations. The ratio reflect the recommend level\n",
        "re.recommendation()"
      ]
    },
    {
      "cell_type": "markdown",
      "metadata": {
        "id": "dSDagxZk4EL6"
      },
      "source": [
        "# Recommendation system 2\n",
        "Anime based recommendation using text-analysis"
      ]
    },
    {
      "cell_type": "markdown",
      "metadata": {
        "id": "7H2kLMDWY857"
      },
      "source": [
        "1. All libraries\n",
        "2. Import dataset\n",
        "3. Clean dataset\n",
        "4. Cosine similarity"
      ]
    },
    {
      "cell_type": "markdown",
      "metadata": {
        "id": "zuOcVLYCTX6v"
      },
      "source": [
        "### All libraries"
      ]
    },
    {
      "cell_type": "code",
      "execution_count": null,
      "metadata": {
        "colab": {
          "base_uri": "https://localhost:8080/"
        },
        "id": "huna7PfXTXE7",
        "outputId": "2b6fc9fc-6217-4445-e3f6-9f7b90661f3a"
      },
      "outputs": [
        {
          "name": "stdout",
          "output_type": "stream",
          "text": [
            "[nltk_data] Downloading package stopwords to /root/nltk_data...\n",
            "[nltk_data]   Unzipping corpora/stopwords.zip.\n"
          ]
        }
      ],
      "source": [
        "import numpy as np\n",
        "from sklearn.feature_extraction.text import CountVectorizer\n",
        "import nltk\n",
        "from nltk.corpus import stopwords\n",
        "nltk.download('stopwords')\n",
        "from spacy.lemmatizer import Lemmatizer\n",
        "import spacy\n",
        "nlp = spacy.load('en')\n",
        "from sklearn.metrics.pairwise import cosine_similarity\n",
        "from spacy import cli"
      ]
    },
    {
      "cell_type": "markdown",
      "metadata": {
        "id": "zwP0EDdhXyL6"
      },
      "source": [
        "### Import dataset"
      ]
    },
    {
      "cell_type": "code",
      "execution_count": null,
      "metadata": {
        "colab": {
          "base_uri": "https://localhost:8080/"
        },
        "id": "0VF_8rYuYcNW",
        "outputId": "41930ca2-3d5d-40b8-99f3-e7a68c83c6ca"
      },
      "outputs": [
        {
          "name": "stdout",
          "output_type": "stream",
          "text": [
            "Mounted at /content/drive\n"
          ]
        }
      ],
      "source": [
        "from google.colab import drive\n",
        "drive.mount('/content/drive')\n"
      ]
    },
    {
      "cell_type": "code",
      "execution_count": null,
      "metadata": {
        "id": "NyV0Ri7jZGhD"
      },
      "outputs": [],
      "source": [
        "import pandas as pd \n",
        "df=pd.read_csv('/content/drive/Shareddrives/BA820 Team1/Raw data/anime_with_synopsis.csv')\n",
        "data = df"
      ]
    },
    {
      "cell_type": "code",
      "execution_count": null,
      "metadata": {
        "colab": {
          "base_uri": "https://localhost:8080/"
        },
        "id": "z66VrP-nazcY",
        "outputId": "84d4c21f-351c-467b-cc15-c5201f5f00e4"
      },
      "outputs": [
        {
          "data": {
            "text/plain": [
              "(16214, 5)"
            ]
          },
          "execution_count": 4,
          "metadata": {},
          "output_type": "execute_result"
        }
      ],
      "source": [
        "df.shape"
      ]
    },
    {
      "cell_type": "code",
      "execution_count": null,
      "metadata": {
        "colab": {
          "base_uri": "https://localhost:8080/"
        },
        "id": "KwQHB0wOcgnU",
        "outputId": "df41b50e-a92a-4e17-9433-475c7b3863a0"
      },
      "outputs": [
        {
          "data": {
            "text/plain": [
              "Index(['MAL_ID', 'Name', 'Score', 'Genres', 'sypnopsis'], dtype='object')"
            ]
          },
          "execution_count": 5,
          "metadata": {},
          "output_type": "execute_result"
        }
      ],
      "source": [
        "df.columns"
      ]
    },
    {
      "cell_type": "markdown",
      "metadata": {
        "id": "LpPTswn7cH9Q"
      },
      "source": [
        "### Clean dataset"
      ]
    },
    {
      "cell_type": "markdown",
      "metadata": {
        "id": "_XtGH_JbcOHR"
      },
      "source": [
        "Take out the 6k animes with the highest rating in all 16215 animes in anime_with_synopsis.csv"
      ]
    },
    {
      "cell_type": "code",
      "execution_count": null,
      "metadata": {
        "id": "xNsbjboXcVUo"
      },
      "outputs": [],
      "source": [
        "df = df[df['Score'] != 'Unknown']\n",
        "df = df.sort_values(by='Score', ascending=False)\n",
        "df = df.iloc[:6000]"
      ]
    },
    {
      "cell_type": "code",
      "execution_count": null,
      "metadata": {
        "colab": {
          "base_uri": "https://localhost:8080/",
          "height": 997
        },
        "id": "vlwc_LRgF51C",
        "outputId": "c3424084-d774-4710-d1b8-d8cbd632c5dd"
      },
      "outputs": [
        {
          "data": {
            "text/html": [
              "<div>\n",
              "<style scoped>\n",
              "    .dataframe tbody tr th:only-of-type {\n",
              "        vertical-align: middle;\n",
              "    }\n",
              "\n",
              "    .dataframe tbody tr th {\n",
              "        vertical-align: top;\n",
              "    }\n",
              "\n",
              "    .dataframe thead th {\n",
              "        text-align: right;\n",
              "    }\n",
              "</style>\n",
              "<table border=\"1\" class=\"dataframe\">\n",
              "  <thead>\n",
              "    <tr style=\"text-align: right;\">\n",
              "      <th></th>\n",
              "      <th>MAL_ID</th>\n",
              "      <th>Name</th>\n",
              "      <th>Score</th>\n",
              "      <th>Genres</th>\n",
              "      <th>sypnopsis</th>\n",
              "      <th>new_id</th>\n",
              "    </tr>\n",
              "  </thead>\n",
              "  <tbody>\n",
              "    <tr>\n",
              "      <th>3446</th>\n",
              "      <td>5114</td>\n",
              "      <td>Fullmetal Alchemist: Brotherhood</td>\n",
              "      <td>9.19</td>\n",
              "      <td>Action, Military, Adventure, Comedy, Drama, Magic, Fantasy, Shounen</td>\n",
              "      <td>\"In order for something to be obtained, something of equal value must be lost.\" Alchemy is bound by this Law of Equivalent Exchange—something the young brothers Edward and Alphonse Elric only realize after attempting human transmutation: the one forbidden act of alchemy. They pay a terrible price for their transgression—Edward loses his left leg, Alphonse his physical body. It is only by the desperate sacrifice of Edward's right arm that he is able to affix Alphonse's soul to a suit of armor. Devastated and alone, it is the hope that they would both eventually return to their original bodies that gives Edward the inspiration to obtain metal limbs called \"automail\" and become a state alchemist, the Fullmetal Alchemist. Three years of searching later, the brothers seek the Philosopher's Stone, a mythical relic that allows an alchemist to overcome the Law of Equivalent Exchange. Even with military allies Colonel Roy Mustang, Lieutenant Riza Hawkeye, and Lieutenant Colonel Maes Hughes on their side, the brothers find themselves caught up in a nationwide conspiracy that leads them not only to the true nature of the elusive Philosopher's Stone, but their country's murky history as well. In between finding a serial killer and racing against time, Edward and Alphonse must ask themselves if what they are doing will make them human again... or take away their humanity.</td>\n",
              "      <td>1</td>\n",
              "    </tr>\n",
              "    <tr>\n",
              "      <th>14647</th>\n",
              "      <td>40028</td>\n",
              "      <td>Shingeki no Kyojin: The Final Season</td>\n",
              "      <td>9.17</td>\n",
              "      <td>Action, Military, Mystery, Super Power, Drama, Fantasy, Shounen</td>\n",
              "      <td>Gabi Braun and Falco Grice have been training their entire lives to inherit one of the seven titans under Marley's control and aid their nation in eradicating the Eldians on Paradis. However, just as all seems well for the two cadets, their peace is suddenly shaken by the arrival of Eren Yeager and the remaining members of the Survey Corps. Having finally reached the Yeager family basement and learned about the dark history surrounding the titans, the Survey Corps has at long last found the answer they so desperately fought to uncover. With the truth now in their hands, the group set out for the world beyond the walls. In Shingeki no Kyojin: The Final Season , two utterly different worlds collide as each party pursues its own agenda in the long-awaited conclusion to Paradis' fight for freedom.</td>\n",
              "      <td>2</td>\n",
              "    </tr>\n",
              "    <tr>\n",
              "      <th>4953</th>\n",
              "      <td>9253</td>\n",
              "      <td>Steins;Gate</td>\n",
              "      <td>9.11</td>\n",
              "      <td>Thriller, Sci-Fi</td>\n",
              "      <td>The self-proclaimed mad scientist Rintarou Okabe rents out a room in a rickety old building in Akihabara, where he indulges himself in his hobby of inventing prospective \"future gadgets\" with fellow lab members: Mayuri Shiina, his air-headed childhood friend, and Hashida Itaru, a perverted hacker nicknamed \"Daru.\" The three pass the time by tinkering with their most promising contraption yet, a machine dubbed the \"Phone Microwave,\" which performs the strange function of morphing bananas into piles of green gel. Though miraculous in itself, the phenomenon doesn't provide anything concrete in Okabe's search for a scientific breakthrough; that is, until the lab members are spurred into action by a string of mysterious happenings before stumbling upon an unexpected success—the Phone Microwave can send emails to the past, altering the flow of history. Adapted from the critically acclaimed visual novel by 5pb. and Nitroplus, Steins;Gate takes Okabe through the depths of scientific theory and practicality. Forced across the diverging threads of past and present, Okabe must shoulder the burdens that come with holding the key to the realm of time.</td>\n",
              "      <td>3</td>\n",
              "    </tr>\n",
              "    <tr>\n",
              "      <th>13720</th>\n",
              "      <td>38524</td>\n",
              "      <td>Shingeki no Kyojin Season 3 Part 2</td>\n",
              "      <td>9.1</td>\n",
              "      <td>Action, Drama, Fantasy, Military, Mystery, Shounen, Super Power</td>\n",
              "      <td>Seeking to restore humanity's diminishing hope, the Survey Corps embark on a mission to retake Wall Maria, where the battle against the merciless \"Titans\" takes the stage once again. Returning to the tattered Shiganshina District that was once his home, Eren Yeager and the Corps find the town oddly unoccupied by Titans. Even after the outer gate is plugged, they strangely encounter no opposition. The mission progresses smoothly until Armin Arlert, highly suspicious of the enemy's absence, discovers distressing signs of a potential scheme against them. Shingeki no Kyojin Season 3 Part 2 follows Eren as he vows to take back everything that was once his. Alongside him, the Survey Corps strive—through countless sacrifices—to carve a path towards victory and uncover the secrets locked away in the Yeager family's basement.</td>\n",
              "      <td>4</td>\n",
              "    </tr>\n",
              "    <tr>\n",
              "      <th>8879</th>\n",
              "      <td>28977</td>\n",
              "      <td>Gintama°</td>\n",
              "      <td>9.1</td>\n",
              "      <td>Action, Comedy, Historical, Parody, Samurai, Sci-Fi, Shounen</td>\n",
              "      <td>Gintoki, Shinpachi, and Kagura return as the fun-loving but broke members of the Yorozuya team! Living in an alternate-reality Edo, where swords are prohibited and alien overlords have conquered Japan, they try to thrive on doing whatever work they can get their hands on. However, Shinpachi and Kagura still haven't been paid... Does Gin-chan really spend all that cash playing pachinko? Meanwhile, when Gintoki drunkenly staggers home one night, an alien spaceship crashes nearby. A fatally injured crew member emerges from the ship and gives Gintoki a strange, clock-shaped device, warning him that it is incredibly powerful and must be safeguarded. Mistaking it for his alarm clock, Gintoki proceeds to smash the device the next morning and suddenly discovers that the world outside his apartment has come to a standstill. With Kagura and Shinpachi at his side, he sets off to get the device fixed; though, as usual, nothing is ever that simple for the Yorozuya team. Filled with tongue-in-cheek humor and moments of heartfelt emotion, Gintama 's fourth season finds Gintoki and his friends facing both their most hilarious misadventures and most dangerous crises yet.</td>\n",
              "      <td>5</td>\n",
              "    </tr>\n",
              "    <tr>\n",
              "      <th>...</th>\n",
              "      <td>...</td>\n",
              "      <td>...</td>\n",
              "      <td>...</td>\n",
              "      <td>...</td>\n",
              "      <td>...</td>\n",
              "      <td>...</td>\n",
              "    </tr>\n",
              "    <tr>\n",
              "      <th>193</th>\n",
              "      <td>225</td>\n",
              "      <td>Dragon Ball GT</td>\n",
              "      <td>6.48</td>\n",
              "      <td>Action, Sci-Fi, Adventure, Comedy, Super Power, Magic, Fantasy, Shounen</td>\n",
              "      <td>Emperor Pilaf finally has his hands on the Black Star Dragon Balls after years of searching, which are said to be twice as powerful as Earth's normal ones. Pilaf is about to make his wish for world domination when he is interrupted by Gokuu Son. As a result, Pilaf flubs his wish and accidentally turns Gokuu back into a child. After the wish is granted, the Black Star Dragon Balls scatter across the galaxy. However, Gokuu discovers that they will cause the Earth to explode unless they are all brought back within a year. Uniting with his granddaughter Pan and a young adult Trunks, Gokuu sets off on an adventure through the universe to find the Black Star Dragon Balls and save his planet from destruction.</td>\n",
              "      <td>5996</td>\n",
              "    </tr>\n",
              "    <tr>\n",
              "      <th>11763</th>\n",
              "      <td>35237</td>\n",
              "      <td>Hajimete no Gal: Hajimete no Bunkasai</td>\n",
              "      <td>6.48</td>\n",
              "      <td>Comedy, Romance, Ecchi, School, Shounen</td>\n",
              "      <td>Bundled with the limited edition 5th volume of the Hajimete no Gal manga.</td>\n",
              "      <td>5997</td>\n",
              "    </tr>\n",
              "    <tr>\n",
              "      <th>367</th>\n",
              "      <td>402</td>\n",
              "      <td>Otogi Juushi Akazukin OVA</td>\n",
              "      <td>6.48</td>\n",
              "      <td>Adventure, Comedy, Magic, Fantasy</td>\n",
              "      <td>ong, long time ago there where both science and magic in the human world. But God became afraid of the Human's unlimited potential, so he divided the world into two and sealed them apart. One world with magic and the other one with science. Suzukaze Souta is a normal boy except that he has the Key in his body to break the Seal. The evil witch Cendrillon want that power and tries to take it. Akazukin and Val, a silver wolf, came from the magic-world to prevent her from that. A grand story of a boy who will lead a checkered life and girls in fairly lands has just begun. (Source: AniDB)</td>\n",
              "      <td>5998</td>\n",
              "    </tr>\n",
              "    <tr>\n",
              "      <th>7031</th>\n",
              "      <td>18799</td>\n",
              "      <td>Take Your Way</td>\n",
              "      <td>6.48</td>\n",
              "      <td>Action, Supernatural, Music, Seinen</td>\n",
              "      <td>animated music video for the song \"Take Your Way\" by livetune adding Fukase (from SEKAI NO OWARI). The song is also used as the opening theme for Devil Survivor 2 The Animation.</td>\n",
              "      <td>5999</td>\n",
              "    </tr>\n",
              "    <tr>\n",
              "      <th>11323</th>\n",
              "      <td>34525</td>\n",
              "      <td>Centaur no Nayami</td>\n",
              "      <td>6.48</td>\n",
              "      <td>Slice of Life, Comedy, Fantasy, School, Seinen</td>\n",
              "      <td>Himeno is a sweet, shy little centaur girl. In her world, everyone seems to be a supernatural creature, and all her classmates have some kind of horns, wings, tails, halos, or other visible supernatural body part. Despite their supernatural elements, Himeno and her best friends, Nozomi and Kyouko, have a fun and mostly normal daily school life! (Source: MangaHelpers)</td>\n",
              "      <td>6000</td>\n",
              "    </tr>\n",
              "  </tbody>\n",
              "</table>\n",
              "<p>6000 rows × 6 columns</p>\n",
              "</div>"
            ],
            "text/plain": [
              "       MAL_ID  ... new_id\n",
              "3446     5114  ...      1\n",
              "14647   40028  ...      2\n",
              "4953     9253  ...      3\n",
              "13720   38524  ...      4\n",
              "8879    28977  ...      5\n",
              "...       ...  ...    ...\n",
              "193       225  ...   5996\n",
              "11763   35237  ...   5997\n",
              "367       402  ...   5998\n",
              "7031    18799  ...   5999\n",
              "11323   34525  ...   6000\n",
              "\n",
              "[6000 rows x 6 columns]"
            ]
          },
          "execution_count": 7,
          "metadata": {},
          "output_type": "execute_result"
        }
      ],
      "source": [
        "pd.set_option('max_colwidt', None)\n",
        "df['new_id']= np.arange(1, 6001)\n",
        "df"
      ]
    },
    {
      "cell_type": "code",
      "execution_count": null,
      "metadata": {
        "colab": {
          "base_uri": "https://localhost:8080/"
        },
        "id": "51c-_CH9dMes",
        "outputId": "eb60da71-d27f-4e0b-cee7-e17fef1b91e8"
      },
      "outputs": [
        {
          "data": {
            "text/plain": [
              "(6000, 6)"
            ]
          },
          "execution_count": 8,
          "metadata": {},
          "output_type": "execute_result"
        }
      ],
      "source": [
        "df.shape"
      ]
    },
    {
      "cell_type": "code",
      "execution_count": null,
      "metadata": {
        "colab": {
          "base_uri": "https://localhost:8080/"
        },
        "id": "-i0f5hLQo4kU",
        "outputId": "c06a5e68-26fa-4ca7-802a-b4c2f9bfaffe"
      },
      "outputs": [
        {
          "name": "stdout",
          "output_type": "stream",
          "text": [
            "<class 'pandas.core.frame.DataFrame'>\n",
            "Int64Index: 6000 entries, 3446 to 11323\n",
            "Data columns (total 6 columns):\n",
            " #   Column     Non-Null Count  Dtype \n",
            "---  ------     --------------  ----- \n",
            " 0   MAL_ID     6000 non-null   int64 \n",
            " 1   Name       6000 non-null   object\n",
            " 2   Score      6000 non-null   object\n",
            " 3   Genres     6000 non-null   object\n",
            " 4   sypnopsis  6000 non-null   object\n",
            " 5   new_id     6000 non-null   int64 \n",
            "dtypes: int64(2), object(4)\n",
            "memory usage: 328.1+ KB\n"
          ]
        }
      ],
      "source": [
        "df.info()"
      ]
    },
    {
      "cell_type": "markdown",
      "metadata": {
        "id": "5BfIaMvqTISd"
      },
      "source": [
        "![image.png](data:image/png;base64,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)"
      ]
    },
    {
      "cell_type": "code",
      "execution_count": null,
      "metadata": {
        "id": "wSUgSmVfYQhd"
      },
      "outputs": [],
      "source": [
        "# Convert words into lowercase\n",
        "df['sypnopsis'] = df['sypnopsis'].str.lower()"
      ]
    },
    {
      "cell_type": "code",
      "execution_count": null,
      "metadata": {
        "colab": {
          "base_uri": "https://localhost:8080/"
        },
        "id": "Wdk0PNImlpkF",
        "outputId": "8246cda5-7c0f-4f5c-ced0-79e6538c155e"
      },
      "outputs": [
        {
          "name": "stdout",
          "output_type": "stream",
          "text": [
            "\u001b[38;5;2m✔ Download and installation successful\u001b[0m\n",
            "You can now load the model via spacy.load('en_core_web_md')\n"
          ]
        }
      ],
      "source": [
        "model = \"en_core_web_md\"\n",
        "cli.download(model)\n",
        "\n",
        "nlp = spacy.load(model)"
      ]
    },
    {
      "cell_type": "code",
      "execution_count": null,
      "metadata": {
        "id": "A2O_at80Y75J"
      },
      "outputs": [],
      "source": [
        "# # Remove all words that are not alphabet (including japanese words and punctuations)\n",
        "pd.set_option('max_colwidt', None)\n",
        "df['sypnopsis'] = df['sypnopsis'].str.replace('—', ' ')\n",
        "df['sypnopsis'] = df['sypnopsis'].str.replace('[^a-zA-Z\\ ]', '')"
      ]
    },
    {
      "cell_type": "code",
      "execution_count": null,
      "metadata": {
        "id": "7PDGMDkGZ8Z6"
      },
      "outputs": [],
      "source": [
        "# Remove all English stopwords\n",
        "STOPWORDS = list(stopwords.words('english'))\n",
        "# We will add this to the countvectorizer param later"
      ]
    },
    {
      "cell_type": "code",
      "execution_count": null,
      "metadata": {
        "id": "YXD43o8x582a"
      },
      "outputs": [],
      "source": [
        "# Lemmatization\n",
        "nlp = spacy.load('en')\n",
        "\n",
        "df['sypnopsis'] = df['sypnopsis'].apply(lambda row: \" \".join([w.lemma_ for w in nlp(row)]))\n",
        "df['sypnopsis'] = df['sypnopsis'].str.replace('-PRON-', '')"
      ]
    },
    {
      "cell_type": "code",
      "execution_count": null,
      "metadata": {
        "colab": {
          "base_uri": "https://localhost:8080/",
          "height": 290
        },
        "id": "jaSCYIy0ey7e",
        "outputId": "0fd520e7-d928-482f-f4ec-941d502a26eb"
      },
      "outputs": [
        {
          "name": "stderr",
          "output_type": "stream",
          "text": [
            "/usr/local/lib/python3.7/dist-packages/sklearn/utils/deprecation.py:87: FutureWarning: Function get_feature_names is deprecated; get_feature_names is deprecated in 1.0 and will be removed in 1.2. Please use get_feature_names_out instead.\n",
            "  warnings.warn(msg, category=FutureWarning)\n"
          ]
        },
        {
          "data": {
            "text/html": [
              "<div>\n",
              "<style scoped>\n",
              "    .dataframe tbody tr th:only-of-type {\n",
              "        vertical-align: middle;\n",
              "    }\n",
              "\n",
              "    .dataframe tbody tr th {\n",
              "        vertical-align: top;\n",
              "    }\n",
              "\n",
              "    .dataframe thead th {\n",
              "        text-align: right;\n",
              "    }\n",
              "</style>\n",
              "<table border=\"1\" class=\"dataframe\">\n",
              "  <thead>\n",
              "    <tr style=\"text-align: right;\">\n",
              "      <th></th>\n",
              "      <th>aa</th>\n",
              "      <th>aaa</th>\n",
              "      <th>aachi</th>\n",
              "      <th>aarinfantasy</th>\n",
              "      <th>aaron</th>\n",
              "      <th>aasu</th>\n",
              "      <th>aback</th>\n",
              "      <th>abandon</th>\n",
              "      <th>abandoned</th>\n",
              "      <th>abarai</th>\n",
              "      <th>abarenbou</th>\n",
              "      <th>abash</th>\n",
              "      <th>abbott</th>\n",
              "      <th>abbreviate</th>\n",
              "      <th>abduct</th>\n",
              "      <th>abducted</th>\n",
              "      <th>abduction</th>\n",
              "      <th>abductor</th>\n",
              "      <th>abducts</th>\n",
              "      <th>abdul</th>\n",
              "      <th>abdullah</th>\n",
              "      <th>abe</th>\n",
              "      <th>abel</th>\n",
              "      <th>abema</th>\n",
              "      <th>abematv</th>\n",
              "      <th>abeno</th>\n",
              "      <th>abenobashi</th>\n",
              "      <th>abenos</th>\n",
              "      <th>aberrant</th>\n",
              "      <th>aberration</th>\n",
              "      <th>abh</th>\n",
              "      <th>abhor</th>\n",
              "      <th>abide</th>\n",
              "      <th>abigail</th>\n",
              "      <th>abilitie</th>\n",
              "      <th>ability</th>\n",
              "      <th>abillity</th>\n",
              "      <th>abiru</th>\n",
              "      <th>ablaze</th>\n",
              "      <th>able</th>\n",
              "      <th>...</th>\n",
              "      <th>zoo</th>\n",
              "      <th>zoom</th>\n",
              "      <th>zor</th>\n",
              "      <th>zora</th>\n",
              "      <th>zorbados</th>\n",
              "      <th>zordar</th>\n",
              "      <th>zorndyke</th>\n",
              "      <th>zorndykes</th>\n",
              "      <th>zoro</th>\n",
              "      <th>zoroark</th>\n",
              "      <th>zorocia</th>\n",
              "      <th>zorori</th>\n",
              "      <th>zorro</th>\n",
              "      <th>zorua</th>\n",
              "      <th>zoruas</th>\n",
              "      <th>zouroku</th>\n",
              "      <th>zre</th>\n",
              "      <th>zs</th>\n",
              "      <th>zu</th>\n",
              "      <th>zuberg</th>\n",
              "      <th>zubu</th>\n",
              "      <th>zuellni</th>\n",
              "      <th>zuerst</th>\n",
              "      <th>zufu</th>\n",
              "      <th>zuho</th>\n",
              "      <th>zuisouroku</th>\n",
              "      <th>zukan</th>\n",
              "      <th>zuki</th>\n",
              "      <th>zum</th>\n",
              "      <th>zun</th>\n",
              "      <th>zundar</th>\n",
              "      <th>zuo</th>\n",
              "      <th>zuru</th>\n",
              "      <th>zusa</th>\n",
              "      <th>zutto</th>\n",
              "      <th>zuuma</th>\n",
              "      <th>zvezda</th>\n",
              "      <th>zwei</th>\n",
              "      <th>zygarde</th>\n",
              "      <th>zz</th>\n",
              "    </tr>\n",
              "  </thead>\n",
              "  <tbody>\n",
              "    <tr>\n",
              "      <th>0</th>\n",
              "      <td>0</td>\n",
              "      <td>0</td>\n",
              "      <td>0</td>\n",
              "      <td>0</td>\n",
              "      <td>0</td>\n",
              "      <td>0</td>\n",
              "      <td>0</td>\n",
              "      <td>0</td>\n",
              "      <td>0</td>\n",
              "      <td>0</td>\n",
              "      <td>0</td>\n",
              "      <td>0</td>\n",
              "      <td>0</td>\n",
              "      <td>0</td>\n",
              "      <td>0</td>\n",
              "      <td>0</td>\n",
              "      <td>0</td>\n",
              "      <td>0</td>\n",
              "      <td>0</td>\n",
              "      <td>0</td>\n",
              "      <td>0</td>\n",
              "      <td>0</td>\n",
              "      <td>0</td>\n",
              "      <td>0</td>\n",
              "      <td>0</td>\n",
              "      <td>0</td>\n",
              "      <td>0</td>\n",
              "      <td>0</td>\n",
              "      <td>0</td>\n",
              "      <td>0</td>\n",
              "      <td>0</td>\n",
              "      <td>0</td>\n",
              "      <td>0</td>\n",
              "      <td>0</td>\n",
              "      <td>0</td>\n",
              "      <td>0</td>\n",
              "      <td>0</td>\n",
              "      <td>0</td>\n",
              "      <td>0</td>\n",
              "      <td>1</td>\n",
              "      <td>...</td>\n",
              "      <td>0</td>\n",
              "      <td>0</td>\n",
              "      <td>0</td>\n",
              "      <td>0</td>\n",
              "      <td>0</td>\n",
              "      <td>0</td>\n",
              "      <td>0</td>\n",
              "      <td>0</td>\n",
              "      <td>0</td>\n",
              "      <td>0</td>\n",
              "      <td>0</td>\n",
              "      <td>0</td>\n",
              "      <td>0</td>\n",
              "      <td>0</td>\n",
              "      <td>0</td>\n",
              "      <td>0</td>\n",
              "      <td>0</td>\n",
              "      <td>0</td>\n",
              "      <td>0</td>\n",
              "      <td>0</td>\n",
              "      <td>0</td>\n",
              "      <td>0</td>\n",
              "      <td>0</td>\n",
              "      <td>0</td>\n",
              "      <td>0</td>\n",
              "      <td>0</td>\n",
              "      <td>0</td>\n",
              "      <td>0</td>\n",
              "      <td>0</td>\n",
              "      <td>0</td>\n",
              "      <td>0</td>\n",
              "      <td>0</td>\n",
              "      <td>0</td>\n",
              "      <td>0</td>\n",
              "      <td>0</td>\n",
              "      <td>0</td>\n",
              "      <td>0</td>\n",
              "      <td>0</td>\n",
              "      <td>0</td>\n",
              "      <td>0</td>\n",
              "    </tr>\n",
              "    <tr>\n",
              "      <th>1</th>\n",
              "      <td>0</td>\n",
              "      <td>0</td>\n",
              "      <td>0</td>\n",
              "      <td>0</td>\n",
              "      <td>0</td>\n",
              "      <td>0</td>\n",
              "      <td>0</td>\n",
              "      <td>0</td>\n",
              "      <td>0</td>\n",
              "      <td>0</td>\n",
              "      <td>0</td>\n",
              "      <td>0</td>\n",
              "      <td>0</td>\n",
              "      <td>0</td>\n",
              "      <td>0</td>\n",
              "      <td>0</td>\n",
              "      <td>0</td>\n",
              "      <td>0</td>\n",
              "      <td>0</td>\n",
              "      <td>0</td>\n",
              "      <td>0</td>\n",
              "      <td>0</td>\n",
              "      <td>0</td>\n",
              "      <td>0</td>\n",
              "      <td>0</td>\n",
              "      <td>0</td>\n",
              "      <td>0</td>\n",
              "      <td>0</td>\n",
              "      <td>0</td>\n",
              "      <td>0</td>\n",
              "      <td>0</td>\n",
              "      <td>0</td>\n",
              "      <td>0</td>\n",
              "      <td>0</td>\n",
              "      <td>0</td>\n",
              "      <td>0</td>\n",
              "      <td>0</td>\n",
              "      <td>0</td>\n",
              "      <td>0</td>\n",
              "      <td>0</td>\n",
              "      <td>...</td>\n",
              "      <td>0</td>\n",
              "      <td>0</td>\n",
              "      <td>0</td>\n",
              "      <td>0</td>\n",
              "      <td>0</td>\n",
              "      <td>0</td>\n",
              "      <td>0</td>\n",
              "      <td>0</td>\n",
              "      <td>0</td>\n",
              "      <td>0</td>\n",
              "      <td>0</td>\n",
              "      <td>0</td>\n",
              "      <td>0</td>\n",
              "      <td>0</td>\n",
              "      <td>0</td>\n",
              "      <td>0</td>\n",
              "      <td>0</td>\n",
              "      <td>0</td>\n",
              "      <td>0</td>\n",
              "      <td>0</td>\n",
              "      <td>0</td>\n",
              "      <td>0</td>\n",
              "      <td>0</td>\n",
              "      <td>0</td>\n",
              "      <td>0</td>\n",
              "      <td>0</td>\n",
              "      <td>0</td>\n",
              "      <td>0</td>\n",
              "      <td>0</td>\n",
              "      <td>0</td>\n",
              "      <td>0</td>\n",
              "      <td>0</td>\n",
              "      <td>0</td>\n",
              "      <td>0</td>\n",
              "      <td>0</td>\n",
              "      <td>0</td>\n",
              "      <td>0</td>\n",
              "      <td>0</td>\n",
              "      <td>0</td>\n",
              "      <td>0</td>\n",
              "    </tr>\n",
              "    <tr>\n",
              "      <th>2</th>\n",
              "      <td>0</td>\n",
              "      <td>0</td>\n",
              "      <td>0</td>\n",
              "      <td>0</td>\n",
              "      <td>0</td>\n",
              "      <td>0</td>\n",
              "      <td>0</td>\n",
              "      <td>0</td>\n",
              "      <td>0</td>\n",
              "      <td>0</td>\n",
              "      <td>0</td>\n",
              "      <td>0</td>\n",
              "      <td>0</td>\n",
              "      <td>0</td>\n",
              "      <td>0</td>\n",
              "      <td>0</td>\n",
              "      <td>0</td>\n",
              "      <td>0</td>\n",
              "      <td>0</td>\n",
              "      <td>0</td>\n",
              "      <td>0</td>\n",
              "      <td>0</td>\n",
              "      <td>0</td>\n",
              "      <td>0</td>\n",
              "      <td>0</td>\n",
              "      <td>0</td>\n",
              "      <td>0</td>\n",
              "      <td>0</td>\n",
              "      <td>0</td>\n",
              "      <td>0</td>\n",
              "      <td>0</td>\n",
              "      <td>0</td>\n",
              "      <td>0</td>\n",
              "      <td>0</td>\n",
              "      <td>0</td>\n",
              "      <td>0</td>\n",
              "      <td>0</td>\n",
              "      <td>0</td>\n",
              "      <td>0</td>\n",
              "      <td>0</td>\n",
              "      <td>...</td>\n",
              "      <td>0</td>\n",
              "      <td>0</td>\n",
              "      <td>0</td>\n",
              "      <td>0</td>\n",
              "      <td>0</td>\n",
              "      <td>0</td>\n",
              "      <td>0</td>\n",
              "      <td>0</td>\n",
              "      <td>0</td>\n",
              "      <td>0</td>\n",
              "      <td>0</td>\n",
              "      <td>0</td>\n",
              "      <td>0</td>\n",
              "      <td>0</td>\n",
              "      <td>0</td>\n",
              "      <td>0</td>\n",
              "      <td>0</td>\n",
              "      <td>0</td>\n",
              "      <td>0</td>\n",
              "      <td>0</td>\n",
              "      <td>0</td>\n",
              "      <td>0</td>\n",
              "      <td>0</td>\n",
              "      <td>0</td>\n",
              "      <td>0</td>\n",
              "      <td>0</td>\n",
              "      <td>0</td>\n",
              "      <td>0</td>\n",
              "      <td>0</td>\n",
              "      <td>0</td>\n",
              "      <td>0</td>\n",
              "      <td>0</td>\n",
              "      <td>0</td>\n",
              "      <td>0</td>\n",
              "      <td>0</td>\n",
              "      <td>0</td>\n",
              "      <td>0</td>\n",
              "      <td>0</td>\n",
              "      <td>0</td>\n",
              "      <td>0</td>\n",
              "    </tr>\n",
              "    <tr>\n",
              "      <th>3</th>\n",
              "      <td>0</td>\n",
              "      <td>0</td>\n",
              "      <td>0</td>\n",
              "      <td>0</td>\n",
              "      <td>0</td>\n",
              "      <td>0</td>\n",
              "      <td>0</td>\n",
              "      <td>0</td>\n",
              "      <td>0</td>\n",
              "      <td>0</td>\n",
              "      <td>0</td>\n",
              "      <td>0</td>\n",
              "      <td>0</td>\n",
              "      <td>0</td>\n",
              "      <td>0</td>\n",
              "      <td>0</td>\n",
              "      <td>0</td>\n",
              "      <td>0</td>\n",
              "      <td>0</td>\n",
              "      <td>0</td>\n",
              "      <td>0</td>\n",
              "      <td>0</td>\n",
              "      <td>0</td>\n",
              "      <td>0</td>\n",
              "      <td>0</td>\n",
              "      <td>0</td>\n",
              "      <td>0</td>\n",
              "      <td>0</td>\n",
              "      <td>0</td>\n",
              "      <td>0</td>\n",
              "      <td>0</td>\n",
              "      <td>0</td>\n",
              "      <td>0</td>\n",
              "      <td>0</td>\n",
              "      <td>0</td>\n",
              "      <td>0</td>\n",
              "      <td>0</td>\n",
              "      <td>0</td>\n",
              "      <td>0</td>\n",
              "      <td>0</td>\n",
              "      <td>...</td>\n",
              "      <td>0</td>\n",
              "      <td>0</td>\n",
              "      <td>0</td>\n",
              "      <td>0</td>\n",
              "      <td>0</td>\n",
              "      <td>0</td>\n",
              "      <td>0</td>\n",
              "      <td>0</td>\n",
              "      <td>0</td>\n",
              "      <td>0</td>\n",
              "      <td>0</td>\n",
              "      <td>0</td>\n",
              "      <td>0</td>\n",
              "      <td>0</td>\n",
              "      <td>0</td>\n",
              "      <td>0</td>\n",
              "      <td>0</td>\n",
              "      <td>0</td>\n",
              "      <td>0</td>\n",
              "      <td>0</td>\n",
              "      <td>0</td>\n",
              "      <td>0</td>\n",
              "      <td>0</td>\n",
              "      <td>0</td>\n",
              "      <td>0</td>\n",
              "      <td>0</td>\n",
              "      <td>0</td>\n",
              "      <td>0</td>\n",
              "      <td>0</td>\n",
              "      <td>0</td>\n",
              "      <td>0</td>\n",
              "      <td>0</td>\n",
              "      <td>0</td>\n",
              "      <td>0</td>\n",
              "      <td>0</td>\n",
              "      <td>0</td>\n",
              "      <td>0</td>\n",
              "      <td>0</td>\n",
              "      <td>0</td>\n",
              "      <td>0</td>\n",
              "    </tr>\n",
              "    <tr>\n",
              "      <th>4</th>\n",
              "      <td>0</td>\n",
              "      <td>0</td>\n",
              "      <td>0</td>\n",
              "      <td>0</td>\n",
              "      <td>0</td>\n",
              "      <td>0</td>\n",
              "      <td>0</td>\n",
              "      <td>0</td>\n",
              "      <td>0</td>\n",
              "      <td>0</td>\n",
              "      <td>0</td>\n",
              "      <td>0</td>\n",
              "      <td>0</td>\n",
              "      <td>0</td>\n",
              "      <td>0</td>\n",
              "      <td>0</td>\n",
              "      <td>0</td>\n",
              "      <td>0</td>\n",
              "      <td>0</td>\n",
              "      <td>0</td>\n",
              "      <td>0</td>\n",
              "      <td>0</td>\n",
              "      <td>0</td>\n",
              "      <td>0</td>\n",
              "      <td>0</td>\n",
              "      <td>0</td>\n",
              "      <td>0</td>\n",
              "      <td>0</td>\n",
              "      <td>0</td>\n",
              "      <td>0</td>\n",
              "      <td>0</td>\n",
              "      <td>0</td>\n",
              "      <td>0</td>\n",
              "      <td>0</td>\n",
              "      <td>0</td>\n",
              "      <td>0</td>\n",
              "      <td>0</td>\n",
              "      <td>0</td>\n",
              "      <td>0</td>\n",
              "      <td>0</td>\n",
              "      <td>...</td>\n",
              "      <td>0</td>\n",
              "      <td>0</td>\n",
              "      <td>0</td>\n",
              "      <td>0</td>\n",
              "      <td>0</td>\n",
              "      <td>0</td>\n",
              "      <td>0</td>\n",
              "      <td>0</td>\n",
              "      <td>0</td>\n",
              "      <td>0</td>\n",
              "      <td>0</td>\n",
              "      <td>0</td>\n",
              "      <td>0</td>\n",
              "      <td>0</td>\n",
              "      <td>0</td>\n",
              "      <td>0</td>\n",
              "      <td>0</td>\n",
              "      <td>0</td>\n",
              "      <td>0</td>\n",
              "      <td>0</td>\n",
              "      <td>0</td>\n",
              "      <td>0</td>\n",
              "      <td>0</td>\n",
              "      <td>0</td>\n",
              "      <td>0</td>\n",
              "      <td>0</td>\n",
              "      <td>0</td>\n",
              "      <td>0</td>\n",
              "      <td>0</td>\n",
              "      <td>0</td>\n",
              "      <td>0</td>\n",
              "      <td>0</td>\n",
              "      <td>0</td>\n",
              "      <td>0</td>\n",
              "      <td>0</td>\n",
              "      <td>0</td>\n",
              "      <td>0</td>\n",
              "      <td>0</td>\n",
              "      <td>0</td>\n",
              "      <td>0</td>\n",
              "    </tr>\n",
              "  </tbody>\n",
              "</table>\n",
              "<p>5 rows × 28720 columns</p>\n",
              "</div>"
            ],
            "text/plain": [
              "   aa  aaa  aachi  aarinfantasy  aaron  ...  zuuma  zvezda  zwei  zygarde  zz\n",
              "0   0    0      0             0      0  ...      0       0     0        0   0\n",
              "1   0    0      0             0      0  ...      0       0     0        0   0\n",
              "2   0    0      0             0      0  ...      0       0     0        0   0\n",
              "3   0    0      0             0      0  ...      0       0     0        0   0\n",
              "4   0    0      0             0      0  ...      0       0     0        0   0\n",
              "\n",
              "[5 rows x 28720 columns]"
            ]
          },
          "execution_count": 18,
          "metadata": {},
          "output_type": "execute_result"
        }
      ],
      "source": [
        "#fit transform from text column to make dtm\n",
        "\n",
        "cv = CountVectorizer(stop_words=STOPWORDS)\n",
        "dtm = cv.fit_transform(df['sypnopsis'])\n",
        "cv.vocabulary_\n",
        "dtm.toarray()[:5, :5]\n",
        "\n",
        "dtm_df = pd.DataFrame(dtm.toarray(), columns=cv.get_feature_names())\n",
        "dtm_df.head()"
      ]
    },
    {
      "cell_type": "code",
      "execution_count": null,
      "metadata": {
        "colab": {
          "base_uri": "https://localhost:8080/"
        },
        "id": "Da2Y0bWXrale",
        "outputId": "3cd7d771-58d2-4a05-f2ac-fc74c23f58ea"
      },
      "outputs": [
        {
          "data": {
            "text/plain": [
              "28720"
            ]
          },
          "execution_count": 19,
          "metadata": {},
          "output_type": "execute_result"
        }
      ],
      "source": [
        "len(cv.vocabulary_)"
      ]
    },
    {
      "cell_type": "markdown",
      "metadata": {
        "id": "DhpDvWCIe9YG"
      },
      "source": [
        "### Cosine similarity\n",
        "\n",
        "\n"
      ]
    },
    {
      "cell_type": "code",
      "execution_count": null,
      "metadata": {
        "colab": {
          "base_uri": "https://localhost:8080/"
        },
        "id": "yQB2zsg_fDgr",
        "outputId": "b7666188-3df3-4f74-cef3-451e17baa563"
      },
      "outputs": [
        {
          "data": {
            "text/plain": [
              "array([[1.        , 0.0369914 , 0.04850534, ..., 0.09598157, 0.01531589,\n",
              "        0.02092549],\n",
              "       [0.0369914 , 1.        , 0.02731792, ..., 0.14414999, 0.        ,\n",
              "        0.06285394],\n",
              "       [0.04850534, 0.02731792, 1.        , ..., 0.04922347, 0.01885115,\n",
              "        0.01287779],\n",
              "       ...,\n",
              "       [0.09598157, 0.14414999, 0.04922347, ..., 1.        , 0.02486824,\n",
              "        0.13590592],\n",
              "       [0.01531589, 0.        , 0.01885115, ..., 0.02486824, 1.        ,\n",
              "        0.        ],\n",
              "       [0.02092549, 0.06285394, 0.01287779, ..., 0.13590592, 0.        ,\n",
              "        1.        ]])"
            ]
          },
          "execution_count": 20,
          "metadata": {},
          "output_type": "execute_result"
        }
      ],
      "source": [
        "cs = cosine_similarity(dtm)\n",
        "# Let's try seeing it out\n",
        "cs"
      ]
    },
    {
      "cell_type": "code",
      "execution_count": null,
      "metadata": {
        "colab": {
          "base_uri": "https://localhost:8080/"
        },
        "id": "T7guEOCT_Ufn",
        "outputId": "c9194ce3-f7b0-4c49-c1ff-02b97ef7310d"
      },
      "outputs": [
        {
          "name": "stdout",
          "output_type": "stream",
          "text": [
            "1\n"
          ]
        }
      ],
      "source": [
        "# Get the title of the anime that user likes\n",
        "title = 'Fullmetal Alchemist: Brotherhood'\n",
        "\n",
        "# Find the title id\n",
        "anime_id = df[df['Name'] == title]['new_id'].values[0]\n",
        "print(anime_id)\n",
        "\n"
      ]
    },
    {
      "cell_type": "code",
      "execution_count": null,
      "metadata": {
        "colab": {
          "base_uri": "https://localhost:8080/"
        },
        "id": "NTCaNr6jtL3t",
        "outputId": "9210f36d-7159-49a7-bc41-4c463beeeb8f"
      },
      "outputs": [
        {
          "name": "stdout",
          "output_type": "stream",
          "text": [
            "[(1, 0.999999999999999), (891, 0.31278103893903675), (120, 0.297226442770842), (73, 0.26600795837367097), (3, 0.24444444444444444), (113, 0.23783535600422523), (2974, 0.2140537663559785), (1102, 0.20433447413392491), (2858, 0.20289921431117264), (5112, 0.20108311560592995), (3425, 0.1978141420187361), (839, 0.18973665961010278), (1827, 0.18675981112953638), (2248, 0.18164975363768868), (164, 0.18108375938575813), (4291, 0.1803209153582371), (4834, 0.17690759253434063), (3433, 0.17303618253948005), (317, 0.17085642859406608), (3126, 0.16735967034880078), (5758, 0.16329931618554522), (3245, 0.16265001215808886), (3732, 0.1619823647168121), (771, 0.1606728931832706), (2639, 0.16035674514745463), (418, 0.15811388300841897), (2141, 0.15689290811054724), (1361, 0.1545175115501844), (3718, 0.1542271319530149), (2280, 0.15422713195301488), (1044, 0.1539600717839002), (2085, 0.15391767605907491), (4103, 0.15357377920848778), (4544, 0.1532064692570853), (3350, 0.15214515486254615), (3566, 0.15041219580846837), (1756, 0.14983763644918496), (170, 0.14965694220435033), (2092, 0.14953343588376805), (5804, 0.14907119849998599), (3146, 0.14847846772912465), (2356, 0.14691375911784224), (3057, 0.14617633655117154), (5551, 0.14608349669642587), (5445, 0.14605934866804426), (2548, 0.14540795566494302), (2960, 0.14509525002200233), (5575, 0.14509525002200233), (4957, 0.14416296030856207), (5997, 0.14414999403128942), (1925, 0.14373989364401724), (5391, 0.14301938838683884), (1739, 0.142313613392964), (198, 0.14122602277911425), (3873, 0.14085904245475278), (5744, 0.14054567378526128), (107, 0.1395400055924234), (126, 0.1395036897765771), (4371, 0.13931279317619094), (5113, 0.13921151159742612), (4157, 0.13884202690012465), (55, 0.13762047064079508), (1112, 0.13710212427677043), (3731, 0.1370320319406298), (3219, 0.13693063937629155), (129, 0.13664859862498716), (217, 0.13664859862498716), (793, 0.13658959117703828), (3991, 0.13657543608179562), (5698, 0.13608276348795434), (3309, 0.13507386680979225), (852, 0.13503191561115555), (5702, 0.1348399724926484), (1312, 0.13459547551454137), (5642, 0.1343709624716425), (4928, 0.1340803046307982), (5803, 0.1340803046307982), (997, 0.13333333333333333), (44, 0.13291860967446048), (5109, 0.13284223283101426), (1651, 0.1325244279909818), (4415, 0.13247386544507767), (1049, 0.13247386544507764), (3165, 0.13187609467915742), (5836, 0.13176156917368248), (5964, 0.13176156917368248), (1529, 0.13176156917368245), (4760, 0.1315587028960544), (3862, 0.130454145610217), (2769, 0.1304372986874877), (3094, 0.1301200097264711), (5364, 0.12999626266117195), (955, 0.1293523333527109), (1371, 0.12909944487358058), (1591, 0.1287779015477093), (3111, 0.1287779015477093), (3467, 0.12824729401064427), (611, 0.12701057925542406), (3484, 0.1267731382092775), (5773, 0.12649110640673517), (3065, 0.12608167852216234), (3355, 0.1260800862902698), (1610, 0.1257078722109418), (1689, 0.12561705772469717), (2394, 0.12561705772469717), (1497, 0.1251697488500247), (571, 0.1250322955695868), (4699, 0.12499999999999999), (932, 0.12472191289246472), (1261, 0.1247219128924647), (2763, 0.12433397443204183), (2957, 0.12433397443204183), (2794, 0.12406297243467146), (330, 0.12403473458920848), (3027, 0.12403473458920847), (5439, 0.12403473458920847), (190, 0.1238404749013309), (5487, 0.12350804543889277), (1098, 0.1234661995811987), (3786, 0.12337220169960088), (1443, 0.12337220169960086), (5068, 0.12309149097933272), (2727, 0.12285902336679022), (3338, 0.12235505806429961), (228, 0.12159626554103464), (1415, 0.1215488164241626), (5159, 0.1213042238123418), (5769, 0.1213042238123418), (2252, 0.12115650656307651), (698, 0.12112034878123859), (1728, 0.12089647736852929), (5065, 0.12048289933537483), (3716, 0.12046772038736682), (3867, 0.12023473656039138), (5361, 0.12023473656039138), (3514, 0.12018504251546631), (222, 0.12009316961949504), (218, 0.12006004503753284), (3827, 0.11972544219903314), (1804, 0.11952286093343936), (3339, 0.11952286093343933), (4326, 0.11927107455535574), (654, 0.11899282346174592), (1865, 0.11899282346174592), (929, 0.11859467782747002), (1054, 0.11851136578499429), (1773, 0.11808198473867935), (3964, 0.11808198473867935), (2761, 0.1179535649239177), (2993, 0.1179535649239177), (4781, 0.1179535649239177), (4098, 0.11793839502289377), (1899, 0.11793839502289374), (1434, 0.1177295714957882), (1820, 0.11766968108291043), (4256, 0.11744404390294069), (3743, 0.11744404390294068), (5188, 0.11712139482105108), (2324, 0.11694106924093724), (3845, 0.11694106924093724), (3933, 0.11664941211260253), (270, 0.11653431646335018), (111, 0.11594426549998908), (5313, 0.11593472394004209), (3264, 0.11583259807015184), (5593, 0.11583259807015181), (5721, 0.11558806107754965), (4473, 0.11523511960911878), (316, 0.1149919149152138), (5588, 0.1149919149152138), (5489, 0.11475506210984938), (908, 0.11451966686277364), (4367, 0.1143323900950059), (1592, 0.11424910802245525), (2694, 0.11424910802245523), (735, 0.11405318970244022), (2328, 0.11379890847842623), (4526, 0.11370704872299224), (519, 0.11366572324507891), (788, 0.1136657232450789), (1306, 0.11359236684941296), (4280, 0.11359236684941296), (344, 0.11359236684941294), (1537, 0.1131370849898476), (3028, 0.11313708498984759), (833, 0.11302211504074856), (857, 0.11302211504074856), (3490, 0.11302211504074856), (1452, 0.11268723396380222), (1491, 0.11268723396380222), (4570, 0.11263963639717453), (3292, 0.11252332517309616), (3352, 0.11252332517309616), (3430, 0.11252332517309616), (5075, 0.11252332517309616), (1619, 0.11236664374387367), (5215, 0.11236664374387367), (3652, 0.11226101469934863), (1562, 0.11209327076121955), (3499, 0.11209327076121955), (534, 0.1118033988749895), (1685, 0.1118033988749895), (2816, 0.11169437554445213), (2108, 0.11157311356586716), (2065, 0.1113692092779409), (2555, 0.1112485398724962), (5826, 0.11123730207865243), (1118, 0.11114765480922503), (355, 0.1110601310161535), (423, 0.11106013101615349), (4095, 0.11094003924504584), (2181, 0.11051579279910752), (3987, 0.11042355814481886), (634, 0.11028219331407116), (3726, 0.11016316230980794), (2712, 0.10999438818457408), (1896, 0.10989674556596452), (5963, 0.10989674556596452), (105, 0.10956262252231942), (1743, 0.1095445115010332), (2415, 0.10930430596399215), (2193, 0.10907675483993376), (2543, 0.1090168311757693), (3808, 0.10886621079036347), (2121, 0.10886621079036346), (1961, 0.10872134550890702), (4406, 0.10872134550890702), (2273, 0.1085972942558336), (2917, 0.10846522890932808), (2498, 0.1081241011802579), (2044, 0.10811249552346706), (4126, 0.10811249552346706), (3978, 0.10799637036049915), (3061, 0.10797017735718879), (2220, 0.10762864093670327), (2817, 0.10762864093670327), (5724, 0.10762864093670327), (4065, 0.10709591052033318), (2650, 0.10700403963703888), (5977, 0.10690449676496976), (4048, 0.10690449676496974), (4533, 0.1067407934522567), (2813, 0.10673521004472303), (93, 0.10650160840378231), (953, 0.10629135653628222), (4947, 0.10629135653628222), (3488, 0.10624254305194608), (2079, 0.10594028769395471), (3569, 0.10588088747190669), (2317, 0.10540925533894598), (2792, 0.10540925533894598), (3128, 0.10540925533894598), (5081, 0.10540925533894598), (5663, 0.10540925533894598), (1176, 0.10540925533894596), (2779, 0.10540925533894596), (3308, 0.10540925533894596), (3579, 0.10540925533894596), (605, 0.10497636129087583), (1130, 0.1048861292545921), (4188, 0.1048861292545921), (5029, 0.10476454436543672), (5450, 0.10476454436543672), (1786, 0.1047645443654367), (2132, 0.10434983894999018), (4204, 0.10432810619146021), (497, 0.1041315201750935), (1801, 0.1041315201750935), (1927, 0.10412633627862855), (2137, 0.10412633627862855), (2777, 0.10412633627862855), (2012, 0.10397504898200727), (1796, 0.10386282547495931), (4365, 0.10386282547495931), (1565, 0.10379985922153638), (1117, 0.10370899457402695), (5336, 0.10350983390135314), (1153, 0.10336227882434039), (2789, 0.10336227882434039), (3450, 0.10336227882434039), (3842, 0.10336227882434039), (4131, 0.10336227882434039), (5924, 0.10336227882434039), (5289, 0.10336227882434038), (1378, 0.10332173664634443), (2489, 0.10332173664634443), (392, 0.10302232123816744), (2055, 0.10302232123816744), (3497, 0.10302232123816744), (5380, 0.10302232123816744), (4360, 0.10294525943097427), (926, 0.10289915108550532), (3589, 0.10289915108550529), (1411, 0.10286889997472795), (4218, 0.10286889997472795), (861, 0.10270985034699505), (2975, 0.10242254950353084), (1127, 0.10238251947232518), (4189, 0.10238251947232518), (5052, 0.10229915092057103), (4509, 0.10229915092057101), (5869, 0.10229915092057099), (849, 0.10226199851298273), (5718, 0.10226199851298273), (661, 0.10226199851298272), (890, 0.10226199851298272), (5427, 0.1020884418381125), (1942, 0.10208844183811248), (1972, 0.10169503597462536), (1341, 0.10169503597462534), (3379, 0.10169503597462534), (5699, 0.10135352331138286), (1108, 0.10130614339918191), (5329, 0.1013061433991819), (2393, 0.10129699281263996), (207, 0.10127393670836665), (1703, 0.1011524322414509), (1851, 0.10115243224145089), (1155, 0.10096375546923045), (445, 0.1009216784699164), (1201, 0.1009216784699164), (2553, 0.1009216784699164), (569, 0.10056022847309865), (65, 0.10047676074803646), (1965, 0.1004106793461182), (2107, 0.10031397251510385), (5303, 0.10020774618029074), (2165, 0.10016570019649472), (5284, 0.10007821667210687), (5483, 0.10007821667210687), (2243, 0.1), (3326, 0.1), (3358, 0.1), (4811, 0.1), (3682, 0.09960238411119947), (4920, 0.09960238411119947), (1194, 0.0994936676326182), (647, 0.09942645983355074), (1360, 0.09942645983355072), (2822, 0.09942645983355072), (1758, 0.09938079899999067), (3835, 0.09938079899999067), (751, 0.09916068621812159), (1977, 0.09915289842385971), (81, 0.09906292494235484), (4615, 0.09906292494235484), (5047, 0.09890707100936807), (2052, 0.09877295966495897), (4553, 0.09872481295984872), (106, 0.0986977613596807), (505, 0.0986977613596807), (2360, 0.0986378149479635), (3906, 0.09860132971832694), (313, 0.0984731927834662), (842, 0.0984731927834662), (2391, 0.0984731927834662), (2615, 0.09834765981073369), (3851, 0.09802861627917436), (2599, 0.09799578870122228), (403, 0.0978700365857839), (3344, 0.0978700365857839), (551, 0.09764766757007304), (1903, 0.09759000729485331), (2156, 0.09759000729485331), (2699, 0.09759000729485331), (2826, 0.09759000729485331), (3768, 0.09759000729485331), (274, 0.09745089103411436), (3817, 0.09745089103411435), (1168, 0.09733285267845752), (486, 0.09673016668133488), (1094, 0.09673016668133488), (1775, 0.09673016668133488), (2588, 0.09673016668133488), (2827, 0.09673016668133488), (4315, 0.09673016668133488), (5807, 0.09673016668133488), (2742, 0.09673016668133487), (138, 0.09662515072736713), (476, 0.09644856443408242), (1888, 0.09644856443408242), (2680, 0.09632419486019034), (545, 0.09622504486493763), (1147, 0.09616940736686899), (3501, 0.09616940736686899), (4512, 0.09609999602085961), (3055, 0.09606181311913882), (4273, 0.09606181311913882), (815, 0.09596105247487251), (4521, 0.09585893683540546), (424, 0.09563409734217186), (755, 0.09561828874675149), (3218, 0.09543305571897803), (4894, 0.09534625892455924), (984, 0.09534625892455922), (2349, 0.09534625892455922), (2569, 0.09534625892455922), (4805, 0.09534625892455922), (140, 0.09531046156683999), (858, 0.09507653770830568), (475, 0.0950443247520335), (1137, 0.0950146187582615), (3956, 0.09487574226197601), (3979, 0.09487574226197601), (1172, 0.09486832980505139), (15, 0.09467292624062575), (2645, 0.09466030570784413), (959, 0.09454389184941309), (178, 0.09447390518754019), (2649, 0.09447390518754019), (69, 0.09439751632913289), (4519, 0.09439751632913289), (2434, 0.0943589189867461), (60, 0.09428090415820635), (1740, 0.09428090415820635), (20, 0.09428090415820634), (884, 0.09428090415820634), (2439, 0.09428090415820634), (2464, 0.09428090415820634), (3728, 0.09428090415820634), (4090, 0.09428090415820634), (4916, 0.09428090415820634), (5848, 0.09428090415820634), (5106, 0.09428090415820632), (5248, 0.09428090415820632), (233, 0.09393364366277245), (2679, 0.09393364366277243), (1254, 0.09390602830316852), (5776, 0.09390602830316852), (4483, 0.09376144618769908), (3729, 0.0937401653035675), (4009, 0.09369711585684086), (536, 0.09350491644243689), (3561, 0.09347654292746338), (3113, 0.09340925921387448), (3438, 0.09325048082403137), (2775, 0.09316949906249122), (921, 0.09313342646680638), (2625, 0.09313342646680638), (4435, 0.09313342646680638), (4092, 0.09312403943594375), (453, 0.09302605094190634), (1701, 0.09302605094190634), (3618, 0.09296222517045283), (1139, 0.09296222517045281), (1631, 0.0929622251704528), (1526, 0.09283444198266944), (2744, 0.09258200997725516), (5144, 0.09258200997725516), (1320, 0.09258200997725514), (1393, 0.09256135126674978), (2213, 0.09256135126674978), (308, 0.0925383186062626), (4243, 0.0922531208028885), (4, 0.09224501099488172), (1890, 0.09223309842157773), (583, 0.09214426752509267), (2523, 0.09214426752509267), (324, 0.09209649399925629), (1311, 0.09209649399925628), (506, 0.09209649399925626), (5049, 0.09200874124564723), (4599, 0.09195447480551185), (1074, 0.09187491027845175), (2005, 0.0917662935482247), (3741, 0.09176343580898579), (127, 0.09171267607736144), (262, 0.09171267607736144), (2493, 0.0915257523912551), (1019, 0.0915208630644859), (2224, 0.0915208630644859), (1990, 0.09146591207600471), (3755, 0.09146591207600471), (71, 0.09140141618451363), (247, 0.09140141618451363), (3878, 0.09140141618451363), (3677, 0.09140141618451361), (386, 0.09128709291752768), (2078, 0.09128709291752768), (887, 0.09115235174752877), (3492, 0.09109906574999142), (5620, 0.09105972745135885), (4127, 0.09093257859606313), (1271, 0.0908673799223074), (3087, 0.09082487681884434), (88, 0.09081919084664616), (1345, 0.09081919084664616), (1197, 0.09072184232530289), (2203, 0.09065334715334465), (1160, 0.09054187969287905), (5760, 0.0904534033733291), (1444, 0.09045340337332909), (1561, 0.09045340337332908), (2762, 0.09045340337332908), (3701, 0.09045340337332908), (1624, 0.09040846714944138), (1628, 0.09040846714944138), (817, 0.09038769075777339), (1720, 0.09038769075777339), (2714, 0.09038769075777339), (3632, 0.09038769075777339), (4787, 0.09014453108339651), (406, 0.0901211818118666), (3719, 0.09005720449304985), (4055, 0.09005720449304985), (528, 0.09004503377814962), (3363, 0.08989331499509895), (607, 0.08989331499509894), (3101, 0.08989331499509894), (3529, 0.08989331499509894), (3257, 0.08989331499509892), (4764, 0.08981004187394179), (3645, 0.08972494377593934), (183, 0.08966716793244404), (652, 0.08964214570007953), (5299, 0.08947924869885988), (3012, 0.08947924869885987), (4677, 0.08947924869885987), (915, 0.08945750668694888), (2601, 0.08944271909999159), (4258, 0.08944271909999159), (5251, 0.08944271909999159), (184, 0.08940696346430335), (2084, 0.08940696346430335), (665, 0.08938984134242876), (1396, 0.08938686975386546), (3459, 0.08924461759630943), (1828, 0.0890870806374748), (3543, 0.0890870806374748), (4033, 0.0890870806374748), (3799, 0.08892972917998875), (108, 0.08885233166386386), (5405, 0.08885233166386386), (854, 0.08885233166386385), (1417, 0.08882848188980279), (1748, 0.08882848188980279), (2952, 0.08877935232369505), (1668, 0.08877060688188458), (1040, 0.08866931945789029), (3088, 0.08856148855400951), (3493, 0.08856148855400951), (3723, 0.08856148855400951), (5069, 0.08856148855400951), (5503, 0.08856148855400951), (121, 0.08846517369293828), (537, 0.08846517369293828), (888, 0.08846517369293828), (3562, 0.08846517369293828), (1149, 0.08845748207237922), (1336, 0.08845748207237922), (5480, 0.08845748207237922), (1892, 0.0883991392175728), (3048, 0.08839913921757278), (2768, 0.08834522085987723), (5150, 0.08819171036881968), (1501, 0.08814764755799087), (285, 0.08808303292720551), (2885, 0.0879173964527716), (3634, 0.0879173964527716), (5190, 0.0879173964527716), (703, 0.0878410461157883), (731, 0.0878410461157883), (4174, 0.0878410461157883), (5241, 0.0878410461157883), (56, 0.08770580193070293), (1300, 0.08770580193070293), (1673, 0.08770580193070293), (3073, 0.08770580193070293), (5578, 0.08770580193070293), (4261, 0.08765009801785553), (5244, 0.08756843958809352), (579, 0.0875684395880935), (1120, 0.08756843958809349), (548, 0.08744344477119373), (1215, 0.08744344477119373), (2325, 0.08744344477119373), (2452, 0.08744344477119373), (822, 0.08744344477119372), (341, 0.08740073734751264), (4977, 0.0873333764609373), (281, 0.08723732043170228), (836, 0.08723732043170228), (1266, 0.08723732043170228), (2300, 0.08719139396343281), (931, 0.08697707640712563), (2980, 0.08697707640712563), (5298, 0.08697707640712563), (4155, 0.08697707640712561), (2114, 0.08695819912499184), (2166, 0.08694008849288351), (1531, 0.08690833490899581), (188, 0.08687444855261388), (2514, 0.08687444855261388), (2959, 0.08687444855261388), (5071, 0.08687444855261388), (264, 0.08687444855261386), (1543, 0.08666666666666667), (367, 0.08660254037844388), (194, 0.08660254037844387), (896, 0.08660254037844387), (3422, 0.08660254037844387), (100, 0.08651809126974003), (592, 0.08651809126974003), (3093, 0.08651809126974003), (3772, 0.08651809126974003), (808, 0.08642416214502248), (1956, 0.08636054118972061), (2246, 0.08636054118972061), (1001, 0.08635462669180663), (299, 0.08618509069908256), (2609, 0.08618509069908255), (1039, 0.08606629658238706), (3241, 0.08606629658238706), (3882, 0.08606629658238706), (4628, 0.08606629658238706), (5784, 0.08606629658238706), (707, 0.08606629658238704), (864, 0.08606629658238704), (5044, 0.08606629658238704), (3807, 0.08594799233872416), (1819, 0.08594799233872415), (5978, 0.08588975014708024), (420, 0.08588975014708022), (128, 0.08577503924427757), (2388, 0.08577503924427757), (2869, 0.08577503924427757), (4239, 0.08577503924427757), (4741, 0.08577503924427757), (4659, 0.08571284007223381), (372, 0.08562150654239141), (465, 0.08562150654239141), (781, 0.08562150654239141), (5132, 0.08562150654239141), (3335, 0.08553989227683015), (601, 0.08549819600709618), (3341, 0.08549819600709618), (3974, 0.08549819600709618), (5685, 0.08549819600709618), (97, 0.08528028654224418), (2920, 0.08528028654224418), (2962, 0.08528028654224418), (3423, 0.08528028654224418), (5194, 0.08524826841213413), (1068, 0.08520128672302582), (2362, 0.08520128672302582), (238, 0.08519427513705972), (1116, 0.08519427513705971), (4068, 0.08519427513705971), (862, 0.08518354199999198), (2496, 0.08518354199999198), (3695, 0.08518354199999198), (4642, 0.08518354199999198), (1037, 0.08494119857293758), (307, 0.08451542547285167), (2882, 0.08451542547285167), (1062, 0.08439494725697222), (5027, 0.08439494725697222), (582, 0.0843413461418433), (4942, 0.08434134614184328), (1475, 0.08432740427115679), (2676, 0.08432740427115679), (4675, 0.08432740427115679), (4566, 0.08418202998994706), (2409, 0.08408749651825216), (4323, 0.08390890340367368), (4742, 0.08390890340367368), (616, 0.08385910090443792), (456, 0.0837707816583391), (561, 0.0837707816583391), (3491, 0.08370563600601102), (61, 0.08359497709591988), (2354, 0.08359497709591987), (2110, 0.0835467353046005), (2883, 0.0835467353046005), (4099, 0.0835467353046005), (1406, 0.08352690695845567), (5618, 0.08352690695845567), (3314, 0.08352690695845566), (2525, 0.08349657214468661), (3821, 0.0834965721446866), (4794, 0.08346276649443066), (2706, 0.08333333333333334), (1011, 0.08333333333333333), (4170, 0.08333333333333333), (4447, 0.08333333333333333), (5957, 0.08333333333333333), (463, 0.08320502943378438), (595, 0.08320502943378437), (5904, 0.08320502943378437), (2278, 0.08309026037996745), (1203, 0.0830741310465378), (1635, 0.0830741310465378), (2603, 0.08304547985373996), (5835, 0.08304547985373996), (1982, 0.08288684459933066), (237, 0.08288684459933064), (2490, 0.08281733249999221), (7, 0.08268982305947231), (1767, 0.08268982305947231), (2099, 0.08268982305947231), (2292, 0.08268982305947231), (2985, 0.08268982305947231), (3921, 0.08268982305947231), (4377, 0.08268982305947231), (1198, 0.08261108332754437), (2693, 0.08257228238447704), (4058, 0.08256290076967833), (4737, 0.08256290076967833), (738, 0.08256290076967832), (739, 0.08251369970070348), (5923, 0.08251369970070346), (305, 0.08233869695926185), (3551, 0.08233869695926184), (3733, 0.08233869695926184), (3186, 0.08233869695926183), (2135, 0.08231079972079913), (3043, 0.08231079972079913), (3421, 0.08231079972079913), (3692, 0.08231079972079913), (2258, 0.08226127456606226), (2260, 0.08206099398622183), (4176, 0.08206099398622183), (4993, 0.08203893161346491), (1358, 0.08198497637473576), (4423, 0.08198497637473576), (2058, 0.08195375470622297), (670, 0.08195375470622296), (3033, 0.08190601557786015), (5384, 0.08190601557786015), (159, 0.08164965809277261), (866, 0.08164965809277261), (1824, 0.0816496580927726), (2597, 0.0816496580927726), (2626, 0.0816496580927726), (3201, 0.0816496580927726), (3667, 0.0816496580927726), (4926, 0.0816496580927726), (963, 0.08156813070539938), (103, 0.0815223787354324), (5421, 0.0815223787354324), (5926, 0.0815223787354324), (5162, 0.08148353450645078), (3636, 0.08148353450645077), (227, 0.08134892168199605), (5753, 0.08132500607904443), (886, 0.08132500607904442), (943, 0.08131156281817417), (130, 0.08114408259335794), (4368, 0.08114408259335794), (2916, 0.08108404256841999), (655, 0.08099118235840605), (1568, 0.08099118235840605), (2190, 0.08099118235840605), (5037, 0.0809776330178916), (5385, 0.0809776330178916), (1095, 0.08077100437538436), (350, 0.08075728530872484), (5120, 0.08075728530872484), (3284, 0.08075728530872482), (802, 0.08075728530872481), (2586, 0.08060847223444573), (4871, 0.08060847223444573), (2264, 0.08059094674837398), (348, 0.08050764858994133), (5583, 0.08050764858994133), (5331, 0.08046626711787302), (5088, 0.08046626711787301), (3302, 0.08040302522073697), (4768, 0.08040302522073697), (2506, 0.08037380369506869), (49, 0.08032193289024989), (1251, 0.08032193289024989), (4306, 0.08032193289024989), (1157, 0.08017837257372731), (4877, 0.08017837257372731), (3880, 0.08014117280572416), (469, 0.0800400300250219), (1413, 0.08003267306650413), (1438, 0.08003267306650412), (182, 0.07991055024756402), (2370, 0.07984047840557992), (3588, 0.07982339643375315), (379, 0.07968190728895957), (2127, 0.07968190728895957), (2738, 0.07968190728895957), (3011, 0.07968190728895957), (3388, 0.07968190728895957), (3965, 0.07968190728895957), (5755, 0.07968190728895957), (4230, 0.07968190728895956), (353, 0.0796117338651413), (2462, 0.07956600627155525), (5689, 0.07956600627155525), (2776, 0.07945521577046602), (5039, 0.07945521577046602), (5853, 0.07945521577046602), (6, 0.07933288280219178), (806, 0.07933288280219178), (3240, 0.07933288280219178), (3909, 0.07933288280219178), (2315, 0.07932854897449727), (3325, 0.07932854897449727), (304, 0.07905694150420949), (1579, 0.07905694150420949), (1974, 0.07905694150420949), (4531, 0.07905694150420949), (1595, 0.07905694150420947), (2397, 0.0790075771899962), (5413, 0.078979850367879), (1505, 0.07897985036787898), (2241, 0.07897985036787898), (4966, 0.07897985036787898), (5870, 0.07897985036787898), (224, 0.07878657654117757), (1606, 0.07878385971583353), (1060, 0.07865665062071156), (869, 0.07863570994927847), (952, 0.07863570994927847), (2366, 0.07863570994927847), (3025, 0.07863570994927847), (503, 0.07856742013183862), (5365, 0.07856742013183862), (3789, 0.07851358838853205), (1248, 0.07844645405527362), (1932, 0.07844645405527362), (2919, 0.07844645405527362), (412, 0.07835008245371142), (1488, 0.07835008245371142), (2163, 0.07835008245371142), (572, 0.07829602926862712), (1576, 0.07829602926862712), (2293, 0.07829602926862712), (4832, 0.07824607964359516), (1005, 0.07821351103463228), (3060, 0.07821351103463228), (3440, 0.07821351103463228), (4878, 0.07821351103463228), (4575, 0.07813453848974923), (1225, 0.07813453848974922), (2508, 0.07796071282729147), (3609, 0.07792076370203074), (102, 0.07777777777777778), (335, 0.07777777777777778), (407, 0.07777777777777778), (4567, 0.07777777777777778), (2442, 0.07771916402262598), (5451, 0.07771916402262598), (3078, 0.07770873402002615), (116, 0.07762966796527761), (320, 0.07762966796527761), (814, 0.07762966796527761), (1856, 0.07762966796527761), (5226, 0.07762966796527761), (2424, 0.0776296679652776), (1757, 0.07755667343294813), (619, 0.07745966692414834), (1616, 0.07745966692414834), (4669, 0.07745966692414834), (4364, 0.07734924681537618), (4997, 0.07734924681537618), (2517, 0.07730280475365979), (3049, 0.07730280475365979), (1727, 0.07726674092862558), (5677, 0.07726674092862558), (942, 0.07720275189824681), (95, 0.0769800358919501), (1805, 0.0769800358919501), (2004, 0.0769800358919501), (2739, 0.0769800358919501), (5222, 0.0769800358919501), (1940, 0.07694837640638656), (162, 0.07692772189617517), (470, 0.07692772189617517), (1472, 0.07692772189617517), (33, 0.07692772189617515), (180, 0.07687760066907376), (1394, 0.07687760066907376), (1645, 0.07687760066907376), (3463, 0.07687760066907376), (3815, 0.07687760066907376), (4731, 0.07687760066907376), (5545, 0.07687760066907376), (3625, 0.07669649888473704), (5562, 0.07669649888473704), (58, 0.07667395103803935), (989, 0.07666127661014253), (2717, 0.07666127661014253), (5995, 0.07666127661014253), (3315, 0.07651301417479452), (312, 0.0765130141747945), (1236, 0.0765130141747945), (2413, 0.0765130141747945), (1017, 0.07647191129018725), (2918, 0.07634644457518243), (2618, 0.0762000762001143), (3520, 0.07613869876268811), (2382, 0.0761386987626881), (4115, 0.0761386987626881), (737, 0.07610494185623493), (1072, 0.07610494185623493), (507, 0.07610494185623491), (5255, 0.07610494185623491), (951, 0.07607257743127308), (1043, 0.07607257743127308), (2175, 0.07607257743127308), (1658, 0.0760354598016268), (5940, 0.0760354598016268), (935, 0.0757282445662753), (1795, 0.0757282445662753), (160, 0.07570332986102252), (1718, 0.07570332986102252), (2073, 0.07570332986102252), (4301, 0.07570332986102252), (4394, 0.07570332986102252), (5734, 0.07570332986102252), (2191, 0.07559289460184546), (2838, 0.07559289460184546), (4231, 0.07559289460184546), (4941, 0.07559289460184546), (5171, 0.07559289460184546), (1445, 0.07559289460184544), (1733, 0.07559289460184544), (2773, 0.07559289460184544), (2806, 0.07559289460184544), (4708, 0.07559289460184544), (115, 0.07548513560963971), (2436, 0.07547713887932336), (1326, 0.07547319081399415), (2750, 0.07547319081399413), (678, 0.07542472332656507), (3770, 0.07542472332656507), (3054, 0.07531773608496142), (695, 0.07530800950958867), (1629, 0.07530800950958867), (2440, 0.07530800950958867), (4191, 0.07530800950958867), (5061, 0.07530800950958867), (3966, 0.07529232524210426), (5536, 0.07529232524210426), (137, 0.07512482264253481), (2915, 0.07512482264253481), (3332, 0.07512482264253481), (844, 0.07505866250408015), (1243, 0.07505866250408015), (5989, 0.07505866250408015), (296, 0.07505866250408014), (3893, 0.075), (1798, 0.07491881822459248), (1166, 0.07482847110217516), (2199, 0.07482847110217516), (1422, 0.07472263994370337), (1984, 0.07472263994370337), (205, 0.074535599249993), (1226, 0.074535599249993), (1768, 0.074535599249993), (3470, 0.074535599249993), (1104, 0.07453559924999299), (2368, 0.07453559924999299), (3447, 0.07453559924999299), (4265, 0.07453559924999299), (4657, 0.07453559924999299), (5920, 0.07453559924999299), (204, 0.07453559924999298), (996, 0.07453559924999298), (1071, 0.07453559924999298), (2106, 0.07453559924999298), (2303, 0.07453559924999298), (2357, 0.07453559924999298), (2562, 0.07453559924999298), (2570, 0.07453559924999298), (3494, 0.07453559924999298), (4158, 0.07453559924999298), (4196, 0.07453559924999298), (4387, 0.07453559924999298), (5180, 0.07453559924999298), (5433, 0.07453559924999298), (617, 0.07424613951862727), (1861, 0.07424613951862727), (431, 0.07424613951862725), (3196, 0.0741582013857683), (889, 0.07402332101976053), (1041, 0.07396002616336389), (1844, 0.07396002616336389), (2544, 0.07396002616336389), (1723, 0.07392713520000524), (381, 0.07385489458759965), (782, 0.07385489458759964), (5573, 0.07380124046167459), (282, 0.07378647873726218), (2361, 0.07374759865091975), (201, 0.07367719519940502), (897, 0.07367719519940502), (3722, 0.07367719519940502), (1582, 0.07362101738323103), (4725, 0.07352146220938077), (104, 0.07342029047821447), (1885, 0.07342029047821447), (5949, 0.07342029047821447), (3881, 0.07341131763485946), (4765, 0.07341131763485945), (259, 0.07339758434175737), (2447, 0.07339758434175737), (3185, 0.07339758434175737), (3937, 0.07339758434175737), (4032, 0.07339758434175737), (1015, 0.07326449704397635), (2941, 0.07318710520511493), (1305, 0.07308816827558577), (5169, 0.07308816827558577), (1922, 0.07302967433402213), (2277, 0.07302967433402213), (3118, 0.07302967433402213), (390, 0.072975638311578), (235, 0.07284778196108707), (2904, 0.07284778196108707), (52, 0.07270397783247153), (4038, 0.07270397783247153), (1275, 0.07270397783247151), (1643, 0.07270397783247151), (2926, 0.07270397783247151), (3311, 0.07270397783247151), (1335, 0.07257747386024231), (2396, 0.07257747386024231), (2886, 0.07257747386024231), (776, 0.07254762501100116), (1716, 0.07254762501100116), (1761, 0.07254762501100116), (2270, 0.07254762501100116), (3531, 0.07254762501100116), (4019, 0.07254762501100116), (5199, 0.07254762501100116), (796, 0.07239537379384489), (2056, 0.07239537379384489), (5411, 0.07239537379384489), (10, 0.07235359517703827), (283, 0.07235359517703827), (2746, 0.07235359517703827), (3665, 0.07233642332556181), (845, 0.07231015260621872), (2096, 0.07231015260621872), (2896, 0.07231015260621872), (4385, 0.07231015260621872), (4779, 0.07231015260621872), (3389, 0.07207499701564471), (3697, 0.07207499701564471), (3970, 0.07207499701564471), (847, 0.07204576359443988), (730, 0.07200822998230957), (1048, 0.07200822998230957), (3361, 0.07200822998230957), (4005, 0.07200822998230957), (338, 0.07200822998230956), (2478, 0.07191949522280762), (2747, 0.07178425360775541), (3604, 0.0717842536077554), (3926, 0.0717842536077554), (631, 0.07172191381865586), (2418, 0.07172191381865586), (125, 0.07166776363062763), (2265, 0.07166776363062763), (5197, 0.07166776363062763), (4197, 0.07161148740394328), (4793, 0.07161148740394328), (4229, 0.07152557077144268), (134, 0.07133208139350335), (427, 0.07133208139350335), (510, 0.07130740328122927), (2007, 0.07126966450997983), (2063, 0.07126966450997983), (4375, 0.07126966450997983), (4407, 0.07126966450997983), (767, 0.07115680669648201), (980, 0.071156806696482), (2237, 0.071156806696482), (4658, 0.071156806696482), (2150, 0.07110681947099658), (1460, 0.07106690545187015), (1754, 0.07106690545187015), (3464, 0.07106690545187015), (3715, 0.07106690545187015), (5746, 0.07106690545187015), (2438, 0.07101648550550767), (2541, 0.0710010722691882), (3084, 0.0710010722691882), (3412, 0.0710010722691882), (4289, 0.0710010722691882), (2695, 0.07090791888705981), (2250, 0.07071067811865475), (3506, 0.07071067811865475), (3659, 0.07071067811865475), (4475, 0.07067462882846132), (3526, 0.07042952122737639), (3546, 0.07042952122737639), (4722, 0.07042952122737639), (29, 0.07035264706814484), (1046, 0.07027283689263064), (3072, 0.07027283689263064), (3148, 0.07027283689263064), (4540, 0.07027283689263064), (4574, 0.07027283689263064), (4704, 0.07027283689263064), (5603, 0.07027283689263064), (1010, 0.06993786061802353), (3294, 0.06984302957695782), (4903, 0.06984302957695782), (5115, 0.06984302957695782), (752, 0.0698430295769578), (511, 0.06980898471528259), (1467, 0.06980898471528259), (5297, 0.06980898471528259), (3941, 0.06980898471528257), (4532, 0.06980898471528257), (5549, 0.06980898471528257), (5988, 0.06980898471528257), (3612, 0.06978985634536182), (724, 0.06972166887783962), (5256, 0.06972166887783962), (1410, 0.06955207079430681), (2255, 0.06955207079430681), (923, 0.06942101345006234), (1372, 0.06942101345006232), (4637, 0.06942101345006232), (19, 0.06941248035268512), (1574, 0.06941248035268512), (3515, 0.06931669932133817), (5554, 0.06931669932133817), (5905, 0.06931669932133817), (110, 0.0692045665447833), (880, 0.0692045665447833), (3742, 0.0692045665447833), (4822, 0.0692045665447833), (627, 0.0691073690718941), (3307, 0.06908370135344531), (882, 0.06900655593423542), (2015, 0.06900655593423542), (4931, 0.06900655593423542), (2345, 0.06892522820305029), (1867, 0.06885303726590963), (1790, 0.06880624620561866), (3301, 0.06880624620561866), (5031, 0.06876141641725289), (1878, 0.06862466835399716), (193, 0.06861558079938487), (765, 0.06861558079938487), (1398, 0.06861558079938487), (2736, 0.06861558079938487), (484, 0.06859943405700353), (1916, 0.06859943405700353), (2302, 0.06859943405700353), (4290, 0.06859943405700353), (4856, 0.06859943405700353), (2951, 0.06850902561004873), (3153, 0.06843053120094375), (1809, 0.06839855680567694), (2177, 0.06839855680567694), (2703, 0.06839855680567694), (4101, 0.06839855680567694), (255, 0.06828771804089781), (903, 0.06828771804089781), (2529, 0.06828771804089781), (3509, 0.06821562372388006), (2128, 0.06819943394704735), (3174, 0.06819943394704735), (1782, 0.06817466567532182), (1846, 0.06817466567532182), (3029, 0.06817466567532182), (805, 0.06811149137797498), (1745, 0.06804138174397717), (2018, 0.06804138174397717), (2909, 0.06804138174397717), (5828, 0.06804138174397717), (5713, 0.06793662204867575), (216, 0.06792595946961791), (4352, 0.06792595946961791), (5543, 0.06792595946961791), (382, 0.06780635036208103), (417, 0.06780635036208103), (2852, 0.06780635036208103), (5087, 0.06776309271789384), (1934, 0.06773340106676827), (2212, 0.06773340106676827), (2308, 0.06773340106676827), (1439, 0.06763995415945231), (1611, 0.06763995415945231), (3844, 0.06763995415945231), (5051, 0.06763995415945231), (5697, 0.06759088635889994), (467, 0.06751595780557777), (1364, 0.06751595780557777), (2526, 0.06751595780557777), (2759, 0.06751595780557777), (3384, 0.06751595780557777), (4148, 0.06751595780557777), (818, 0.067481360848243), (1696, 0.067481360848243), (2210, 0.067481360848243), (3374, 0.067481360848243), (3952, 0.067481360848243), (4643, 0.067481360848243), (5218, 0.067481360848243), (436, 0.0674199862463242), (1593, 0.0674199862463242), (4093, 0.0674199862463242), (4102, 0.0674199862463242), (5035, 0.0674199862463242), (5565, 0.0674199862463242), (136, 0.06735753140545633), (214, 0.06735753140545633), (383, 0.06735753140545633), (3641, 0.06735753140545633), (4254, 0.06735753140545633), (50, 0.06730059535000917), (672, 0.06730059535000917), (35, 0.06708728072355034), (745, 0.06708728072355034), (729, 0.06707861703387472), (1152, 0.06707861703387472), (1983, 0.06707861703387472), (3967, 0.06707861703387472), (351, 0.06707030304879447), (1493, 0.0670401523153991), (2112, 0.0670401523153991), (2836, 0.0670401523153991), (441, 0.06693494407520824), (1323, 0.06693494407520824), (3666, 0.06693494407520824), (4620, 0.06693494407520824), (4902, 0.06693494407520824), (5167, 0.06693494407520824), (5514, 0.06693494407520824), (3121, 0.06687598167673589), (4236, 0.06680313900328463), (483, 0.06680313900328462), (5422, 0.06674912392349772), (893, 0.06666666666666667), (1900, 0.06666666666666667), (2756, 0.06666666666666667), (3489, 0.06666666666666667), (4222, 0.06666666666666667), (4267, 0.06666666666666667), (4444, 0.06666666666666667), (4720, 0.06666666666666667), (4770, 0.06666666666666667), (5016, 0.06666666666666667), (5026, 0.06666666666666667), (5478, 0.06666666666666667), (1909, 0.06653102732642345), (4980, 0.06653102732642345), (563, 0.0664015894074663), (575, 0.0664015894074663), (2745, 0.0664015894074663), (272, 0.06629935441317959), (590, 0.06629935441317958), (2796, 0.06629935441317958), (1600, 0.06627023104062868), (28, 0.0662622139954909), (168, 0.0662622139954909), (539, 0.0662622139954909), (1474, 0.0662622139954909), (1813, 0.0662622139954909), (3014, 0.0662622139954909), (4152, 0.06625891564490792), (1324, 0.06625386599999376), (2507, 0.06625386599999376), (3905, 0.06605032061574266), (4719, 0.06605032061574266), (659, 0.06599663291074444), (1337, 0.06599663291074444), (2724, 0.06599663291074442), (2825, 0.06599663291074442), (3539, 0.06599663291074442), (1732, 0.06593804733957871), (82, 0.0659380473395787), (1948, 0.0659380473395787), (2290, 0.0659380473395787), (2674, 0.0659380473395787), (3261, 0.0659380473395787), (3407, 0.0659380473395787), (5654, 0.0659380473395787), (801, 0.06588078458684124), (2593, 0.06588078458684124), (2602, 0.06588078458684124), (2995, 0.06588078458684124), (3662, 0.06588078458684124), (4049, 0.06588078458684124), (5213, 0.06588078458684124), (5360, 0.06588078458684124), (512, 0.06584863977663931), (2068, 0.06584863977663931), (3085, 0.06584863977663931), (3134, 0.06584863977663931), (3620, 0.06584863977663931), (4752, 0.06584863977663931), (4987, 0.06584863977663931), (91, 0.06573421981221797), (527, 0.06573421981221797), (2000, 0.06573421981221797), (3848, 0.06573421981221797), (5310, 0.06573421981221796), (894, 0.06564879518897745), (2247, 0.06564879518897745), (3032, 0.06564879518897745), (1025, 0.0655825835783953), (3702, 0.06558258357839529), (464, 0.06547491221440327), (3495, 0.06547491221440327), (4938, 0.06547491221440327), (326, 0.06537204504606135), (1344, 0.06537204504606135), (1860, 0.06531005162761622), (3783, 0.06525450456431951), (3935, 0.06523280730534423), (1296, 0.06521864934374386), (3234, 0.06521864934374386), (2874, 0.0651558364144604), (2876, 0.06506000486323554), (5594, 0.06506000486323554), (5801, 0.06506000486323554), (1420, 0.06488856845230502), (4031, 0.06488856845230502), (2983, 0.06487491201346024), (3887, 0.06487491201346024), (4909, 0.06487491201346024), (1244, 0.06486723405473599), (1246, 0.06486723405473599), (2656, 0.06486723405473599), (2590, 0.0647150228929434), (5516, 0.0647150228929434), (5788, 0.0647150228929434), (1105, 0.06467616667635545), (53, 0.06454972243679029), (1078, 0.06454972243679029), (1384, 0.06454972243679029), (1676, 0.06454972243679029), (1682, 0.06454972243679029), (1863, 0.06454972243679029), (2832, 0.06454972243679029), (3826, 0.06454972243679029), (1340, 0.06446754579947939), (1204, 0.06440081861116377), (1992, 0.06440081861116377), (925, 0.06438895077385465), (1177, 0.06438895077385465), (1830, 0.06438895077385465), (3039, 0.06438895077385465), (1119, 0.06429904295605494), (1387, 0.06429904295605494), (1811, 0.06429904295605494), (1937, 0.06429904295605494), (3062, 0.06429904295605494), (3200, 0.06429904295605494), (3944, 0.06429904295605494), (3968, 0.0642529405317179), (2829, 0.0642228862990377), (786, 0.06421612990679355), (1091, 0.06421612990679355), (4169, 0.06421612990679355), (4414, 0.06421612990679355), (5479, 0.06421612990679355), (5722, 0.06421612990679355), (67, 0.06411293824457934), (895, 0.06411293824457934), (347, 0.06398099132915953), (750, 0.06398099132915953), (1414, 0.06398099132915953), (1887, 0.06398099132915953), (954, 0.0639137490706142), (4882, 0.0639137490706142), (5318, 0.0639137490706142), (5635, 0.0639137490706142), (1802, 0.06388765649999399), (910, 0.06388765649999398), (375, 0.06374552583116766), (84, 0.0637418092159512), (1498, 0.06374180921595118), (2672, 0.06374180921595118), (3334, 0.06356417261637283), (85, 0.06356417261637282), (957, 0.06356417261637282), (1205, 0.06356417261637282), (1596, 0.06356417261637282), (1929, 0.06356417261637282), (2318, 0.06356417261637282), (2862, 0.06356417261637282), (3070, 0.06356417261637282), (3160, 0.06356417261637282), (3274, 0.06356417261637282), (3837, 0.06356417261637282), (4071, 0.06356417261637282), (4246, 0.06356417261637282), (4430, 0.06356417261637282), (5649, 0.06356417261637282), (2378, 0.06350528962771203), (2797, 0.06350528962771203), (5552, 0.06350528962771201), (2534, 0.06344891563557342), (3510, 0.06344891563557342), (2113, 0.06338435847220379), (5236, 0.06327138353044139), (292, 0.06327138353044137), (546, 0.0632455532033676), (5839, 0.06324555320336758), (3853, 0.06310547428675069), (4721, 0.0630400431451349), (825, 0.06299407883487121), (1742, 0.06299407883487121), (2369, 0.06299407883487121), (147, 0.06293167755275526), (219, 0.06293167755275526), (769, 0.06293167755275526), (1284, 0.0628539361054709), (1425, 0.0628539361054709), (2627, 0.0628539361054709), (3649, 0.0628539361054709), (5181, 0.0628539361054709), (5999, 0.0628539361054709), (1719, 0.06281122190678598), (5614, 0.06281122190678597), (447, 0.06269075692928593), (1036, 0.06268006596296913), (74, 0.06262242910851495), (2341, 0.06262242910851495), (3681, 0.06262242910851495), (4100, 0.06262242910851495), (5227, 0.06262242910851495), (5432, 0.06262242910851495), (5730, 0.06262242910851495), (481, 0.06254888542006679), (599, 0.06254888542006679), (4728, 0.06254888542006679), (5006, 0.06254888542006679), (5127, 0.06254888542006679), (5403, 0.06254888542006679), (31, 0.06250763079179938), (236, 0.06231769528497559), (721, 0.06231769528497559), (609, 0.062166987216020916), (645, 0.062166987216020916), (789, 0.062166987216020916), (912, 0.062166987216020916), (1395, 0.062166987216020916), (2196, 0.062166987216020916), (2632, 0.062166987216020916), (3282, 0.062166987216020916), (3686, 0.062166987216020916), (5149, 0.062166987216020916), (275, 0.06213942481731921), (797, 0.06213942481731921), (3631, 0.06213942481731921), (258, 0.062139424817319204), (1368, 0.06211299937499417), (3949, 0.06211299937499417), (2503, 0.06211299937499416), (589, 0.062017367294604234), (2371, 0.062017367294604234), (4522, 0.062017367294604234), (4855, 0.062017367294604234), (4949, 0.062017367294604234), (5775, 0.062017367294604234), (5805, 0.062017367294604234), (5824, 0.062017367294604234), (2666, 0.06199874066337028), (1639, 0.06192023745066545), (1931, 0.06192023745066545), (2336, 0.06192023745066545), (4328, 0.06192023745066545), (12, 0.061721339984836775), (1034, 0.061721339984836775), (156, 0.06172133998483677), (3477, 0.06172133998483677), (3725, 0.06172133998483677), (5956, 0.06172133998483677), (2662, 0.0617033532905936), (3565, 0.0617033532905936), (4901, 0.0617033532905936), (3299, 0.06168610084980043), (3749, 0.06168610084980043), (1164, 0.061666305341717374), (3147, 0.061666305341717374), (2655, 0.061502080535259004), (2812, 0.061502080535259004), (689, 0.06148873228105181), (2664, 0.06148873228105181), (3669, 0.06148873228105181), (878, 0.06142951168339511), (1125, 0.06142951168339511), (3383, 0.06142951168339511), (5604, 0.06142951168339511), (124, 0.06127633533453719), (2785, 0.06127633533453719), (5868, 0.06127633533453719), (696, 0.06126788517448398), (1873, 0.06126788517448398), (5409, 0.06126788517448398), (5533, 0.06126788517448398), (489, 0.061141784051574305), (736, 0.061141784051574305), (2030, 0.0611417840515743), (405, 0.06106612430219159), (428, 0.06106612430219159), (3152, 0.06106612430219159), (4305, 0.061017168260836745), (70, 0.060858061945018464), (1003, 0.060858061945018464), (1186, 0.060858061945018464), (1272, 0.060858061945018464), (1453, 0.060858061945018464), (1821, 0.060858061945018464), (1949, 0.060858061945018464), (2042, 0.060858061945018464), (2228, 0.060858061945018464), (2404, 0.060858061945018464), (2861, 0.060858061945018464), (2891, 0.060858061945018464), (3053, 0.060858061945018464), (3193, 0.060858061945018464), (3661, 0.060858061945018464), (3735, 0.060858061945018464), (4062, 0.060858061945018464), (4726, 0.060858061945018464), (5172, 0.060858061945018464), (5415, 0.060858061945018464), (5916, 0.060858061945018464), (5950, 0.060858061945018464), (51, 0.06085806194501846), (1083, 0.06085806194501846), (1187, 0.06085806194501846), (4298, 0.06085806194501846), (4729, 0.06085806194501846), (4802, 0.06085806194501846), (1985, 0.06085806194501844), (3883, 0.06085806194501844), (5340, 0.06085806194501844), (153, 0.06070019381413139), (1692, 0.06070019381413139), (3847, 0.06070019381413139), (3846, 0.06065621043723658), (1799, 0.060652111906170904), (4066, 0.060652111906170904), (1238, 0.0606521119061709), (373, 0.060578253281538263), (1997, 0.060578253281538263), (4427, 0.060578253281538263), (1615, 0.060543547891533316), (1455, 0.0604563541758343), (4153, 0.0604563541758343), (4211, 0.06044823868426465), (3331, 0.060448238684264646), (1221, 0.06038810848771178), (1603, 0.06038810848771178), (179, 0.06030226891555273), (3375, 0.06030226891555273), (245, 0.06030226891555272), (1964, 0.06030226891555272), (4592, 0.06030226891555272), (5523, 0.06030226891555272), (329, 0.06023386019368341), (1496, 0.06023386019368341), (2910, 0.06023386019368341), (3904, 0.06023386019368341), (186, 0.060080787874577726), (34, 0.06006249751303726), (920, 0.06006249751303726), (1930, 0.06006249751303726), (2429, 0.06006249751303726), (3402, 0.06006249751303726), (5569, 0.06006249751303726), (1347, 0.06004658480974752), (3486, 0.06004658480974752), (4318, 0.06004658480974752), (3564, 0.06003002251876642), (3983, 0.06003002251876642), (1433, 0.060030022518766414), (1832, 0.060030022518766414), (4249, 0.060030022518766414), (1028, 0.059848737204967334), (402, 0.05984873720496733), (1069, 0.05984873720496733), (560, 0.05976143046671968), (1695, 0.05976143046671968), (2039, 0.05976143046671968), (2638, 0.05976143046671968), (3342, 0.05976143046671968), (4865, 0.05976143046671968), (5209, 0.05976143046671968), (5278, 0.05976143046671968), (3517, 0.05976143046671967), (4495, 0.05967623950328607), (5147, 0.059652832465906594), (1894, 0.05962847939999439), (2355, 0.05962847939999439), (2497, 0.05962847939999439), (3816, 0.05962847939999439), (4486, 0.05962847939999439), (4712, 0.05962847939999439), (5013, 0.05962847939999439), (1670, 0.059525684259940884), (1919, 0.05949641173087296), (3962, 0.05949641173087296), (196, 0.05949641173087295), (2071, 0.05947996489939606), (648, 0.059458839001056314), (1440, 0.05945883900105631), (5708, 0.05929733891373501), (5903, 0.059297338913735), (234, 0.059266725933422235), (1018, 0.059266725933422235), (2895, 0.059266725933422235), (5401, 0.059266725933422235), (5454, 0.059266725933422235), (4755, 0.05923488777590924), (494, 0.05923488777590923), (643, 0.05923488777590923), (840, 0.05918623488246337), (1351, 0.059076463079880556), (3610, 0.059076463079880556), (680, 0.05904099236933968), (2016, 0.05904099236933968), (4925, 0.05904099236933968), (261, 0.05897678246195886), (591, 0.05897678246195886), (439, 0.05892556509887896), (1330, 0.05892556509887896), (1547, 0.05892556509887896), (2499, 0.05892556509887896), (5619, 0.05892556509887896), (547, 0.05883484054145522), (2988, 0.058753686565230896), (1122, 0.058722021951470346), (2392, 0.058722021951470346), (3346, 0.058722021951470346), (4578, 0.058722021951470346), (4854, 0.058722021951470346), (2484, 0.05872202195147034), (4311, 0.05872202195147034), (1088, 0.058701370633106556), (4136, 0.05861159763518107), (5233, 0.05861159763518107), (853, 0.05856069741052554), (1518, 0.05856069741052554), (1969, 0.05856069741052554), (2188, 0.05856069741052554), (287, 0.05851648396714391), (613, 0.0585164839671439), (322, 0.05847053462046862), (1470, 0.05847053462046862), (1803, 0.05847053462046862), (1947, 0.05847053462046862), (2981, 0.05847053462046862), (3081, 0.05847053462046862), (3376, 0.05847053462046862), (5587, 0.05847053462046862), (4086, 0.05847053462046861), (5808, 0.058333333333333334), (14, 0.05822225097395821), (1597, 0.05822225097395821), (1735, 0.05822225097395821), (5064, 0.05822225097395821), (4091, 0.0582222509739582), (2408, 0.058222250973958195), (4104, 0.058202524647464844), (319, 0.05820252464746484), (5234, 0.05820252464746484), (1286, 0.05819143739626464), (580, 0.05815189173257646), (5502, 0.05815189173257646), (662, 0.0580623353779985), (1967, 0.057977103565244846), (4800, 0.057977103565244846), (3443, 0.05797710356524484), (5077, 0.05797710356524484), (1027, 0.05797213274999455), (1436, 0.05797213274999455), (1419, 0.05791629903507592), (1778, 0.05791629903507592), (4777, 0.05791629903507592), (5917, 0.05791629903507592), (4084, 0.05785084454171861), (2605, 0.057850844541718606), (135, 0.057794030538774833), (1486, 0.05773502691896258), (5770, 0.05773502691896258), (39, 0.057735026918962574), (1622, 0.057735026918962574), (3404, 0.057735026918962574), (3411, 0.057735026918962574), (3656, 0.057735026918962574), (4919, 0.057735026918962574), (5046, 0.057735026918962574), (5185, 0.057735026918962574), (5205, 0.057735026918962574), (5452, 0.057735026918962574), (30, 0.057628406279647396), (345, 0.05761755980455939), (4545, 0.05754804415313747), (17, 0.05750546327852952), (700, 0.05750546327852952), (860, 0.05750546327852952), (1510, 0.05750546327852952), (2607, 0.05750546327852952), (2684, 0.05750546327852952), (4082, 0.05750546327852952), (5679, 0.05750546327852952), (5984, 0.05750546327852952), (11, 0.0574959574576069), (442, 0.0574959574576069), (1657, 0.0574959574576069), (1717, 0.0574959574576069), (2204, 0.0574959574576069), (1079, 0.057442695790355276), (2564, 0.05737753105492469), (3089, 0.05737753105492469), (3859, 0.05737753105492469), (4030, 0.05737753105492469), (4353, 0.05737753105492469), (4991, 0.05737753105492469), (1442, 0.057259833431386825), (2536, 0.057259833431386825), (1033, 0.05725983343138682), (1268, 0.05725983343138682), (357, 0.05716619504750295), (576, 0.05702659485122011), (2956, 0.05702659485122011), (4064, 0.05702659485122011), (5136, 0.05702659485122011), (225, 0.0570265948512201), (927, 0.0570265948512201), (2479, 0.0570265948512201), (339, 0.0569275042553311), (3202, 0.0569275042553311), (3417, 0.0569275042553311), (3482, 0.0569275042553311), (5228, 0.0569275042553311), (371, 0.05685352436149612), (523, 0.05685352436149612), (757, 0.05685352436149612), (773, 0.05685352436149612), (3310, 0.05685352436149612), (3377, 0.05685352436149612), (3678, 0.05685352436149612), (532, 0.056832861622539456), (874, 0.056832861622539456), (1021, 0.056832861622539456), (1575, 0.056832861622539456), (2379, 0.056832861622539456), (5499, 0.056832861622539456), (621, 0.05679618342470648), (2946, 0.05679618342470648), (3916, 0.05679618342470648), (3963, 0.05679618342470648), (4238, 0.05679618342470648), (5436, 0.05679618342470648), (5, 0.05675882979789399), (1910, 0.0567247506415356), (3204, 0.0567247506415356), (143, 0.0565685424949238), (1560, 0.0565685424949238), (208, 0.056568542494923796), (1577, 0.056568542494923796), (1864, 0.056568542494923796), (2681, 0.056568542494923796), (4460, 0.056568542494923796), (1031, 0.056505291968400866), (1366, 0.056505291968400866), (1441, 0.056505291968400866), (5301, 0.056505291968400866), (26, 0.05634361698190111), (434, 0.05634361698190111), (1211, 0.05634361698190111), (1875, 0.05634361698190111), (1879, 0.05634361698190111), (2455, 0.05634361698190111), (2877, 0.05634361698190111), (2887, 0.05634361698190111), (5277, 0.05634361698190111), (5442, 0.05634361698190111), (5843, 0.05634361698190111), (3914, 0.056244099182140496), (1200, 0.05621826951410452), (3026, 0.05618332187193684), (4837, 0.056121353326631374), (2683, 0.056098820964006924), (3544, 0.056098820964006924), (90, 0.055937385173294815), (859, 0.055937385173294815), (419, 0.055901699437494734), (491, 0.055901699437494734), (667, 0.055901699437494734), (1196, 0.055901699437494734), (1602, 0.055901699437494734), (1642, 0.055901699437494734), (2923, 0.055901699437494734), (2973, 0.055901699437494734), (3676, 0.055901699437494734), (4790, 0.055901699437494734), (4914, 0.055901699437494734), (5002, 0.055901699437494734), (5711, 0.055901699437494734), (122, 0.05586679359616592), (1209, 0.05586679359616592), (1349, 0.05586679359616592), (327, 0.05586679359616591), (4979, 0.05586679359616591), (1943, 0.05584718777222607), (2254, 0.05584718777222607), (2807, 0.05584718777222607), (3107, 0.05584718777222607), (3824, 0.05584718777222607), (5710, 0.05584718777222607), (169, 0.0557773351022717), (2095, 0.0557773351022717), (2445, 0.05572511727047638), (2059, 0.05568460463897045), (42, 0.055684604638970445), (13, 0.05555555555555556), (387, 0.05555555555555556), (972, 0.05555555555555556), (5152, 0.05551749076482039), (325, 0.05547001962252292), (500, 0.05547001962252292), (629, 0.05547001962252292), (2922, 0.05547001962252292), (3343, 0.05547001962252292), (5100, 0.05547001962252292), (398, 0.05546131366317832), (4835, 0.055461313663178316), (2279, 0.05536365323582664), (165, 0.055257896399553766), (5563, 0.055257896399553766), (635, 0.05524946201098299), (4016, 0.05524946201098299), (1355, 0.055249462010982985), (2183, 0.055249462010982985), (2652, 0.055249462010982985), (4388, 0.055249462010982985), (692, 0.055126548706314865), (1458, 0.055048188256318034), (1607, 0.055048188256318034), (2443, 0.055048188256318034), (2598, 0.055048188256318034), (2640, 0.055048188256318034), (3512, 0.055048188256318034), (4408, 0.055048188256318034), (4432, 0.055048188256318034), (4936, 0.055048188256318034), (141, 0.05494837278298226), (5174, 0.05494837278298225), (1381, 0.05489246463950789), (1483, 0.05489246463950789), (3001, 0.05489246463950789), (4403, 0.05489246463950789), (4873, 0.05489246463950789), (2358, 0.05484505771759799), (686, 0.054652152981996084), (1975, 0.054652152981996084), (2547, 0.05465215298199608), (2720, 0.05465215298199608), (2870, 0.05463583647081531), (4635, 0.05463583647081531), (4026, 0.054635836470815304), (4463, 0.054635836470815304), (438, 0.054544534591421515), (2329, 0.05443310539518174), (676, 0.05443310539518173), (701, 0.05443310539518173), (1640, 0.05443310539518173), (3047, 0.05443310539518173), (3570, 0.05443310539518173), (4632, 0.05443310539518173), (4656, 0.05443310539518173), (4663, 0.05443310539518173), (5446, 0.05443310539518173), (3525, 0.05439611381401831), (99, 0.05436067275445352), (1679, 0.05436067275445351), (2925, 0.05436067275445351), (3487, 0.05436067275445351), (1386, 0.05423261445466404), (2182, 0.05423261445466404), (2372, 0.05423261445466404), (3780, 0.05423261445466404), (4492, 0.05423261445466404), (4910, 0.05423261445466404), (5794, 0.05423261445466404), (1123, 0.054232614454664034), (5271, 0.054232614454664034), (271, 0.05407380704358752), (1383, 0.05407380704358752), (4906, 0.05407380704358752), (337, 0.053985088678594396), (1302, 0.053985088678594396), (1693, 0.053985088678594396), (4883, 0.053985088678594396), (5025, 0.053958017174002705), (1812, 0.0539580171740027), (727, 0.053838190205816545), (5867, 0.053838190205816545), (4361, 0.05379143536399191), (766, 0.05364417807858202), (1259, 0.05364417807858202), (526, 0.05364417807858201), (638, 0.05354795526016659), (2463, 0.05354795526016659), (2612, 0.05354795526016659), (3408, 0.05354795526016659), (3945, 0.05354795526016659), (774, 0.053530337903131074), (1214, 0.05351344158899463), (2153, 0.05351344158899463), (2519, 0.05351344158899463), (5661, 0.05351344158899463), (2594, 0.053513441588994626), (4896, 0.053513441588994626), (132, 0.05345224838248487), (973, 0.05345224838248487), (1724, 0.05345224838248487), (1960, 0.05345224838248487), (3709, 0.05345224838248487), (4285, 0.05345224838248487), (841, 0.053262364129130754), (1224, 0.053262364129130754), (2636, 0.053262364129130754), (2893, 0.053262364129130754), (2955, 0.053262364129130754), (3850, 0.05326236412913075), (584, 0.05323971374999499), (1310, 0.05323971374999499), (1825, 0.05323971374999499), (5306, 0.05323971374999499), (72, 0.053239713749994984), (416, 0.053239713749994984), (1697, 0.053239713749994984), (3119, 0.053239713749994984), (2573, 0.05312127152597304), (2600, 0.05307448924342753), (3229, 0.05307448924342753), (4003, 0.05307448924342753), (3099, 0.05297014384697736), (4535, 0.05297014384697736), (388, 0.052888588534794514), (1294, 0.052888588534794514), (202, 0.052704627669472995), (795, 0.052704627669472995), (3839, 0.052704627669472995), (86, 0.05270462766947299), (118, 0.05270462766947299), (280, 0.05270462766947299), (570, 0.05270462766947299), (598, 0.05270462766947299), (772, 0.05270462766947299), (791, 0.05270462766947299), (1077, 0.05270462766947299), (1231, 0.05270462766947299), (1487, 0.05270462766947299), (1517, 0.05270462766947299), (1737, 0.05270462766947299), (1810, 0.05270462766947299), (2072, 0.05270462766947299), (2152, 0.05270462766947299), (2343, 0.05270462766947299), (2459, 0.05270462766947299), (2460, 0.05270462766947299), (2583, 0.05270462766947299), (2644, 0.05270462766947299), (2940, 0.05270462766947299), (2949, 0.05270462766947299), (3180, 0.05270462766947299), (3190, 0.05270462766947299), (3233, 0.05270462766947299), (3336, 0.05270462766947299), (3461, 0.05270462766947299), (3473, 0.05270462766947299), (3730, 0.05270462766947299), (4125, 0.05270462766947299), (4151, 0.05270462766947299), (4481, 0.05270462766947299), (4491, 0.05270462766947299), (4606, 0.05270462766947299), (4680, 0.05270462766947299), (4780, 0.05270462766947299), (4801, 0.05270462766947299), (4844, 0.05270462766947299), (5011, 0.05270462766947299), (5050, 0.05270462766947299), (5124, 0.05270462766947299), (5237, 0.05270462766947299), (5476, 0.05270462766947299), (5629, 0.05270462766947299), (5790, 0.05270462766947299), (5838, 0.05270462766947299), (5865, 0.05270462766947299), (720, 0.05270462766947298), (1376, 0.05270462766947298), (2381, 0.05270462766947298), (4207, 0.05270462766947298), (4870, 0.05270462766947298), (5628, 0.05270462766947298), (965, 0.052570689390255505), (2314, 0.05252257314388903), (4013, 0.05252257314388903), (5572, 0.05252257314388903), (3727, 0.05252257314388902), (4795, 0.05252257314388902), (5157, 0.05252257314388902), (4007, 0.05249994873054386), (172, 0.05244306462729605), (651, 0.05244306462729605), (2992, 0.05244306462729605), (3982, 0.05244306462729605), (1938, 0.05243776708047439), (5757, 0.05234239225902136), (1314, 0.05229763603684908), (1535, 0.05229763603684908), (5435, 0.05229763603684908), (460, 0.052185357590429124), (1429, 0.052185357590429124), (3273, 0.052185357590429124), (3478, 0.052185357590429124), (5976, 0.052185357590429124), (389, 0.052164053095730106), (1880, 0.052164053095730106), (3530, 0.052164053095730106), (5328, 0.052164053095730106), (5669, 0.052164053095730106), (263, 0.051987524491003634), (744, 0.051987524491003634), (2309, 0.051987524491003634), (3144, 0.051987524491003634), (3323, 0.051987524491003634), (3545, 0.051987524491003634), (3629, 0.051987524491003634), (5368, 0.051987524491003634), (3698, 0.05198752449100363), (139, 0.05193141273747966), (163, 0.05193141273747966), (2159, 0.05193141273747966), (2240, 0.05193141273747966), (3042, 0.05193141273747966), (4310, 0.05193141273747966), (4594, 0.05193141273747966), (5056, 0.05193141273747966), (5187, 0.05193141273747966), (5104, 0.0518999296107682), (1973, 0.05189992961076819), (2147, 0.05189992961076819), (2669, 0.05189992961076819), (3271, 0.05189992961076819), (4464, 0.05189992961076819), (4514, 0.05189992961076819), (5281, 0.05189992961076819), (5320, 0.05189992961076819), (5592, 0.05189992961076819), (1759, 0.05181277601508399), (995, 0.05181277601508398), (5684, 0.051787955522155454), (1359, 0.051681139412170195), (3556, 0.051681139412170195), (4971, 0.051681139412170195), (783, 0.051639777949432225), (1141, 0.051639777949432225), (913, 0.05151116061908372), (961, 0.05151116061908372), (1534, 0.05151116061908372), (1708, 0.05151116061908372), (2103, 0.05151116061908372), (2542, 0.05151116061908372), (5888, 0.05151116061908372), (1826, 0.051468501265497874), (209, 0.051434449987363975), (1265, 0.051434449987363975), (1374, 0.051434449987363975), (2385, 0.051434449987363975), (3483, 0.051434449987363975), (5119, 0.051409475744577035), (455, 0.051298917604257706), (1067, 0.051298917604257706), (1955, 0.051298917604257706), (3172, 0.051298917604257706), (3809, 0.051298917604257706), (5560, 0.051298917604257706), (27, 0.05119125973616259), (211, 0.05119125973616259), (699, 0.05119125973616259), (1477, 0.05119125973616259), (567, 0.05113099925649136), (658, 0.05113099925649136), (975, 0.05113099925649136), (1459, 0.05113099925649136), (1661, 0.05113099925649136), (2487, 0.05113099925649136), (3158, 0.05113099925649136), (3429, 0.05113099925649136), (3776, 0.05113099925649136), (3818, 0.05113099925649136), (4133, 0.05113099925649136), (4771, 0.05113099925649136), (4907, 0.05113099925649136), (5019, 0.05113099925649136), (5107, 0.05113099925649136), (5751, 0.05113099925649136), (1555, 0.05095148670964525), (1556, 0.05095148670964525), (1895, 0.05095148670964525), (3255, 0.05095148670964525), (4983, 0.05095148670964525), (5099, 0.05095148670964525), (4605, 0.05091750772173156), (1838, 0.0508000508000762), (5353, 0.05079670682147928), (1245, 0.05075913250845873), (3705, 0.05075913250845873), (4887, 0.05075913250845873), (1402, 0.05071505162084872), (5135, 0.05071505162084872), (1760, 0.05071505162084871), (3051, 0.05071505162084871), (1941, 0.05063696835418333), (2815, 0.05063696835418333), (78, 0.050636968354183326), (471, 0.050636968354183326), (962, 0.050636968354183326), (2172, 0.050636968354183326), (2688, 0.050636968354183326), (3316, 0.050636968354183326), (3996, 0.050636968354183326), (4128, 0.050636968354183326), (4228, 0.050636968354183326), (4344, 0.050636968354183326), (4449, 0.050636968354183326), (4723, 0.050636968354183326), (4745, 0.050636968354183326), (5590, 0.050636968354183326), (746, 0.05055766216870127), (3083, 0.05055766216870127), (588, 0.050481877734615224), (615, 0.050481877734615224), (1859, 0.050481877734615224), (4421, 0.050481877734615224), (4560, 0.050481877734615224), (5759, 0.050481877734615224), (16, 0.05039526306789696), (1519, 0.05039526306789696), (1923, 0.05039526306789696), (2967, 0.05039526306789696), (3031, 0.05039526306789696), (3227, 0.05039526306789696), (4108, 0.05039526306789696), (5806, 0.05039526306789696), (3774, 0.050321960828271256), (191, 0.05031546054266276), (1407, 0.05031546054266276), (804, 0.050251890762960605), (3890, 0.050251890762960605), (4097, 0.050251890762960605), (4282, 0.050251890762960605), (4961, 0.050251890762960605), (944, 0.050039108336053434), (3360, 0.050039108336053434), (4001, 0.050039108336053434), (657, 0.05002501876563868), (2155, 0.05002501876563868), (3559, 0.05002501876563868), (4839, 0.05002501876563868), (585, 0.05), (1421, 0.05), (2575, 0.05), (3222, 0.05), (3787, 0.05), (5057, 0.05), (5366, 0.05), (301, 0.049999999999999996), (311, 0.049999999999999996), (1109, 0.049999999999999996), (1418, 0.049999999999999996), (3169, 0.04986028170324696), (175, 0.049801192055599734), (267, 0.049801192055599734), (501, 0.049801192055599734), (2865, 0.049801192055599734), (4988, 0.049801192055599734), (5175, 0.049801192055599734), (5975, 0.049801192055599734), (294, 0.04969039949999533), (1038, 0.04969039949999533), (2094, 0.04969039949999533), (3074, 0.04969039949999533), (3418, 0.04969039949999533), (4027, 0.04969039949999533), (4604, 0.04969039949999533), (4992, 0.04969039949999533), (5138, 0.04969039949999533), (5473, 0.04969039949999533), (5771, 0.04969039949999533), (892, 0.0495803431090608), (5208, 0.0495803431090608), (1774, 0.049580343109060794), (2471, 0.049580343109060794), (2700, 0.049580343109060794), (3023, 0.049580343109060794), (5221, 0.049580343109060794), (4018, 0.04953774046180699), (1833, 0.049386479832479485), (2574, 0.049386479832479485), (2696, 0.049386479832479485), (2819, 0.049386479832479485), (3304, 0.049386479832479485), (3779, 0.049386479832479485), (3823, 0.049386479832479485), (5121, 0.049386479832479485), (5419, 0.049386479832479485), (1161, 0.04938647983247948), (991, 0.04936240647992436), (1654, 0.04936240647992436), (2006, 0.04936240647992436), (2201, 0.04936240647992436), (3248, 0.04934888067984035), (3522, 0.04934888067984035), (4034, 0.04934888067984035), (4036, 0.04934888067984035), (5383, 0.04934888067984035), (5639, 0.04934888067984035), (361, 0.04923659639173309), (40, 0.04914731871829904), (66, 0.04914731871829904), (359, 0.04914731871829904), (2043, 0.04914731871829904), (2691, 0.04914731871829904), (273, 0.049088069367381595), (4117, 0.049088069367381595), (1255, 0.04908806936738159), (2037, 0.04908806936738159), (1279, 0.04908203555636165), (1872, 0.04908203555636165), (524, 0.04901430813958718), (1388, 0.04901430813958718), (5750, 0.04901430813958718), (3112, 0.04893501829289196), (3721, 0.04893501829289196), (3888, 0.04893501829289195), (4061, 0.04893501829289195), (756, 0.04879500364742666), (1641, 0.04879500364742666), (1770, 0.04879500364742666), (2485, 0.04879500364742666), (2708, 0.04879500364742666), (3127, 0.04879500364742666), (4329, 0.04879500364742666), (5229, 0.04879500364742666), (5815, 0.04879500364742666), (4437, 0.04872544551705718), (4921, 0.04872544551705718), (710, 0.048686449556014755), (1267, 0.048686449556014755), (1331, 0.048686449556014755), (3648, 0.048686449556014755), (4163, 0.048686449556014755), (4860, 0.048686449556014755), (200, 0.04865042554105199), (966, 0.04865042554105199), (342, 0.04851854247829851), (2846, 0.04851854247829851), (1210, 0.0484448279675173), (87, 0.04836508334066744), (332, 0.04836508334066744), (694, 0.04836508334066744), (1239, 0.04836508334066744), (1369, 0.04836508334066744), (2348, 0.04836508334066744), (2500, 0.04836508334066744), (2528, 0.04836508334066744), (2702, 0.04836508334066744), (2868, 0.04836508334066744), (3098, 0.04836508334066744), (3102, 0.04836508334066744), (4143, 0.04836508334066744), (4459, 0.04836508334066744), (4555, 0.048365083340667435), (3591, 0.04831425297103737), (474, 0.048314252971037364), (4452, 0.048314252971037364), (813, 0.04822428221704121), (1150, 0.04822428221704121), (1849, 0.04822428221704121), (2793, 0.04822428221704121), (2848, 0.04822428221704121), (2860, 0.04822428221704121), (3405, 0.04822428221704121), (3504, 0.04822428221704121), (3643, 0.04822428221704121), (4679, 0.04822428221704121), (4694, 0.04822428221704121), (3451, 0.048112522432468816), (150, 0.0480847036834345), (477, 0.048049998010429806), (2820, 0.048049998010429806), (3221, 0.048049998010429806), (4122, 0.048049998010429806), (1566, 0.047913297881339086), (1379, 0.04791329788133908), (3633, 0.04791329788133908), (133, 0.04774099160262885), (3855, 0.04774099160262885), (3915, 0.04774099160262885), (664, 0.047716527859489016), (47, 0.04767312946227961), (1059, 0.04767312946227961), (1854, 0.04767312946227961), (1870, 0.04767312946227961), (1874, 0.04767312946227961), (1988, 0.04767312946227961), (2516, 0.04767312946227961), (2705, 0.04767312946227961), (3191, 0.04767312946227961), (4309, 0.04767312946227961), (4557, 0.04767312946227961), (5466, 0.04767312946227961), (257, 0.04752216237601675), (1408, 0.04752216237601675), (277, 0.047437871130988005), (1424, 0.047437871130988005), (3710, 0.047437871130988005), (1935, 0.04743174497726827), (314, 0.04740454631399772), (2134, 0.047404546313997716), (1293, 0.047330152853922065), (2660, 0.047330152853922065), (3746, 0.04727194592470654), (3806, 0.0472369525937701), (197, 0.047140452079103175), (2045, 0.047140452079103175), (385, 0.04714045207910317), (393, 0.04714045207910317), (415, 0.04714045207910317), (549, 0.04714045207910317), (682, 0.04714045207910317), (753, 0.04714045207910317), (764, 0.04714045207910317), (967, 0.04714045207910317), (992, 0.04714045207910317), (1012, 0.04714045207910317), (1135, 0.04714045207910317), (1144, 0.04714045207910317), (1281, 0.04714045207910317), (1325, 0.04714045207910317), (1338, 0.04714045207910317), (1457, 0.04714045207910317), (1563, 0.04714045207910317), (1564, 0.04714045207910317), (1633, 0.04714045207910317), (1686, 0.04714045207910317), (1702, 0.04714045207910317), (1881, 0.04714045207910317), (1946, 0.04714045207910317), (1987, 0.04714045207910317), (2115, 0.04714045207910317), (2116, 0.04714045207910317), (2130, 0.04714045207910317), (2215, 0.04714045207910317), (2326, 0.04714045207910317), (2395, 0.04714045207910317), (2407, 0.04714045207910317), (3133, 0.04714045207910317), (3195, 0.04714045207910317), (3237, 0.04714045207910317), (3258, 0.04714045207910317), (3432, 0.04714045207910317), (3436, 0.04714045207910317), (3549, 0.04714045207910317), (3717, 0.04714045207910317), (3814, 0.04714045207910317), (4135, 0.04714045207910317), (4160, 0.04714045207910317), (4199, 0.04714045207910317), (4255, 0.04714045207910317), (4355, 0.04714045207910317), (4373, 0.04714045207910317), (4404, 0.04714045207910317), (4525, 0.04714045207910317), (4847, 0.04714045207910317), (4915, 0.04714045207910317), (5040, 0.04714045207910317), (5041, 0.04714045207910317), (5096, 0.04714045207910317), (5110, 0.04714045207910317), (5161, 0.04714045207910317), (5262, 0.04714045207910317), (5291, 0.04714045207910317), (5352, 0.04714045207910317), (5455, 0.04714045207910317), (5678, 0.04714045207910317), (5692, 0.04714045207910317), (5738, 0.04714045207910317), (2119, 0.04701004947222685), (1583, 0.047010049472226846), (328, 0.04695301415158426), (883, 0.04695301415158426), (1783, 0.04695301415158426), (3141, 0.04695301415158426), (3660, 0.04695301415158426), (151, 0.04684855792842043), (785, 0.04684855792842043), (3879, 0.04684855792842043), (2313, 0.04684855792842042), (597, 0.04676779443885948), (1530, 0.04676779443885948), (2276, 0.04676779443885948), (2954, 0.04676779443885948), (5000, 0.04675245822121844), (1114, 0.04662524041201569), (1081, 0.046625240412015684), (1480, 0.046625240412015684), (3396, 0.046625240412015684), (4429, 0.046625240412015684), (5164, 0.046625240412015684), (5376, 0.046625240412015684), (36, 0.04658474953124561), (1908, 0.04658474953124561), (2735, 0.04658474953124561), (4268, 0.04658474953124561), (5470, 0.046573612403254944), (723, 0.04656201971797187), (748, 0.04656201971797187), (1652, 0.04656201971797187), (2811, 0.04656201971797187), (3829, 0.04656201971797187), (487, 0.04640383719914204), (917, 0.04640383719914204), (1995, 0.04640383719914204), (2036, 0.04640383719914204), (4213, 0.04640383719914204), (4962, 0.04640383719914204), (1090, 0.04637388957601683), (2142, 0.04629775442439846), (230, 0.04628067563337489), (323, 0.04628067563337489), (749, 0.04628067563337489), (902, 0.04628067563337489), (1672, 0.04628067563337489), (4485, 0.04628067563337489), (145, 0.04622501635210243), (368, 0.04622501635210243), (2854, 0.04622501635210243), (365, 0.04612656040144425), (780, 0.04612656040144425), (1023, 0.04612656040144425), (2458, 0.04612656040144425), (2537, 0.04612656040144425), (2582, 0.04612656040144425), (2613, 0.04612656040144425), (2913, 0.04612656040144425), (4431, 0.04612656040144425), (4767, 0.04612656040144425), (4539, 0.04604824699962814), (5122, 0.04604824699962814), (397, 0.046004370622823615), (1233, 0.046004370622823615), (1649, 0.046004370622823615), (2319, 0.046004370622823615), (2648, 0.046004370622823615), (2790, 0.046004370622823615), (3337, 0.046004370622823615), (3414, 0.046004370622823615), (3758, 0.046004370622823615), (4296, 0.046004370622823615), (4667, 0.046004370622823615), (4763, 0.046004370622823615), (5206, 0.046004370622823615), (5302, 0.046004370622823615), (5505, 0.046004370622823615), (5800, 0.046004370622823615), (1993, 0.045937455139225876), (1787, 0.04588314677411235), (2914, 0.045873490213598364), (3347, 0.045873490213598364), (2227, 0.04587349021359836), (2942, 0.04587349021359836), (45, 0.045732956038002356), (4156, 0.045732956038002356), (5332, 0.045732956038002356), (2427, 0.04570070809225681), (210, 0.045700708092256806), (1785, 0.045700708092256806), (2208, 0.045700708092256806), (4511, 0.045665849683382775), (1690, 0.045643546458763846), (2033, 0.045643546458763846), (2140, 0.045643546458763846), (2205, 0.045643546458763846), (3908, 0.045643546458763846), (5211, 0.045643546458763846), (5641, 0.045643546458763846), (5932, 0.045643546458763846), (904, 0.04552986372567942), (2994, 0.04552986372567942), (3623, 0.04552986372567942), (4892, 0.04549869193141018), (492, 0.045466289298031565), (622, 0.045466289298031565), (1681, 0.045466289298031565), (2435, 0.045466289298031565), (166, 0.045360921162651446), (340, 0.045360921162651446), (5257, 0.045360921162651446), (5367, 0.045360921162651446), (448, 0.04520423357472069), (1446, 0.04520423357472069), (3691, 0.04520423357472069), (5032, 0.04520423357472069), (2125, 0.045193845378886696), (3457, 0.045193845378886696), (3154, 0.04517539514526256), (3988, 0.04517539514526256), (4284, 0.04517539514526256), (656, 0.045028602246524926), (2001, 0.045028602246524926), (79, 0.04494665749754947), (331, 0.04494665749754947), (1550, 0.04494665749754947), (1835, 0.04494665749754947), (2482, 0.04494665749754947), (2835, 0.04494665749754947), (3022, 0.04494665749754947), (3348, 0.04494665749754947), (3617, 0.04494665749754947), (4497, 0.04494665749754947), (4558, 0.04494665749754947), (5243, 0.04494665749754947), (3961, 0.044865158504847125), (911, 0.044721359549995794), (1454, 0.044721359549995794), (2364, 0.044721359549995794), (2958, 0.044721359549995794), (3762, 0.044721359549995794), (4762, 0.044721359549995794), (4970, 0.044721359549995794), (276, 0.044703481732151676), (364, 0.044703481732151676), (2291, 0.044703481732151676), (2513, 0.044703481732151676), (3674, 0.044703481732151676), (5358, 0.044703481732151676), (856, 0.04469343487693273), (1087, 0.04469343487693273), (1667, 0.04469343487693273), (396, 0.0445435403187374), (1638, 0.0445435403187374), (2818, 0.0445435403187374), (960, 0.044444444444444446), (2151, 0.044444444444444446), (2595, 0.044444444444444446), (3199, 0.044444444444444446), (3538, 0.044444444444444446), (4564, 0.044444444444444446), (2376, 0.0443853034409423), (174, 0.04438530344094229), (399, 0.04438530344094229), (778, 0.04438530344094229), (1047, 0.044280744277004756), (2082, 0.044280744277004756), (3902, 0.044280744277004756), (4381, 0.044280744277004756), (4639, 0.044280744277004756), (5342, 0.044280744277004756), (5513, 0.044280744277004756), (5585, 0.044280744277004756), (239, 0.04422874103618961), (451, 0.04422874103618961), (2576, 0.04422874103618961), (2907, 0.04422874103618961), (4317, 0.04422874103618961), (803, 0.04419956960878639), (993, 0.04419956960878639), (1099, 0.04419956960878639), (2419, 0.04419956960878639), (3333, 0.04419956960878639), (3696, 0.04419956960878639), (3706, 0.04419956960878639), (4223, 0.04419956960878639), (4735, 0.04419956960878639), (4390, 0.044172610429938614), (48, 0.0439586982263858), (850, 0.0439586982263858), (868, 0.0439586982263858), (1584, 0.0439586982263858), (2304, 0.0439586982263858), (3267, 0.0439586982263858), (4338, 0.0439586982263858), (4607, 0.0439586982263858), (5658, 0.0439586982263858), (5833, 0.0439586982263858), (504, 0.04392052305789415), (2751, 0.043852900965351466), (3901, 0.043852900965351466), (4872, 0.043852900965351466), (5395, 0.043852900965351466), (3439, 0.04376881095324085), (4118, 0.04376881095324085), (846, 0.043721722385596865), (1241, 0.043721722385596865), (2991, 0.043721722385596865), (3699, 0.043721722385596865), (4772, 0.04361866021585114), (2209, 0.04354003441841081), (96, 0.04348853820356281), (593, 0.04348853820356281), (625, 0.04348853820356281), (653, 0.04348853820356281), (1514, 0.04348853820356281), (5477, 0.04348853820356281), (933, 0.043470044246441755), (1145, 0.04343722427630694), (1489, 0.04343722427630694), (3097, 0.04343722427630694), (1952, 0.04332293707583636), (2657, 0.04332293707583636), (3016, 0.043259045634870014), (3767, 0.043259045634870014), (4402, 0.043259045634870014), (4935, 0.043259045634870014), (3293, 0.04317731334590332), (1136, 0.04303314829119353), (1223, 0.04303314829119353), (1264, 0.04303314829119353), (1270, 0.04303314829119353), (1898, 0.04303314829119353), (2117, 0.04303314829119353), (2412, 0.04303314829119353), (2450, 0.04303314829119353), (2687, 0.04303314829119353), (2709, 0.04303314829119353), (2741, 0.04303314829119353), (2765, 0.04303314829119353), (2906, 0.04303314829119353), (2930, 0.04303314829119353), (3329, 0.04303314829119353), (3462, 0.04303314829119353), (3537, 0.04303314829119353), (3672, 0.04303314829119353), (4113, 0.04303314829119353), (4220, 0.04303314829119353), (4237, 0.04303314829119353), (4244, 0.04303314829119353), (4358, 0.04303314829119353), (4595, 0.04303314829119353), (4996, 0.04303314829119353), (5117, 0.04303314829119353), (5140, 0.04303314829119353), (5538, 0.04303314829119353), (5745, 0.04303314829119353), (5935, 0.04303314829119353), (291, 0.04303314829119352), (614, 0.04303314829119352), (1966, 0.04303314829119352), (2221, 0.04303314829119352), (2286, 0.04303314829119352), (2342, 0.04303314829119352), (3176, 0.04303314829119352), (3266, 0.04303314829119352), (3876, 0.04303314829119352), (4008, 0.04303314829119352), (4556, 0.04303314829119352), (4651, 0.04303314829119352), (5103, 0.04303314829119352), (5611, 0.04303314829119352), (2416, 0.04293387907410918), (4611, 0.042835293687811936), (343, 0.042810753271195705), (538, 0.042810753271195705), (3212, 0.042810753271195705), (3321, 0.042810753271195705), (4180, 0.042810753271195705), (4434, 0.042810753271195705), (1587, 0.04264014327112209), (1788, 0.04264014327112209), (3452, 0.04264014327112209), (3572, 0.04264014327112209), (4813, 0.04264014327112209), (5723, 0.04264014327112209), (4109, 0.04260916604707614), (5407, 0.04260916604707614), (295, 0.04259177099999599), (1282, 0.04259177099999599), (2148, 0.04259177099999599), (2448, 0.04259177099999599), (3415, 0.04259177099999599), (3595, 0.04259177099999599), (4964, 0.04259177099999599), (2834, 0.0425298193002952), (4482, 0.0425298193002952), (2310, 0.04247059928646879), (2784, 0.04247059928646879), (2921, 0.04247059928646879), (5665, 0.04247059928646879), (2971, 0.042447635997800895), (358, 0.042376115077581884), (508, 0.042376115077581884), (1620, 0.042376115077581884), (2235, 0.042376115077581884), (2755, 0.042376115077581884), (3586, 0.042376115077581884), (1065, 0.04233337566673017), (1133, 0.04233337566673017), (244, 0.04225771273642583), (2510, 0.04225771273642583), (4616, 0.04225771273642583), (1476, 0.04219747362848611), (22, 0.04216370213557839), (413, 0.04216370213557839), (452, 0.04216370213557839), (674, 0.04216370213557839), (1726, 0.04216370213557839), (1738, 0.04216370213557839), (1762, 0.04216370213557839), (3577, 0.04216370213557839), (5542, 0.04216370213557839), (5897, 0.04216370213557839), (5412, 0.04207031619116713), (123, 0.04206287209375573), (3059, 0.04205868652510078), (321, 0.04195445170183684), (553, 0.04195445170183684), (1063, 0.04195445170183684), (1751, 0.04195445170183684), (2453, 0.04195445170183684), (4132, 0.04195445170183684), (3040, 0.04192955045221897), (719, 0.04188539082916955), (1912, 0.04188539082916955), (3707, 0.04188539082916955), (3765, 0.04188539082916955), (4233, 0.04188539082916955), (4257, 0.04188539082916955), (4357, 0.04188539082916955), (4448, 0.04188539082916955), (349, 0.041797488547959935), (1280, 0.041797488547959935), (302, 0.0417482860723433), (446, 0.0417482860723433), (4453, 0.0417482860723433), (5293, 0.0417482860723433), (1052, 0.041666666666666664), (5399, 0.04161251892882395), (142, 0.04154513018998372), (706, 0.04154513018998372), (1734, 0.04154513018998372), (2331, 0.04154513018998372), (2799, 0.04154513018998372), (1494, 0.0415370655232689), (433, 0.04152273992686998), (2389, 0.04152273992686998), (2410, 0.04152273992686998), (2579, 0.04152273992686998), (3319, 0.04152273992686998), (4626, 0.04152273992686998), (5929, 0.04152273992686998), (498, 0.041408666249996104), (1644, 0.041408666249996104), (181, 0.041344911529736156), (968, 0.041344911529736156), (2041, 0.041344911529736156), (2229, 0.041344911529736156), (3434, 0.041344911529736156), (3505, 0.041344911529736156), (4623, 0.041344911529736156), (4968, 0.041344911529736156), (5007, 0.041344911529736156), (5441, 0.041344911529736156), (5591, 0.041344911529736156), (4782, 0.041281450384839165), (1650, 0.04128145038483916), (1301, 0.04116934847963092), (2295, 0.04116934847963092), (2798, 0.04116934847963092), (2847, 0.04116934847963092), (3069, 0.04116934847963092), (552, 0.04114755998989118), (555, 0.04114755998989118), (5576, 0.04114755998989118), (3960, 0.04103049699311091), (514, 0.040953007788930074), (1009, 0.040953007788930074), (5632, 0.040953007788930074), (2800, 0.0408248290463863), (4953, 0.0408248290463863), (5727, 0.0408248290463863), (2782, 0.0407840653526997), (4695, 0.0407840653526997), (232, 0.0407611893677162), (1871, 0.0407611893677162), (3157, 0.0407611893677162), (251, 0.040662503039522215), (5111, 0.040662503039522215), (240, 0.04057204129667897), (685, 0.04057204129667897), (1365, 0.04057204129667897), (3687, 0.04057204129667897), (3708, 0.04057204129667897), (4766, 0.04057204129667897), (4804, 0.04057204129667897), (4927, 0.04057204129667897), (5338, 0.04057204129667897), (5817, 0.04057204129667897), (760, 0.04054202128420999), (901, 0.04054202128420999), (2374, 0.04054202128420999), (4383, 0.04054202128420999), (5980, 0.04054202128420999), (2098, 0.0404888165089458), (2461, 0.0404888165089458), (2511, 0.0404888165089458), (2608, 0.0404888165089458), (2801, 0.0404888165089458), (3920, 0.0404888165089458), (5085, 0.0404888165089458), (149, 0.04038550218769218), (1107, 0.04038550218769218), (1404, 0.04038550218769218), (3615, 0.04038550218769218), (5392, 0.04038550218769218), (5765, 0.04038550218769218), (8, 0.04020151261036849), (1792, 0.04020151261036849), (2622, 0.04020151261036849), (4504, 0.04020151261036849), (4706, 0.04020151261036849), (1316, 0.040186901847534345), (899, 0.04016096644512494), (3298, 0.04016096644512494), (3542, 0.04016096644512494), (4085, 0.04016096644512494), (4112, 0.04016096644512494), (5863, 0.04016096644512494), (5946, 0.04016096644512494), (3684, 0.04007058640286208), (5850, 0.04007058640286208), (775, 0.04002001501251094), (1710, 0.04002001501251094), (1842, 0.04002001501251094), (2077, 0.04002001501251094), (3206, 0.04002001501251094), (4304, 0.04002001501251094), (5184, 0.04002001501251094), (5553, 0.04002001501251094), (24, 0.03984095364447979), (286, 0.03984095364447979), (472, 0.03984095364447979), (488, 0.03984095364447979), (562, 0.03984095364447979), (666, 0.03984095364447979), (704, 0.03984095364447979), (1042, 0.03984095364447979), (2285, 0.03984095364447979), (2474, 0.03984095364447979), (2492, 0.03984095364447979), (2713, 0.03984095364447979), (2728, 0.03984095364447979), (3524, 0.03984095364447979), (3619, 0.03984095364447979), (3644, 0.03984095364447979), (3650, 0.03984095364447979), (3895, 0.03984095364447979), (3912, 0.03984095364447979), (3942, 0.03984095364447979), (4006, 0.03984095364447979), (4274, 0.03984095364447979), (4276, 0.03984095364447979), (4320, 0.03984095364447979), (4424, 0.03984095364447979), (4479, 0.03984095364447979), (4523, 0.03984095364447979), (4841, 0.03984095364447979), (4885, 0.03984095364447979), (4945, 0.03984095364447979), (5009, 0.03984095364447979), (5062, 0.03984095364447979), (5163, 0.03984095364447979), (5200, 0.03984095364447979), (5509, 0.03984095364447979), (5555, 0.03984095364447979), (5650, 0.03984095364447979), (5802, 0.03984095364447979), (1469, 0.03984095364447978), (2233, 0.03984095364447978), (2288, 0.03984095364447978), (3357, 0.03984095364447978), (4313, 0.03984095364447978), (4776, 0.03984095364447978), (855, 0.03966427448724864), (1106, 0.03966427448724864), (2126, 0.03966427448724864), (2249, 0.03966427448724864), (3247, 0.03966427448724864), (4391, 0.03961522404512737), (3243, 0.039615224045127365), (203, 0.03952847075210474), (1377, 0.03952847075210474), (3036, 0.03952847075210474), (3050, 0.03952847075210474), (4183, 0.03952847075210474), (5640, 0.03952847075210474), (5768, 0.03952847075210474), (5883, 0.03952847075210474), (496, 0.03948992518393949), (1450, 0.03948992518393949), (3555, 0.03948992518393949), (604, 0.039393288270588786), (586, 0.03931785497463924), (3125, 0.03931785497463924), (5307, 0.03931785497463924), (1432, 0.03922322702763681), (2677, 0.03922322702763681), (3362, 0.03922322702763681), (3664, 0.03922322702763681), (5796, 0.03922322702763681), (2350, 0.03917504122685571), (3005, 0.03917504122685571), (4370, 0.03917504122685571), (268, 0.03914801463431356), (1035, 0.03914801463431356), (1332, 0.03914801463431356), (3663, 0.03914801463431356), (3838, 0.03914801463431356), (5965, 0.03914801463431356), (4814, 0.039067269244874615), (64, 0.03898035641364574), (298, 0.03898035641364574), (725, 0.03892494720807614), (1698, 0.03892494720807614), (5506, 0.03892494720807614), (770, 0.038814833982638804), (3673, 0.038814833982638804), (4705, 0.038814833982638804), (5968, 0.038814833982638804), (252, 0.038749212914606423), (3535, 0.038749212914606423), (2758, 0.038651402376829895), (3188, 0.038651402376829895), (3449, 0.038651402376829895), (4507, 0.038651402376829895), (4577, 0.038651402376829895), (5529, 0.038651402376829895), (4597, 0.03864490798001403), (1706, 0.03863337046431279), (5767, 0.03863337046431279), (4641, 0.03854144083857335), (41, 0.03849001794597505), (533, 0.03849001794597505), (550, 0.03849001794597505), (630, 0.03849001794597505), (742, 0.03849001794597505), (1299, 0.03849001794597505), (1549, 0.03849001794597505), (1581, 0.03849001794597505), (2109, 0.03849001794597505), (2320, 0.03849001794597505), (2505, 0.03849001794597505), (4251, 0.03849001794597505), (4461, 0.03849001794597505), (5526, 0.03849001794597505), (5602, 0.03849001794597505), (5675, 0.03849001794597505), (1189, 0.03843880033453688), (4177, 0.03843880033453688), (1342, 0.03834824944236852), (1683, 0.03834824944236852), (2327, 0.03834824944236852), (3142, 0.03834824944236852), (3922, 0.03834824944236852), (4000, 0.03834824944236852), (2011, 0.03833697551901968), (1401, 0.03833063830507127), (2556, 0.03833063830507127), (2716, 0.03833063830507127), (4939, 0.03833063830507127), (5670, 0.03833063830507127), (249, 0.038173222287591214), (637, 0.038173222287591214), (2689, 0.038173222287591214), (2840, 0.038173222287591214), (2879, 0.038173222287591214), (4653, 0.038173222287591214), (1353, 0.03806934938134405), (2019, 0.03806934938134405), (2029, 0.03806934938134405), (4999, 0.03806934938134405), (5108, 0.03806934938134405), (4144, 0.03803628871563654), (167, 0.0380177299008134), (718, 0.0380177299008134), (1295, 0.0380177299008134), (2872, 0.0380177299008134), (3123, 0.0380177299008134), (5761, 0.0380177299008134), (2186, 0.03786412228313765), (3116, 0.03786412228313765), (3472, 0.03786412228313765), (3769, 0.03786412228313765), (4075, 0.03786412228313765), (4123, 0.03786412228313765), (4446, 0.03786412228313765), (4798, 0.03786412228313765), (5345, 0.03786412228313765), (5780, 0.03786412228313765), (2481, 0.03779644730092272), (3475, 0.03779644730092272), (5481, 0.03779644730092272), (5709, 0.03779644730092272), (2473, 0.03774256780481986), (5717, 0.03774256780481986), (2456, 0.03771236166328253), (293, 0.037562411321267405), (454, 0.037562411321267405), (1621, 0.03755049242161108), (300, 0.037529331252040075), (478, 0.037529331252040075), (2074, 0.037529331252040075), (2347, 0.037529331252040075), (2970, 0.037529331252040075), (3269, 0.037529331252040075), (3889, 0.037529331252040075), (3925, 0.037529331252040075), (4380, 0.037529331252040075), (5240, 0.037529331252040075), (2772, 0.03745554791462456), (671, 0.03741423555108758), (964, 0.03741423555108758), (5290, 0.03741423555108758), (5832, 0.03741423555108758), (1567, 0.037361319971851686), (2889, 0.0372677996249965), (4021, 0.0372677996249965), (4359, 0.0372677996249965), (25, 0.03726779962499649), (761, 0.03726779962499649), (956, 0.03726779962499649), (1199, 0.03726779962499649), (1465, 0.03726779962499649), (2192, 0.03726779962499649), (2414, 0.03726779962499649), (2457, 0.03726779962499649), (2535, 0.03726779962499649), (2722, 0.03726779962499649), (3800, 0.03726779962499649), (3812, 0.03726779962499649), (3819, 0.03726779962499649), (4041, 0.03726779962499649), (4063, 0.03726779962499649), (4190, 0.03726779962499649), (4438, 0.03726779962499649), (4515, 0.03726779962499649), (4995, 0.03726779962499649), (5023, 0.03726779962499649), (5176, 0.03726779962499649), (5269, 0.03726779962499649), (5461, 0.03726779962499649), (5559, 0.03726779962499649), (5651, 0.03726779962499649), (5812, 0.03726779962499649), (5827, 0.03726779962499649), (1991, 0.037123069759313634), (4012, 0.037123069759313634), (518, 0.037011660509880265), (1159, 0.037011660509880265), (1749, 0.037011660509880265), (1902, 0.037011660509880265), (3260, 0.037011660509880265), (4356, 0.037011660509880265), (5374, 0.037011660509880265), (0, 0.03699139680153961), (98, 0.036980013081681945), (3019, 0.036980013081681945), (3528, 0.036980013081681945), (4880, 0.036980013081681945), (2540, 0.03683859759970251), (213, 0.036760731104690386), (675, 0.036760731104690386), (1730, 0.036760731104690386), (2087, 0.036760731104690386), (3210, 0.036760731104690386), (4530, 0.036760731104690386), (229, 0.03669879217087869), (535, 0.03669879217087869), (828, 0.03669879217087869), (3068, 0.03669879217087869), (3426, 0.03669879217087869), (3532, 0.03669879217087869), (3614, 0.03669879217087869), (5195, 0.03669879217087869), (5966, 0.03669879217087869), (3657, 0.03663224852198817), (1249, 0.03656056647380545), (2426, 0.03656056647380545), (3458, 0.03656056647380545), (5443, 0.03656056647380545), (425, 0.036514837167011066), (1707, 0.036514837167011066), (2022, 0.036514837167011066), (2219, 0.036514837167011066), (4077, 0.036514837167011066), (4299, 0.036514837167011066), (5341, 0.036514837167011066), (2411, 0.036288736930121156), (3238, 0.036288736930121156), (4985, 0.036288736930121156), (5263, 0.036288736930121156), (112, 0.03627381250550058), (1755, 0.03627381250550058), (2467, 0.03627381250550058), (2849, 0.03627381250550058), (4494, 0.03627381250550058), (5212, 0.03627381250550058), (480, 0.03615507630310936), (1013, 0.03615507630310936), (1590, 0.03615507630310936), (1753, 0.03615507630310936), (2189, 0.03615507630310936), (2337, 0.03615507630310936), (3711, 0.03615507630310936), (4088, 0.03615507630310936), (4610, 0.03615507630310936), (5356, 0.03615507630310936), (5369, 0.03615507630310936), (5414, 0.03615507630310936), (5908, 0.03615507630310936), (1430, 0.03611261583478662), (2892, 0.036037498507822355), (4286, 0.036037498507822355), (509, 0.03602814176392641), (269, 0.03602288179721994), (708, 0.03602288179721994), (1981, 0.0358921268038777), (2494, 0.0358921268038777), (4744, 0.0358921268038777), (5294, 0.0358921268038777), (4154, 0.03586095690932793), (32, 0.03580574370197164), (909, 0.03580574370197164), (1070, 0.03580574370197164), (3223, 0.03580574370197164), (3554, 0.03580574370197164), (4833, 0.03580574370197164), (649, 0.03576278538572134), (1050, 0.03576278538572134), (5273, 0.03576278538572134), (556, 0.035634832254989916), (1647, 0.035634832254989916), (2105, 0.035634832254989916), (3277, 0.035634832254989916), (4302, 0.035634832254989916), (5134, 0.035634832254989916), (5876, 0.035634832254989916), (5922, 0.035634832254989916), (2038, 0.035578403348241), (2692, 0.035578403348241), (3600, 0.035578403348241), (5247, 0.035508242752753834), (346, 0.03545296915095975), (158, 0.03538299282895169), (2081, 0.03538299282895169), (3856, 0.035355339059327376), (4602, 0.035355339059327376), (189, 0.03525905902319634), (2707, 0.03525905902319634), (3802, 0.03525905902319634), (4308, 0.035214760613688195), (57, 0.03513641844631532), (212, 0.03513641844631532), (378, 0.03513641844631532), (566, 0.03513641844631532), (873, 0.03513641844631532), (1056, 0.03513641844631532), (1174, 0.03513641844631532), (1237, 0.03513641844631532), (1283, 0.03513641844631532), (1380, 0.03513641844631532), (1605, 0.03513641844631532), (1687, 0.03513641844631532), (1944, 0.03513641844631532), (2104, 0.03513641844631532), (2161, 0.03513641844631532), (2968, 0.03513641844631532), (3020, 0.03513641844631532), (3114, 0.03513641844631532), (3181, 0.03513641844631532), (3187, 0.03513641844631532), (3263, 0.03513641844631532), (3327, 0.03513641844631532), (3349, 0.03513641844631532), (3403, 0.03513641844631532), (3534, 0.03513641844631532), (4106, 0.03513641844631532), (4212, 0.03513641844631532), (4227, 0.03513641844631532), (4886, 0.03513641844631532), (5042, 0.03513641844631532), (5078, 0.03513641844631532), (5266, 0.03513641844631532), (5325, 0.03513641844631532), (5337, 0.03513641844631532), (5344, 0.03513641844631532), (5859, 0.03513641844631532), (479, 0.03501504876259268), (633, 0.03492151478847891), (1524, 0.03492151478847891), (3312, 0.03492151478847891), (3828, 0.03492151478847891), (4569, 0.03492151478847891), (4899, 0.03492151478847891), (1076, 0.03489492817268091), (2171, 0.03489492817268091), (4982, 0.03489492817268091), (3957, 0.034776035397153404), (4350, 0.034776035397153404), (4480, 0.034776035397153404), (3044, 0.034752402342845795), (4600, 0.03471050672503116), (5410, 0.03471050672503116), (80, 0.03465834966066909), (485, 0.03465834966066909), (608, 0.03465834966066909), (1921, 0.03465834966066909), (2057, 0.03465834966066909), (2339, 0.03465834966066909), (3080, 0.03465834966066909), (3305, 0.03465834966066909), (3734, 0.03465834966066909), (3857, 0.03465834966066909), (3871, 0.03465834966066909), (4524, 0.03465834966066909), (4536, 0.03465834966066909), (4951, 0.03465834966066909), (5246, 0.03465834966066909), (5397, 0.03465834966066909), (2486, 0.03450327796711771), (4389, 0.03450327796711771), (4646, 0.03450327796711771), (4884, 0.03450327796711771), (559, 0.03442651863295482), (1182, 0.03442651863295482), (2433, 0.034350269328636315), (977, 0.03431233417699858), (3182, 0.03431233417699858), (37, 0.034299717028501764), (1165, 0.034299717028501764), (4650, 0.034299717028501764), (1468, 0.03419927840283847), (1512, 0.03419927840283847), (1618, 0.03419927840283847), (2311, 0.03419927840283847), (2367, 0.03419927840283847), (2585, 0.03419927840283847), (2803, 0.03419927840283847), (3797, 0.03419927840283847), (4070, 0.03419927840283847), (4150, 0.03419927840283847), (4185, 0.03419927840283847), (4684, 0.03419927840283847), (4857, 0.03419927840283847), (5036, 0.03419927840283847), (5902, 0.03419927840283847), (4863, 0.03416333590378282), (119, 0.034099716973523674), (990, 0.034099716973523674), (1435, 0.034099716973523674), (1523, 0.034099716973523674), (2174, 0.034099716973523674), (5118, 0.034099716973523674), (5312, 0.034099716973523674), (4815, 0.03408733283766091), (1216, 0.03397647942917503), (254, 0.03390317518104052), (513, 0.03390317518104052), (837, 0.03390317518104052), (1700, 0.03390317518104052), (2154, 0.03390317518104052), (2284, 0.03390317518104052), (3086, 0.03390317518104052), (4640, 0.03390317518104052), (4859, 0.03390317518104052), (4967, 0.03390317518104052), (5531, 0.03390317518104052), (2661, 0.03387981784090591), (1709, 0.033866700533384135), (3324, 0.033866700533384135), (1234, 0.033757978902788886), (1554, 0.033757978902788886), (1653, 0.033757978902788886), (1839, 0.033757978902788886), (1989, 0.033757978902788886), (2060, 0.033757978902788886), (2267, 0.033757978902788886), (3052, 0.033757978902788886), (3145, 0.033757978902788886), (3446, 0.033757978902788886), (5948, 0.033757978902788886), (38, 0.0337099931231621), (76, 0.0337099931231621), (315, 0.0337099931231621), (632, 0.0337099931231621), (835, 0.0337099931231621), (2561, 0.0337099931231621), (3578, 0.0337099931231621), (5173, 0.0337099931231621), (5231, 0.0337099931231621), (688, 0.03365029767500458), (1503, 0.03365029767500458), (1220, 0.03354364036177517), (979, 0.03353515152439723), (663, 0.03352007615769955), (2515, 0.03352007615769955), (3907, 0.03352007615769955), (440, 0.033437990838367945), (529, 0.03333333333333333), (1485, 0.03333333333333333), (1836, 0.03333333333333333), (2321, 0.03333333333333333), (2384, 0.03333333333333333), (2425, 0.03333333333333333), (2999, 0.03333333333333333), (4714, 0.03333333333333333), (4924, 0.03333333333333333), (5151, 0.03333333333333333), (5387, 0.03333333333333333), (5582, 0.03333333333333333), (945, 0.03322965241861512), (1694, 0.03322965241861512), (3289, 0.03322965241861512), (380, 0.03314967720658979), (1154, 0.03314967720658979), (2017, 0.03314967720658979), (5086, 0.03314967720658979), (171, 0.03313511552031434), (5919, 0.03302516030787133), (443, 0.03296902366978935), (3382, 0.03296902366978935), (3465, 0.03296902366978935), (4665, 0.03296902366978935), (1548, 0.032924319888319654), (2214, 0.032924319888319654), (3694, 0.032924319888319654), (4225, 0.032924319888319654), (4474, 0.032924319888319654), (4554, 0.032924319888319654), (4994, 0.032924319888319654), (5586, 0.032924319888319654), (5933, 0.032924319888319654), (5671, 0.03282439759448873), (4471, 0.03281246795658991), (1882, 0.03279129178919765), (2390, 0.03279129178919765), (2864, 0.03279129178919765), (3759, 0.03279129178919765), (3834, 0.032725379578254395), (3919, 0.032725379578254395), (3444, 0.032627252282159756), (1173, 0.03261640365267211), (1291, 0.03261640365267211), (1580, 0.03261640365267211), (2120, 0.03261640365267211), (2927, 0.03261640365267211), (3139, 0.03261640365267211), (5275, 0.03261640365267211), (2206, 0.03253000243161777), (2552, 0.03253000243161777), (2651, 0.03253000243161777), (2863, 0.03253000243161777), (3519, 0.03253000243161777), (5347, 0.03253000243161777), (5463, 0.03253000243161777), (5498, 0.03253000243161777), (5584, 0.03253000243161777), (5951, 0.03253000243161777), (983, 0.03244428422615251), (1121, 0.03244428422615251), (3131, 0.03244428422615251), (3232, 0.03244428422615251), (3428, 0.03244428422615251), (3995, 0.03244428422615251), (391, 0.032433617027367995), (4912, 0.032338083338177726), (1817, 0.032274861218395144), (5849, 0.032274861218395144), (1569, 0.03224338889377829), (798, 0.03214952147802747), (1274, 0.03214952147802747), (3024, 0.03214952147802747), (3536, 0.03214952147802747), (3763, 0.03214952147802747), (4937, 0.03214952147802747), (5250, 0.03214952147802747), (5819, 0.03214952147802747), (2301, 0.03210806495339678), (3748, 0.03210806495339678), (3999, 0.03210806495339678), (260, 0.03194382824999699), (1333, 0.03194382824999699), (1763, 0.03194382824999699), (4216, 0.03194382824999699), (1646, 0.03187276291558383), (410, 0.031782086308186415), (1400, 0.031782086308186415), (2642, 0.031782086308186415), (2673, 0.031782086308186415), (3354, 0.031782086308186415), (4559, 0.031782086308186415), (810, 0.03178208630818641), (922, 0.03178208630818641), (1599, 0.03178208630818641), (2139, 0.03178208630818641), (2972, 0.03178208630818641), (3058, 0.03178208630818641), (3805, 0.03178208630818641), (4046, 0.03178208630818641), (4114, 0.03178208630818641), (4314, 0.03178208630818641), (4502, 0.03178208630818641), (4908, 0.03178208630818641), (5561, 0.03178208630818641), (5668, 0.03178208630818641), (4248, 0.031692179236101896), (92, 0.03162277660168379), (4124, 0.03162277660168379), (4862, 0.03162277660168379), (5624, 0.03162277660168379), (1026, 0.03146583877637763), (1959, 0.03146583877637763), (2003, 0.03142696805273545), (2257, 0.03142696805273545), (3090, 0.03142696805273545), (4468, 0.03142696805273545), (4572, 0.03142696805273545), (5083, 0.03142696805273545), (5608, 0.03142696805273545), (5874, 0.03142696805273545), (221, 0.031340032981484564), (2560, 0.031168305480812297), (5378, 0.031168305480812297), (1016, 0.031158847642487792), (1061, 0.031158847642487792), (1327, 0.031158847642487792), (2711, 0.031158847642487792), (577, 0.031083493608010458), (1841, 0.031083493608010458), (2545, 0.031083493608010458), (2551, 0.031083493608010458), (3387, 0.031083493608010458), (3395, 0.031083493608010458), (3420, 0.031083493608010458), (3870, 0.031083493608010458), (457, 0.031008683647302117), (4825, 0.031008683647302117), (5202, 0.031008683647302117), (2444, 0.03099937033168514), (5272, 0.03099937033168514), (152, 0.030860669992418387), (310, 0.030860669992418387), (650, 0.030860669992418387), (971, 0.030860669992418387), (5895, 0.030860669992418387), (5381, 0.030833152670858687), (1715, 0.030751040267629502), (2726, 0.030751040267629502), (2977, 0.030751040267629502), (3214, 0.030751040267629502), (5043, 0.030751040267629502), (5055, 0.030751040267629502), (5154, 0.030751040267629502), (5990, 0.030751040267629502), (3693, 0.030714755841697555), (777, 0.030669580415215742), (2539, 0.030669580415215742), (3877, 0.0305887645160749), (574, 0.030570892025787152), (3249, 0.030570892025787152), (1356, 0.030429030972509232), (1375, 0.030429030972509232), (1390, 0.030429030972509232), (1671, 0.030429030972509232), (1765, 0.030429030972509232), (1845, 0.030429030972509232), (2262, 0.030429030972509232), (2559, 0.030429030972509232), (2580, 0.030429030972509232), (3739, 0.030429030972509232), (3852, 0.030429030972509232), (3863, 0.030429030972509232), (4562, 0.030429030972509232), (4823, 0.030429030972509232), (4868, 0.030429030972509232), (5129, 0.030429030972509232), (5934, 0.030429030972509232), (5945, 0.030429030972509232), (114, 0.03042903097250923), (2218, 0.03042903097250923), (4692, 0.03042903097250923), (278, 0.030289126640769132), (1714, 0.030289126640769132), (2338, 0.030289126640769132), (5873, 0.030289126640769132), (2549, 0.03019405424385589), (144, 0.030151134457776365), (578, 0.030151134457776365), (679, 0.030151134457776365), (1082, 0.030151134457776365), (4761, 0.030151134457776365), (5497, 0.030151134457776365), (482, 0.030116930096841705), (542, 0.030116930096841705), (1911, 0.030116930096841705), (3117, 0.030116930096841705), (3228, 0.030116930096841705), (4963, 0.030116930096841705), (5254, 0.030116930096841705), (5388, 0.030116930096841705), (5779, 0.030116930096841705), (5879, 0.030116930096841705), (101, 0.030040393937288863), (606, 0.030015011259383207), (157, 0.02996443833169965), (930, 0.029814239699997195), (1092, 0.029814239699997195), (1403, 0.029814239699997195), (2530, 0.029814239699997195), (2697, 0.029814239699997195), (4458, 0.029814239699997195), (4700, 0.029814239699997195), (4843, 0.029814239699997195), (5359, 0.029814239699997195), (5605, 0.029814239699997195), (5830, 0.029814239699997195), (3179, 0.02974820586543648), (4335, 0.02974820586543648), (450, 0.02961744388795462), (3063, 0.02961744388795462), (220, 0.02952049618466984), (743, 0.02952049618466984), (1058, 0.02952049618466984), (1461, 0.02952049618466984), (2979, 0.02952049618466984), (3981, 0.02952049618466984), (5525, 0.02952049618466984), (5712, 0.02952049618466984), (4565, 0.029488391230979426), (421, 0.02944840695329241), (3017, 0.029361010975735173), (404, 0.02923526731023431), (762, 0.02923526731023431), (1258, 0.02923526731023431), (1559, 0.02923526731023431), (2469, 0.02923526731023431), (3353, 0.02923526731023431), (3613, 0.02923526731023431), (3891, 0.02923526731023431), (4078, 0.02923526731023431), (4262, 0.02923526731023431), (4312, 0.02923526731023431), (4686, 0.02923526731023431), (5249, 0.02923526731023431), (5457, 0.02923526731023431), (5522, 0.02923526731023431), (5607, 0.02923526731023431), (5958, 0.02923526731023431), (5396, 0.029235267310234306), (109, 0.029111125486979104), (754, 0.029111125486979104), (1002, 0.029111125486979104), (1292, 0.029111125486979104), (5191, 0.029111125486979104), (290, 0.029026689612273875), (1350, 0.02898855178262242), (1142, 0.02895814951753796), (2066, 0.02895814951753796), (2312, 0.02895814951753796), (2831, 0.02895814951753796), (3280, 0.02895814951753796), (3533, 0.02895814951753796), (4015, 0.02895814951753796), (4017, 0.02895814951753796), (4496, 0.02895814951753796), (4691, 0.02895814951753796), (3194, 0.028867513459481287), (792, 0.02874797872880345), (226, 0.028688765527462346), (370, 0.028688765527462346), (1080, 0.028688765527462346), (1129, 0.028688765527462346), (1829, 0.028688765527462346), (2275, 0.028688765527462346), (2380, 0.028688765527462346), (3602, 0.028688765527462346), (4166, 0.028688765527462346), (4792, 0.028688765527462346), (5822, 0.028688765527462346), (177, 0.028629916715693413), (3143, 0.028629916715693413), (838, 0.02842676218074806), (970, 0.02842676218074806), (2417, 0.02842676218074806), (2604, 0.02842676218074806), (2719, 0.02842676218074806), (3527, 0.02842676218074806), (3775, 0.02842676218074806), (5511, 0.02842676218074806), (309, 0.02839809171235324), (768, 0.028284271247461898), (865, 0.028284271247461898), (3567, 0.028284271247461898), (148, 0.028171808490950554), (303, 0.028171808490950554), (369, 0.028171808490950554), (432, 0.028171808490950554), (641, 0.028171808490950554), (946, 0.028171808490950554), (2144, 0.028171808490950554), (2465, 0.028171808490950554), (2616, 0.028171808490950554), (2647, 0.028171808490950554), (2809, 0.028171808490950554), (2900, 0.028171808490950554), (3373, 0.028171808490950554), (3496, 0.028171808490950554), (3611, 0.028171808490950554), (4181, 0.028171808490950554), (4580, 0.028171808490950554), (4612, 0.028171808490950554), (5060, 0.028171808490950554), (5430, 0.028171808490950554), (5686, 0.028171808490950554), (5913, 0.028171808490950554), (5972, 0.028171808490950554), (1852, 0.028060676663315687), (3984, 0.027950849718747367), (4713, 0.027950849718747367), (5900, 0.027950849718747367), (642, 0.027923593886113034), (1823, 0.027923593886113034), (2531, 0.027923593886113034), (3471, 0.027923593886113034), (1542, 0.027842302319485226), (2881, 0.027842302319485226), (3286, 0.027842302319485226), (5501, 0.027842302319485226), (437, 0.027777777777777776), (714, 0.02773500981126146), (2866, 0.02773500981126146), (3149, 0.02773500981126146), (5484, 0.02773500981126146), (374, 0.02768182661791332), (408, 0.02768182661791332), (1007, 0.02768182661791332), (1085, 0.02768182661791332), (1319, 0.02768182661791332), (1522, 0.02768182661791332), (3760, 0.02768182661791332), (5288, 0.02768182661791332), (5292, 0.02768182661791332), (5524, 0.02768182661791332), (525, 0.027563274353157433), (4889, 0.027524094128159017), (462, 0.027524094128159014), (1978, 0.027446232319753947), (2871, 0.027446232319753947), (3608, 0.027446232319753947), (5906, 0.027420424855354085), (4094, 0.027317918235407655), (2, 0.027317918235407652), (176, 0.027317918235407652), (356, 0.027317918235407652), (1269, 0.027317918235407652), (715, 0.027216552697590865), (1093, 0.027216552697590865), (2197, 0.027216552697590865), (2294, 0.027216552697590865), (2778, 0.027216552697590865), (3002, 0.027216552697590865), (3259, 0.027216552697590865), (3668, 0.027216552697590865), (3754, 0.027216552697590865), (4210, 0.027216552697590865), (4614, 0.027216552697590865), (5324, 0.027216552697590865), (5494, 0.027216552697590865), (5512, 0.027216552697590865), (5546, 0.027216552697590865), (5656, 0.027216552697590865), (5691, 0.027216552697590865), (5736, 0.027216552697590865), (2912, 0.027160028124223683), (94, 0.02711630722733202), (2089, 0.02711630722733202), (3571, 0.02711630722733202), (3849, 0.02711630722733202), (5777, 0.02711630722733202), (517, 0.02701716134791496), (1382, 0.02701716134791496), (1247, 0.026992544339297198), (1659, 0.026992544339297198), (1794, 0.026992544339297198), (2234, 0.026992544339297198), (2978, 0.026992544339297198), (3372, 0.026992544339297198), (3654, 0.026992544339297198), (3897, 0.026992544339297198), (3910, 0.026992544339297198), (4178, 0.026992544339297198), (4881, 0.026992544339297198), (1571, 0.026919095102908273), (2162, 0.026919095102908273), (2521, 0.026919095102908273), (3253, 0.02682208903929101), (4362, 0.02679126789835623), (1831, 0.026773977630083295), (2359, 0.026773977630083295), (3211, 0.026773977630083295), (3582, 0.026773977630083295), (5566, 0.026773977630083295), (444, 0.026726124191242435), (5464, 0.026666666666666665), (1764, 0.026631182064565377), (1893, 0.02656063576298652), (2495, 0.02656063576298652), (3275, 0.02656063576298652), (4107, 0.02656063576298652), (4477, 0.02656063576298652), (5379, 0.02656063576298652), (5556, 0.02656063576298652), (832, 0.026537244621713765), (877, 0.026537244621713765), (5646, 0.026537244621713765), (5539, 0.02650809241625147), (161, 0.026444294267397257), (4454, 0.026444294267397257), (722, 0.026352313834736494), (881, 0.026352313834736494), (1014, 0.026352313834736494), (1242, 0.026352313834736494), (1516, 0.026352313834736494), (2428, 0.026352313834736494), (2550, 0.026352313834736494), (2668, 0.026352313834736494), (2987, 0.026352313834736494), (3276, 0.026352313834736494), (3424, 0.026352313834736494), (3737, 0.026352313834736494), (3793, 0.026352313834736494), (3820, 0.026352313834736494), (4386, 0.026352313834736494), (4622, 0.026352313834736494), (5440, 0.026352313834736494), (5786, 0.026352313834736494), (5866, 0.026352313834736494), (515, 0.026261286571944514), (816, 0.026261286571944514), (2764, 0.026261286571944514), (1807, 0.02617119612951068), (3724, 0.02614881801842454), (5283, 0.02614881801842454), (1053, 0.026082026547865053), (2931, 0.026082026547865053), (1855, 0.025949964805384095), (4235, 0.025949964805384095), (5204, 0.025949964805384095), (5887, 0.025949964805384095), (4413, 0.02590638800754199), (223, 0.025819888974716113), (3208, 0.025819888974716113), (206, 0.02575558030954186), (3750, 0.02575558030954186), (4645, 0.02575558030954186), (636, 0.025734250632748937), (986, 0.025565499628245683), (187, 0.02556549962824568), (709, 0.02556549962824568), (1227, 0.02556549962824568), (1666, 0.02556549962824568), (1847, 0.02556549962824568), (2064, 0.02556549962824568), (2654, 0.02556549962824568), (3380, 0.02556549962824568), (3874, 0.02556549962824568), (4050, 0.02556549962824568), (4397, 0.02556549962824568), (5038, 0.02556549962824568), (5139, 0.02556549962824568), (5219, 0.02556549962824568), (5245, 0.02556549962824568), (5540, 0.02556549962824568), (5789, 0.02556549962824568), (5886, 0.02556549962824568), (23, 0.025482359571881275), (146, 0.025482359571881275), (473, 0.0254000254000381), (1558, 0.0254000254000381), (2897, 0.0254000254000381), (89, 0.025379566254229366), (1148, 0.025379566254229366), (1175, 0.025379566254229366), (1253, 0.025379566254229366), (2665, 0.025379566254229366), (2842, 0.025379566254229366), (2844, 0.025379566254229366), (2853, 0.025379566254229366), (3886, 0.025379566254229366), (1808, 0.025318484177091663), (4682, 0.02523772325625344), (241, 0.02519763153394848), (673, 0.02519763153394848), (906, 0.02519763153394848), (1006, 0.02519763153394848), (1699, 0.02519763153394848), (3986, 0.02519763153394848), (5959, 0.02519763153394848), (3224, 0.02507849312877596), (2518, 0.025019554168026717), (3215, 0.025019554168026717), (5216, 0.025019554168026717), (5911, 0.025019554168026717), (242, 0.024922239313961342), (564, 0.024922239313961342), (3278, 0.024922239313961342), (5752, 0.024922239313961342), (493, 0.024845199749997667), (1156, 0.024845199749997667), (1527, 0.024845199749997667), (1678, 0.024845199749997667), (2198, 0.024845199749997667), (2577, 0.024845199749997667), (3328, 0.024845199749997667), (3651, 0.024845199749997667), (3892, 0.024845199749997667), (3951, 0.024845199749997667), (3972, 0.024845199749997667), (4260, 0.024845199749997667), (4400, 0.024845199749997667), (5330, 0.024845199749997667), (5519, 0.024845199749997667), (5657, 0.024845199749997667), (5766, 0.024845199749997667), (5872, 0.024845199749997667), (5877, 0.024845199749997667), (154, 0.02484519974999766), (459, 0.02484519974999766), (1297, 0.02484519974999766), (4613, 0.02484519974999766), (2067, 0.024768870230903496), (3320, 0.024768870230903496), (83, 0.024674440339920174), (1096, 0.024674440339920174), (2049, 0.024674440339920174), (3836, 0.024674440339920174), (4746, 0.024674440339920174), (5067, 0.024674440339920174), (5343, 0.024674440339920174), (1427, 0.02450715406979359), (2749, 0.02450715406979359), (4627, 0.02450715406979359), (4672, 0.02450715406979359), (5217, 0.02450715406979359), (5238, 0.02439750182371333), (5260, 0.02439750182371333), (68, 0.024343224778007377), (1513, 0.024343224778007377), (2086, 0.024343224778007377), (5166, 0.024343224778007377), (5915, 0.024343224778007377), (540, 0.02418254167033372), (543, 0.02418254167033372), (1626, 0.02418254167033372), (2088, 0.02418254167033372), (2274, 0.02418254167033372), (2572, 0.02418254167033372), (2898, 0.02418254167033372), (2966, 0.02418254167033372), (3394, 0.02418254167033372), (3745, 0.02418254167033372), (4630, 0.02418254167033372), (4662, 0.02418254167033372), (5735, 0.02418254167033372), (5754, 0.02418254167033372), (5857, 0.02418254167033372), (468, 0.02404235184171725), (4029, 0.024024999005214903), (4141, 0.024024999005214903), (4734, 0.024024999005214903), (5687, 0.024024999005214903), (395, 0.023973165074269207), (5285, 0.023973165074269207), (5729, 0.023973165074269207), (1721, 0.023870495801314427), (3955, 0.023870495801314427), (4743, 0.023870495801314427), (5072, 0.023870495801314427), (336, 0.023836564731139806), (5279, 0.02376913442707642), (1171, 0.023718935565494002), (2053, 0.023718935565494002), (3250, 0.023718935565494002), (4419, 0.023718935565494002), (4791, 0.023718935565494002), (3108, 0.02370227315699886), (928, 0.023570226039551584), (1339, 0.023570226039551584), (2146, 0.023570226039551584), (2685, 0.023570226039551584), (4089, 0.023570226039551584), (4398, 0.023570226039551584), (4516, 0.023570226039551584), (4934, 0.023570226039551584), (4955, 0.023570226039551584), (5672, 0.023570226039551584), (5798, 0.023570226039551584), (1287, 0.023505024736113423), (1552, 0.02344036154692477), (2028, 0.023424278964210215), (4417, 0.023424278964210215), (4543, 0.023424278964210215), (4584, 0.023424278964210215), (5351, 0.023424278964210215), (5363, 0.023424278964210215), (5581, 0.023424278964210215), (1346, 0.023281009858985936), (1994, 0.023281009858985936), (2244, 0.023281009858985936), (3082, 0.023281009858985936), (5530, 0.023281009858985936), (558, 0.023140337816687444), (998, 0.023140337816687444), (1192, 0.023140337816687444), (3030, 0.023140337816687444), (5102, 0.023140337816687444), (5756, 0.023140337816687444), (5881, 0.023140337816687444), (21, 0.023002185311411807), (195, 0.023002185311411807), (600, 0.023002185311411807), (1478, 0.023002185311411807), (2546, 0.023002185311411807), (3140, 0.023002185311411807), (3262, 0.023002185311411807), (3318, 0.023002185311411807), (3781, 0.023002185311411807), (3973, 0.023002185311411807), (4363, 0.023002185311411807), (4517, 0.023002185311411807), (4732, 0.023002185311411807), (5350, 0.023002185311411807), (2340, 0.022934030538459382), (306, 0.022866478019001178), (3105, 0.022866478019001178), (3427, 0.022866478019001178), (1623, 0.022821773229381923), (2715, 0.022733144649015782), (4829, 0.022733144649015782), (5045, 0.022733144649015782), (624, 0.022602116787360346), (2524, 0.022602116787360346), (3041, 0.022602116787360346), (173, 0.022473328748774734), (265, 0.022473328748774734), (1169, 0.022473328748774734), (1897, 0.022473328748774734), (1939, 0.022473328748774734), (1957, 0.022473328748774734), (2200, 0.022473328748774734), (2512, 0.022473328748774734), (2624, 0.022473328748774734), (2810, 0.022473328748774734), (2894, 0.022473328748774734), (2989, 0.022473328748774734), (3367, 0.022473328748774734), (3936, 0.022473328748774734), (4696, 0.022473328748774734), (4710, 0.022473328748774734), (5500, 0.022473328748774734), (5567, 0.022473328748774734), (898, 0.022416791983111015), (2351, 0.022360679774997897), (1780, 0.022346717438466366), (2184, 0.022346717438466366), (3034, 0.022346717438466366), (3213, 0.022346717438466366), (1207, 0.022304986837273527), (1634, 0.022222222222222223), (2964, 0.022222222222222223), (1731, 0.022099784804393195), (4047, 0.022099784804393195), (4202, 0.022099784804393195), (5589, 0.022099784804393195), (429, 0.0219793491131929), (660, 0.0219793491131929), (1163, 0.0219793491131929), (1202, 0.0219793491131929), (1256, 0.0219793491131929), (2242, 0.0219793491131929), (2281, 0.0219793491131929), (3642, 0.0219793491131929), (3813, 0.0219793491131929), (3900, 0.0219793491131929), (4200, 0.0219793491131929), (4842, 0.0219793491131929), (5097, 0.0219793491131929), (5137, 0.0219793491131929), (5203, 0.0219793491131929), (5210, 0.0219793491131929), (5339, 0.0219793491131929), (5354, 0.0219793491131929), (5568, 0.0219793491131929), (5875, 0.0219793491131929), (1235, 0.021873931962990353), (2477, 0.021860861192798432), (4111, 0.021860861192798432), (948, 0.021744269101781406), (1736, 0.021744269101781406), (2047, 0.021744269101781406), (2123, 0.021744269101781406), (2533, 0.021744269101781406), (2298, 0.02171861213815347), (5664, 0.02171861213815347), (1837, 0.021667569500871973), (5133, 0.021667569500871973), (587, 0.021629522817435007), (1933, 0.021629522817435007), (2225, 0.021629522817435007), (2236, 0.021629522817435007), (2263, 0.021629522817435007), (4608, 0.021629522817435007), (1680, 0.021616885058355847), (691, 0.021516574145596764), (1184, 0.021516574145596764), (1357, 0.021516574145596764), (1447, 0.021516574145596764), (2187, 0.021516574145596764), (2377, 0.021516574145596764), (2399, 0.021516574145596764), (3175, 0.021516574145596764), (3466, 0.021516574145596764), (3658, 0.021516574145596764), (3947, 0.021516574145596764), (4409, 0.021516574145596764), (4551, 0.021516574145596764), (4796, 0.021516574145596764), (4956, 0.021516574145596764), (4972, 0.021516574145596764), (5091, 0.021516574145596764), (5660, 0.021516574145596764), (5937, 0.021516574145596764), (3778, 0.021405376635597852), (366, 0.021295885499997995), (495, 0.021295885499997995), (1464, 0.021295885499997995), (1490, 0.021295885499997995), (2619, 0.021295885499997995), (2269, 0.02127178149057585), (4469, 0.021188057538790942), (5703, 0.02117617749438134), (1185, 0.021081851067789197), (1747, 0.021081851067789197), (2804, 0.021081851067789197), (3150, 0.021081851067789197), (3378, 0.021081851067789197), (3498, 0.021081851067789197), (4986, 0.021081851067789197), (5486, 0.021081851067789197), (5606, 0.021081851067789197), (1495, 0.021035158095583564), (59, 0.02097722585091842), (2101, 0.02097722585091842), (5706, 0.02097722585091842), (1146, 0.02087414303617165), (2178, 0.02087414303617165), (5362, 0.02087414303617165), (3279, 0.02077256509499186), (3784, 0.02077256509499186), (199, 0.020672455764868078), (522, 0.020672455764868078), (1151, 0.020672455764868078), (1230, 0.020672455764868078), (1594, 0.020672455764868078), (2682, 0.020672455764868078), (3177, 0.020672455764868078), (3254, 0.020672455764868078), (3368, 0.020672455764868078), (4279, 0.020672455764868078), (4727, 0.020672455764868078), (5818, 0.020672455764868078), (5979, 0.020672455764868078), (4330, 0.020672455764868074), (5860, 0.020541200750444025), (934, 0.020476503894465037), (4589, 0.020476503894465037), (414, 0.0203805946838581), (1917, 0.0203805946838581), (684, 0.020286020648339485), (702, 0.020286020648339485), (1285, 0.020286020648339485), (2217, 0.020286020648339485), (2261, 0.020286020648339485), (2734, 0.020286020648339485), (2757, 0.020286020648339485), (2905, 0.020286020648339485), (3151, 0.020286020648339485), (3442, 0.020286020648339485), (3911, 0.020286020648339485), (4042, 0.020286020648339485), (4505, 0.020286020648339485), (5058, 0.020286020648339485), (5647, 0.020286020648339485), (5716, 0.020286020648339485), (1677, 0.02019275109384609), (3655, 0.02019275109384609), (5223, 0.02019275109384609), (117, 0.02001000750625547), (1322, 0.019920476822239894), (1999, 0.019920476822239894), (2222, 0.019920476822239894), (2704, 0.019920476822239894), (2752, 0.019920476822239894), (2953, 0.019920476822239894), (3975, 0.019920476822239894), (5146, 0.019920476822239894), (5449, 0.019920476822239894), (5700, 0.019920476822239894), (5983, 0.019920476822239894), (363, 0.01983213724362432), (2014, 0.019744962591969745), (2226, 0.019744962591969745), (4327, 0.019744962591969745), (740, 0.01965892748731962), (1711, 0.01965892748731962), (3410, 0.01965892748731962), (4933, 0.01965892748731962), (2167, 0.01957400731715678), (2911, 0.01957400731715678), (3605, 0.01957400731715678), (3714, 0.01957400731715678), (4498, 0.01957400731715678), (5406, 0.01957400731715678), (5783, 0.01957400731715678), (5885, 0.01957400731715678), (4685, 0.019407416991319402), (1428, 0.019325701188414948), (1525, 0.019325701188414948), (377, 0.019245008972987525), (800, 0.019245008972987525), (2025, 0.019245008972987525), (3938, 0.019245008972987525), (4300, 0.019245008972987525), (4340, 0.019245008972987525), (4418, 0.019245008972987525), (4500, 0.019245008972987525), (5196, 0.019245008972987525), (46, 0.019165319152535634), (581, 0.019165319152535634), (2122, 0.019165319152535634), (3077, 0.019165319152535634), (352, 0.019086611143795607), (3037, 0.019086611143795607), (3285, 0.019086611143795607), (1195, 0.019069251784911843), (830, 0.0190088649504067), (568, 0.018932061141568826), (687, 0.018932061141568826), (1509, 0.018932061141568826), (2330, 0.018932061141568826), (2491, 0.018932061141568826), (3006, 0.018932061141568826), (3236, 0.018932061141568826), (3398, 0.018932061141568826), (3621, 0.018932061141568826), (3896, 0.018932061141568826), (4039, 0.018932061141568826), (4275, 0.018932061141568826), (4820, 0.018932061141568826), (4849, 0.018932061141568826), (4918, 0.018932061141568826), (5008, 0.018932061141568826), (5652, 0.018932061141568826), (5820, 0.018932061141568826), (5925, 0.018932061141568826), (3137, 0.018856180831641266), (4534, 0.018856180831641266), (5142, 0.018856180831641266), (426, 0.01870711777554379), (1111, 0.018633899812498245), (1578, 0.018633899812498245), (3256, 0.018633899812498245), (3283, 0.018633899812498245), (3419, 0.018633899812498245), (4621, 0.018633899812498245), (4655, 0.018633899812498245), (384, 0.018561534879656817), (4648, 0.018490006540840973), (1008, 0.018419298799851255), (362, 0.018411492357966467), (947, 0.018349396085439344), (1180, 0.018349396085439344), (1876, 0.018349396085439344), (2802, 0.018349396085439344), (4631, 0.018349396085439344), (5268, 0.018349396085439344), (5459, 0.018349396085439344), (5974, 0.018349396085439344), (3178, 0.018280283236902724), (3359, 0.018280283236902724), (763, 0.018211945490271768), (1648, 0.018211945490271768), (3736, 0.018211945490271768), (9, 0.018144368465060578), (1208, 0.018144368465060578), (1385, 0.01807753815155468), (1822, 0.01807753815155468), (2986, 0.01807753815155468), (3437, 0.01807753815155468), (3441, 0.01807753815155468), (3594, 0.01807753815155468), (3930, 0.01807753815155468), (4634, 0.01807753815155468), (5048, 0.01807753815155468), (5404, 0.01807753815155468), (747, 0.01794606340193885), (1278, 0.017817416127494958), (1426, 0.017817416127494958), (1637, 0.017817416127494958), (1663, 0.017817416127494958), (2051, 0.017817416127494958), (2131, 0.017817416127494958), (2480, 0.017817416127494958), (2614, 0.017817416127494958), (3479, 0.017817416127494958), (4922, 0.017817416127494958), (4940, 0.017817416127494958), (5182, 0.017817416127494958), (5316, 0.017817416127494958), (409, 0.017754121376376917), (4297, 0.017754121376376917), (4548, 0.017754121376376917), (1970, 0.017691496414475844), (2185, 0.017691496414475844), (3576, 0.01762952951159817), (284, 0.01756820922315766), (985, 0.01756820922315766), (2454, 0.01756820922315766), (2646, 0.01756820922315766), (2965, 0.01756820922315766), (2990, 0.01756820922315766), (3400, 0.01756820922315766), (4270, 0.01756820922315766), (4788, 0.01756820922315766), (5508, 0.01750752438129634), (297, 0.017329174830334543), (819, 0.017329174830334543), (1546, 0.017329174830334543), (1797, 0.017329174830334543), (3397, 0.017329174830334543), (3804, 0.017329174830334543), (3989, 0.017329174830334543), (4346, 0.017329174830334543), (4806, 0.017329174830334543), (5520, 0.01721325931647741), (1473, 0.01715616708849929), (2176, 0.01715616708849929), (502, 0.017099639201419235), (976, 0.017099639201419235), (1511, 0.017099639201419235), (1669, 0.017099639201419235), (1868, 0.017099639201419235), (2170, 0.017099639201419235), (2732, 0.017099639201419235), (3500, 0.017099639201419235), (3573, 0.017099639201419235), (4271, 0.017099639201419235), (4325, 0.017099639201419235), (5014, 0.017099639201419235), (1466, 0.016988239714587516), (4266, 0.01690308509457033), (75, 0.016878989451394443), (1507, 0.016878989451394443), (2070, 0.016878989451394443), (2169, 0.016878989451394443), (2422, 0.016878989451394443), (3680, 0.016878989451394443), (4252, 0.016878989451394443), (3969, 0.01682514883750229), (3548, 0.016771820180887586), (5810, 0.01673654817511446), (185, 0.016666666666666666), (1022, 0.016666666666666666), (1370, 0.016666666666666666), (1431, 0.016666666666666666), (1481, 0.016666666666666666), (1521, 0.016666666666666666), (2856, 0.016666666666666666), (3075, 0.016666666666666666), (4332, 0.016666666666666666), (4736, 0.016666666666666666), (4898, 0.016666666666666666), (5030, 0.016666666666666666), (2658, 0.01661482620930756), (3831, 0.01656346649999844), (376, 0.016462159944159827), (1138, 0.016462159944159827), (1713, 0.016462159944159827), (2160, 0.016462159944159827), (4853, 0.016462159944159827), (5890, 0.016462159944159827), (1219, 0.016313626141079878), (1539, 0.016265001215808886), (2129, 0.016265001215808886), (2449, 0.016265001215808886), (3679, 0.016265001215808886), (4428, 0.016265001215808886), (5434, 0.016265001215808886), (2322, 0.016216808513683997), (4002, 0.016216808513683997), (4773, 0.016169041669088863), (941, 0.016074760739013736), (1729, 0.016074760739013736), (1998, 0.016074760739013736), (2880, 0.016074760739013736), (3281, 0.016074760739013736), (3552, 0.016074760739013736), (3603, 0.016074760739013736), (4182, 0.016074760739013736), (4247, 0.016074760739013736), (4307, 0.016074760739013736), (4396, 0.016074760739013736), (5393, 0.016074760739013736), (5417, 0.016074760739013736), (5601, 0.016074760739013736), (5953, 0.016074760739013736), (1508, 0.015936381457791915), (2010, 0.015891043154093204), (3854, 0.015891043154093204), (3939, 0.015891043154093204), (5504, 0.015891043154093204), (5595, 0.015891043154093204), (5609, 0.015891043154093204), (1399, 0.015713484026367724), (1968, 0.015713484026367724), (2568, 0.015713484026367724), (3132, 0.015713484026367724), (3670, 0.015713484026367724), (4690, 0.015713484026367724), (4821, 0.015713484026367724), (5370, 0.015713484026367724), (5792, 0.015713484026367724), (5952, 0.015713484026367724), (863, 0.015541746804005229), (4366, 0.015541746804005229), (4984, 0.015541746804005229), (5357, 0.015541746804005229), (2753, 0.01549968516584257), (43, 0.015375520133814751), (2472, 0.015375520133814751), (3584, 0.015375520133814751), (4946, 0.015375520133814751), (4969, 0.015375520133814751), (5882, 0.015375520133814751), (669, 0.015214515486254616), (1158, 0.015214515486254616), (1309, 0.015214515486254616), (1409, 0.015214515486254616), (2157, 0.015214515486254616), (5429, 0.015214515486254616), (5733, 0.015214515486254616), (711, 0.015135886972883327), (3167, 0.015097027121927944), (4828, 0.015097027121927944), (2760, 0.015058465048420852), (3560, 0.015058465048420852), (3811, 0.015058465048420852), (732, 0.014907119849998597), (2048, 0.014907119849998597), (3386, 0.014907119849998597), (3485, 0.014907119849998597), (3928, 0.014907119849998597), (4851, 0.014907119849998597), (5389, 0.014907119849998597), (5739, 0.014907119849998597), (5814, 0.014907119849998597), (5861, 0.014796558720615843), (54, 0.01476024809233492), (2667, 0.01476024809233492), (4292, 0.01476024809233492), (5080, 0.01476024809233492), (5282, 0.01476024809233492), (5458, 0.01476024809233492), (490, 0.014617633655117155), (1103, 0.014617633655117155), (2723, 0.014617633655117155), (3454, 0.014617633655117155), (3558, 0.014617633655117155), (4809, 0.014617633655117155), (4858, 0.014617633655117155), (5183, 0.014617633655117155), (5321, 0.014617633655117155), (5616, 0.014617633655117155), (958, 0.01447907475876898), (2851, 0.01447907475876898), (5558, 0.01447907475876898), (5574, 0.01447907475876898), (628, 0.014344382763731173), (1066, 0.014344382763731173), (1217, 0.014344382763731173), (1397, 0.014344382763731173), (3096, 0.014344382763731173), (4079, 0.014344382763731173), (4440, 0.014344382763731173), (4831, 0.014344382763731173), (4869, 0.014344382763731173), (5274, 0.014344382763731173), (2634, 0.01421338109037403), (3409, 0.01421338109037403), (3713, 0.01421338109037403), (3761, 0.01421338109037403), (4014, 0.01421338109037403), (4347, 0.01421338109037403), (5772, 0.01421338109037403), (5910, 0.01421338109037403), (5731, 0.014085904245475277), (530, 0.013961796943056517), (3581, 0.013961796943056517), (5465, 0.013961796943056517), (5557, 0.013961796943056517), (2432, 0.013931279317619095), (3216, 0.01384091330895666), (3385, 0.01384091330895666), (4948, 0.01384091330895666), (5825, 0.01384091330895666), (1392, 0.013723116159876973), (3130, 0.013723116159876973), (3550, 0.013723116159876973), (4563, 0.013723116159876973), (4890, 0.013723116159876973), (5076, 0.013723116159876973), (5515, 0.013723116159876973), (565, 0.013608276348795433), (876, 0.013608276348795433), (1073, 0.013608276348795433), (1250, 0.013608276348795433), (2631, 0.013608276348795433), (2947, 0.013608276348795433), (3056, 0.013608276348795433), (5265, 0.013608276348795433), (790, 0.013496272169648599), (799, 0.013496272169648599), (4709, 0.013496272169648599), (4730, 0.013496272169648599), (5496, 0.013496272169648599), (5782, 0.013496272169648599), (5899, 0.013496272169648599), (829, 0.013386988815041648), (2207, 0.013386988815041648), (2272, 0.013386988815041648), (4399, 0.013386988815041648), (4913, 0.013386988815041648), (1928, 0.01328031788149326), (2935, 0.01328031788149326), (3860, 0.01328031788149326), (1904, 0.013176156917368247), (2090, 0.013176156917368247), (4316, 0.013176156917368247), (4636, 0.013176156917368247), (4547, 0.01307440900921227), (5308, 0.01307440900921227), (5375, 0.01307440900921227), (422, 0.012974982402692048), (3076, 0.012974982402692048), (3456, 0.012974982402692048), (4775, 0.012974982402692048), (3448, 0.01287779015477093), (596, 0.01278274981412284), (4785, 0.01278274981412284), (5158, 0.01278274981412284), (5305, 0.01278274981412284), (1389, 0.012689783127114683), (1712, 0.012689783127114683), (5889, 0.012689783127114683), (1206, 0.01259881576697424), (1962, 0.01259881576697424), (2180, 0.01259881576697424), (2710, 0.01259881576697424), (3547, 0.01259881576697424), (4688, 0.01259881576697424), (644, 0.012509777084013358), (1463, 0.012509777084013358), (3322, 0.012509777084013358), (950, 0.012422599874998833), (1024, 0.012422599874998833), (1140, 0.012422599874998833), (1784, 0.012422599874998833), (2054, 0.012422599874998833), (2859, 0.012422599874998833), (826, 0.012337220169960087), (2833, 0.012337220169960087), (3390, 0.012337220169960087), (3690, 0.012253577034896795), (824, 0.012171612389003689), (1926, 0.012171612389003689), (3864, 0.012171612389003689), (2035, 0.01209127083516686), (3079, 0.01209127083516686), (3416, 0.012012499502607452), (3568, 0.012012499502607452), (1032, 0.011935247900657213), (2718, 0.011935247900657213), (4294, 0.011935247900657213), (4348, 0.011935247900657213), (5871, 0.011935247900657213), (2008, 0.011859467782747001), (3455, 0.011859467782747001), (5615, 0.011859467782747001), (1405, 0.011785113019775792), (1636, 0.011785113019775792), (1950, 0.011785113019775792), (3599, 0.011785113019775792), (4808, 0.011785113019775792), (5448, 0.011785113019775792), (1179, 0.011712139482105107), (2884, 0.011712139482105107), (3523, 0.011712139482105107), (879, 0.011640504929492968), (4145, 0.011640504929492968), (5841, 0.011640504929492968), (3291, 0.011570168908343722), (3541, 0.011570168908343722), (4629, 0.011570168908343722), (2932, 0.011501092655705904), (3364, 0.011501092655705904), (5485, 0.011501092655705904), (1143, 0.011433239009500589), (256, 0.011366572324507891), (1456, 0.011366572324507891), (5884, 0.011301058393680173), (2476, 0.011236664374387367), (3752, 0.011236664374387367), (988, 0.011173358719233183), (1664, 0.011173358719233183), (1110, 0.011111111111111112), (3738, 0.011111111111111112), (4116, 0.011111111111111112), (4674, 0.011111111111111112), (4816, 0.011111111111111112), (2334, 0.011049892402196598), (3756, 0.011049892402196598), (4278, 0.011049892402196598), (5168, 0.011049892402196598), (1971, 0.01098967455659645), (2748, 0.010930430596399216), (4874, 0.010872134550890703), (1614, 0.010758287072798382), (1656, 0.010758287072798382), (3103, 0.010758287072798382), (5114, 0.010758287072798382), (2628, 0.010702688317798926), (938, 0.010647942749998997), (1178, 0.010647942749998997), (1352, 0.010647942749998997), (5261, 0.010647942749998997), (5943, 0.010647942749998997), (215, 0.010594028769395471), (784, 0.010594028769395471), (834, 0.010594028769395471), (1479, 0.010594028769395471), (62, 0.010540925533894598), (620, 0.010540925533894598), (5631, 0.010540925533894598), (1963, 0.01048861292545921), (2306, 0.01048861292545921), (4542, 0.01048861292545921), (5967, 0.01048861292545921), (1924, 0.010475656017578482), (3994, 0.010437071518085825), (3205, 0.01038628254749593), (5627, 0.01038628254749593), (250, 0.010336227882434039), (1741, 0.010336227882434039), (5471, 0.010336227882434039), (717, 0.010286889997472796), (2587, 0.010286889997472796), (697, 0.010238251947232518), (1416, 0.010238251947232518), (2009, 0.010238251947232518), (726, 0.01019029734192905), (3796, 0.010096375546923044), (1816, 0.010050378152592122), (610, 0.009960238411119947), (1850, 0.009960238411119947), (2805, 0.00982946374365981), (2398, 0.009622504486493762), (2202, 0.00950443247520335), (531, 0.009428090415820633), (1936, 0.009428090415820633), (1954, 0.009428090415820633), (3884, 0.009428090415820633), (461, 0.009390602830316851), (4087, 0.009390602830316851), (3162, 0.009280767439828409), (1906, 0.009245003270420486), (4911, 0.009105972745135884), (2483, 0.009005720449304986), (1304, 0.008606629658238704), (544, 0.008412574418751146), (520, 0.00828173324999922), (969, 0.00828173324999922), (1162, 0.00828173324999922), (1791, 0.008206099398622182), (3959, 0.008060847223444573), (288, 0.007968190728895957), (3946, 0.007968190728895957), (1348, 0.007792076370203074), (603, 0.0077289815960028055), (5941, 0.0077289815960028055), (1084, 0.007529232524210426), (4456, 0.007529232524210426), (728, 0.0069504804685691585), (5001, 0.00639137490706142), (5666, 0.006243905410544626), (18, 0.0), (63, 0.0), (77, 0.0), (131, 0.0), (155, 0.0), (192, 0.0), (231, 0.0), (243, 0.0), (246, 0.0), (248, 0.0), (253, 0.0), (266, 0.0), (279, 0.0), (289, 0.0), (318, 0.0), (333, 0.0), (334, 0.0), (354, 0.0), (360, 0.0), (394, 0.0), (400, 0.0), (401, 0.0), (411, 0.0), (430, 0.0), (435, 0.0), (449, 0.0), (458, 0.0), (466, 0.0), (499, 0.0), (516, 0.0), (521, 0.0), (541, 0.0), (554, 0.0), (557, 0.0), (573, 0.0), (594, 0.0), (602, 0.0), (612, 0.0), (618, 0.0), (623, 0.0), (626, 0.0), (639, 0.0), (640, 0.0), (646, 0.0), (668, 0.0), (677, 0.0), (681, 0.0), (683, 0.0), (690, 0.0), (693, 0.0), (705, 0.0), (712, 0.0), (713, 0.0), (716, 0.0), (733, 0.0), (734, 0.0), (741, 0.0), (758, 0.0), (759, 0.0), (779, 0.0), (787, 0.0), (794, 0.0), (807, 0.0), (809, 0.0), (811, 0.0), (812, 0.0), (820, 0.0), (821, 0.0), (823, 0.0), (827, 0.0), (831, 0.0), (843, 0.0), (848, 0.0), (851, 0.0), (867, 0.0), (870, 0.0), (871, 0.0), (872, 0.0), (875, 0.0), (885, 0.0), (900, 0.0), (905, 0.0), (907, 0.0), (914, 0.0), (916, 0.0), (918, 0.0), (919, 0.0), (924, 0.0), (936, 0.0), (937, 0.0), (939, 0.0), (940, 0.0), (949, 0.0), (974, 0.0), (978, 0.0), (981, 0.0), (982, 0.0), (987, 0.0), (994, 0.0), (999, 0.0), (1000, 0.0), (1004, 0.0), (1020, 0.0), (1029, 0.0), (1030, 0.0), (1045, 0.0), (1051, 0.0), (1055, 0.0), (1057, 0.0), (1064, 0.0), (1075, 0.0), (1086, 0.0), (1089, 0.0), (1097, 0.0), (1100, 0.0), (1101, 0.0), (1113, 0.0), (1115, 0.0), (1124, 0.0), (1126, 0.0), (1128, 0.0), (1131, 0.0), (1132, 0.0), (1134, 0.0), (1167, 0.0), (1170, 0.0), (1181, 0.0), (1183, 0.0), (1188, 0.0), (1190, 0.0), (1191, 0.0), (1193, 0.0), (1212, 0.0), (1213, 0.0), (1218, 0.0), (1222, 0.0), (1228, 0.0), (1229, 0.0), (1232, 0.0), (1240, 0.0), (1252, 0.0), (1257, 0.0), (1260, 0.0), (1262, 0.0), (1263, 0.0), (1273, 0.0), (1276, 0.0), (1277, 0.0), (1288, 0.0), (1289, 0.0), (1290, 0.0), (1298, 0.0), (1303, 0.0), (1307, 0.0), (1308, 0.0), (1313, 0.0), (1315, 0.0), (1317, 0.0), (1318, 0.0), (1321, 0.0), (1328, 0.0), (1329, 0.0), (1334, 0.0), (1343, 0.0), (1354, 0.0), (1362, 0.0), (1363, 0.0), (1367, 0.0), (1373, 0.0), (1391, 0.0), (1412, 0.0), (1423, 0.0), (1437, 0.0), (1448, 0.0), (1449, 0.0), (1451, 0.0), (1462, 0.0), (1471, 0.0), (1482, 0.0), (1484, 0.0), (1492, 0.0), (1499, 0.0), (1500, 0.0), (1502, 0.0), (1504, 0.0), (1506, 0.0), (1515, 0.0), (1520, 0.0), (1528, 0.0), (1532, 0.0), (1533, 0.0), (1536, 0.0), (1538, 0.0), (1540, 0.0), (1541, 0.0), (1544, 0.0), (1545, 0.0), (1551, 0.0), (1553, 0.0), (1557, 0.0), (1570, 0.0), (1572, 0.0), (1573, 0.0), (1585, 0.0), (1586, 0.0), (1588, 0.0), (1589, 0.0), (1598, 0.0), (1601, 0.0), (1604, 0.0), (1608, 0.0), (1609, 0.0), (1612, 0.0), (1613, 0.0), (1617, 0.0), (1625, 0.0), (1627, 0.0), (1630, 0.0), (1632, 0.0), (1655, 0.0), (1660, 0.0), (1662, 0.0), (1665, 0.0), (1674, 0.0), (1675, 0.0), (1684, 0.0), (1688, 0.0), (1691, 0.0), (1704, 0.0), (1705, 0.0), (1722, 0.0), (1725, 0.0), (1744, 0.0), (1746, 0.0), (1750, 0.0), (1752, 0.0), (1766, 0.0), (1769, 0.0), (1771, 0.0), (1772, 0.0), (1776, 0.0), (1777, 0.0), (1779, 0.0), (1781, 0.0), (1789, 0.0), (1793, 0.0), (1800, 0.0), (1806, 0.0), (1814, 0.0), (1815, 0.0), (1818, 0.0), (1834, 0.0), (1840, 0.0), (1843, 0.0), (1848, 0.0), (1853, 0.0), (1857, 0.0), (1858, 0.0), (1862, 0.0), (1866, 0.0), (1869, 0.0), (1877, 0.0), (1883, 0.0), (1884, 0.0), (1886, 0.0), (1889, 0.0), (1891, 0.0), (1901, 0.0), (1905, 0.0), (1907, 0.0), (1913, 0.0), (1914, 0.0), (1915, 0.0), (1918, 0.0), (1920, 0.0), (1945, 0.0), (1951, 0.0), (1953, 0.0), (1958, 0.0), (1976, 0.0), (1979, 0.0), (1980, 0.0), (1986, 0.0), (1996, 0.0), (2002, 0.0), (2013, 0.0), (2020, 0.0), (2021, 0.0), (2023, 0.0), (2024, 0.0), (2026, 0.0), (2027, 0.0), (2031, 0.0), (2032, 0.0), (2034, 0.0), (2040, 0.0), (2046, 0.0), (2050, 0.0), (2061, 0.0), (2062, 0.0), (2069, 0.0), (2075, 0.0), (2076, 0.0), (2080, 0.0), (2083, 0.0), (2091, 0.0), (2093, 0.0), (2097, 0.0), (2100, 0.0), (2102, 0.0), (2111, 0.0), (2118, 0.0), (2124, 0.0), (2133, 0.0), (2136, 0.0), (2138, 0.0), (2143, 0.0), (2145, 0.0), (2149, 0.0), (2158, 0.0), (2164, 0.0), (2168, 0.0), (2173, 0.0), (2179, 0.0), (2194, 0.0), (2195, 0.0), (2211, 0.0), (2216, 0.0), (2223, 0.0), (2230, 0.0), (2231, 0.0), (2232, 0.0), (2238, 0.0), (2239, 0.0), (2245, 0.0), (2251, 0.0), (2253, 0.0), (2256, 0.0), (2259, 0.0), (2266, 0.0), (2268, 0.0), (2271, 0.0), (2282, 0.0), (2283, 0.0), (2287, 0.0), (2289, 0.0), (2296, 0.0), (2297, 0.0), (2299, 0.0), (2305, 0.0), (2307, 0.0), (2316, 0.0), (2323, 0.0), (2332, 0.0), (2333, 0.0), (2335, 0.0), (2344, 0.0), (2346, 0.0), (2352, 0.0), (2353, 0.0), (2363, 0.0), (2365, 0.0), (2373, 0.0), (2375, 0.0), (2383, 0.0), (2386, 0.0), (2387, 0.0), (2400, 0.0), (2401, 0.0), (2402, 0.0), (2403, 0.0), (2405, 0.0), (2406, 0.0), (2420, 0.0), (2421, 0.0), (2423, 0.0), (2430, 0.0), (2431, 0.0), (2437, 0.0), (2441, 0.0), (2446, 0.0), (2451, 0.0), (2466, 0.0), (2468, 0.0), (2470, 0.0), (2475, 0.0), (2488, 0.0), (2501, 0.0), (2502, 0.0), (2504, 0.0), (2509, 0.0), (2520, 0.0), (2522, 0.0), (2527, 0.0), (2532, 0.0), (2538, 0.0), (2554, 0.0), (2557, 0.0), (2558, 0.0), (2563, 0.0), (2565, 0.0), (2566, 0.0), (2567, 0.0), (2571, 0.0), (2578, 0.0), (2581, 0.0), (2584, 0.0), (2589, 0.0), (2591, 0.0), (2592, 0.0), (2596, 0.0), (2606, 0.0), (2610, 0.0), (2611, 0.0), (2617, 0.0), (2620, 0.0), (2621, 0.0), (2623, 0.0), (2629, 0.0), (2630, 0.0), (2633, 0.0), (2635, 0.0), (2637, 0.0), (2641, 0.0), (2643, 0.0), (2653, 0.0), (2659, 0.0), (2663, 0.0), (2670, 0.0), (2671, 0.0), (2675, 0.0), (2678, 0.0), (2686, 0.0), (2690, 0.0), (2698, 0.0), (2701, 0.0), (2721, 0.0), (2725, 0.0), (2729, 0.0), (2730, 0.0), (2731, 0.0), (2733, 0.0), (2737, 0.0), (2740, 0.0), (2743, 0.0), (2754, 0.0), (2766, 0.0), (2767, 0.0), (2770, 0.0), (2771, 0.0), (2774, 0.0), (2780, 0.0), (2781, 0.0), (2783, 0.0), (2786, 0.0), (2787, 0.0), (2788, 0.0), (2791, 0.0), (2795, 0.0), (2808, 0.0), (2814, 0.0), (2821, 0.0), (2823, 0.0), (2824, 0.0), (2828, 0.0), (2830, 0.0), (2837, 0.0), (2839, 0.0), (2841, 0.0), (2843, 0.0), (2845, 0.0), (2850, 0.0), (2855, 0.0), (2857, 0.0), (2867, 0.0), (2873, 0.0), (2875, 0.0), (2878, 0.0), (2888, 0.0), (2890, 0.0), (2899, 0.0), (2901, 0.0), (2902, 0.0), (2903, 0.0), (2908, 0.0), (2924, 0.0), (2928, 0.0), (2929, 0.0), (2933, 0.0), (2934, 0.0), (2936, 0.0), (2937, 0.0), (2938, 0.0), (2939, 0.0), (2943, 0.0), (2944, 0.0), (2945, 0.0), (2948, 0.0), (2950, 0.0), (2961, 0.0), (2963, 0.0), (2969, 0.0), (2976, 0.0), (2982, 0.0), (2984, 0.0), (2996, 0.0), (2997, 0.0), (2998, 0.0), (3000, 0.0), (3003, 0.0), (3004, 0.0), (3007, 0.0), (3008, 0.0), (3009, 0.0), (3010, 0.0), (3013, 0.0), (3015, 0.0), (3018, 0.0), (3021, 0.0), (3035, 0.0), (3038, 0.0), (3045, 0.0), (3046, 0.0), (3064, 0.0), (3066, 0.0), (3067, 0.0), (3071, 0.0), (3091, 0.0), (3092, 0.0), (3095, 0.0), (3100, 0.0), (3104, 0.0), (3106, 0.0), (3109, 0.0), (3110, 0.0), (3115, 0.0), (3120, 0.0), (3122, 0.0), (3124, 0.0), (3129, 0.0), (3135, 0.0), (3136, 0.0), (3138, 0.0), (3155, 0.0), (3156, 0.0), (3159, 0.0), (3161, 0.0), (3163, 0.0), (3164, 0.0), (3166, 0.0), (3168, 0.0), (3170, 0.0), (3171, 0.0), (3173, 0.0), (3183, 0.0), (3184, 0.0), (3189, 0.0), (3192, 0.0), (3197, 0.0), (3198, 0.0), (3203, 0.0), (3207, 0.0), (3209, 0.0), (3217, 0.0), (3220, 0.0), (3225, 0.0), (3226, 0.0), (3230, 0.0), (3231, 0.0), (3235, 0.0), (3239, 0.0), (3242, 0.0), (3244, 0.0), (3246, 0.0), (3251, 0.0), (3252, 0.0), (3265, 0.0), (3268, 0.0), (3270, 0.0), (3272, 0.0), (3287, 0.0), (3288, 0.0), (3290, 0.0), (3295, 0.0), (3296, 0.0), (3297, 0.0), (3300, 0.0), (3303, 0.0), (3306, 0.0), (3313, 0.0), (3317, 0.0), (3330, 0.0), (3340, 0.0), (3345, 0.0), (3351, 0.0), (3356, 0.0), (3365, 0.0), (3366, 0.0), (3369, 0.0), (3370, 0.0), (3371, 0.0), (3381, 0.0), (3391, 0.0), (3392, 0.0), (3393, 0.0), (3399, 0.0), (3401, 0.0), (3406, 0.0), (3413, 0.0), (3431, 0.0), (3435, 0.0), (3445, 0.0), (3453, 0.0), (3460, 0.0), (3468, 0.0), (3469, 0.0), (3474, 0.0), (3476, 0.0), (3480, 0.0), (3481, 0.0), (3502, 0.0), (3503, 0.0), (3507, 0.0), (3508, 0.0), (3511, 0.0), (3513, 0.0), (3516, 0.0), (3518, 0.0), (3521, 0.0), (3540, 0.0), (3553, 0.0), (3557, 0.0), (3563, 0.0), (3574, 0.0), (3575, 0.0), (3580, 0.0), (3583, 0.0), (3585, 0.0), (3587, 0.0), (3590, 0.0), (3592, 0.0), (3593, 0.0), (3596, 0.0), (3597, 0.0), (3598, 0.0), (3601, 0.0), (3606, 0.0), (3607, 0.0), (3616, 0.0), (3622, 0.0), (3624, 0.0), (3626, 0.0), (3627, 0.0), (3628, 0.0), (3630, 0.0), (3635, 0.0), (3637, 0.0), (3638, 0.0), (3639, 0.0), (3640, 0.0), (3646, 0.0), (3647, 0.0), (3653, 0.0), (3671, 0.0), (3675, 0.0), (3683, 0.0), (3685, 0.0), (3688, 0.0), (3689, 0.0), (3700, 0.0), (3703, 0.0), (3704, 0.0), (3712, 0.0), (3720, 0.0), (3740, 0.0), (3744, 0.0), (3747, 0.0), (3751, 0.0), (3753, 0.0), (3757, 0.0), (3764, 0.0), (3766, 0.0), (3771, 0.0), (3773, 0.0), (3777, 0.0), (3782, 0.0), (3785, 0.0), (3788, 0.0), (3790, 0.0), (3791, 0.0), (3792, 0.0), (3794, 0.0), (3795, 0.0), (3798, 0.0), (3801, 0.0), (3803, 0.0), (3810, 0.0), (3822, 0.0), (3825, 0.0), (3830, 0.0), (3832, 0.0), (3833, 0.0), (3840, 0.0), (3841, 0.0), (3843, 0.0), (3858, 0.0), (3861, 0.0), (3865, 0.0), (3866, 0.0), (3868, 0.0), (3869, 0.0), (3872, 0.0), (3875, 0.0), (3885, 0.0), (3894, 0.0), (3898, 0.0), (3899, 0.0), (3903, 0.0), (3913, 0.0), (3917, 0.0), (3918, 0.0), (3923, 0.0), (3924, 0.0), (3927, 0.0), (3929, 0.0), (3931, 0.0), (3932, 0.0), (3934, 0.0), (3940, 0.0), (3943, 0.0), (3948, 0.0), (3950, 0.0), (3953, 0.0), (3954, 0.0), (3958, 0.0), (3971, 0.0), (3976, 0.0), (3977, 0.0), (3980, 0.0), (3985, 0.0), (3990, 0.0), (3992, 0.0), (3993, 0.0), (3997, 0.0), (3998, 0.0), (4004, 0.0), (4010, 0.0), (4011, 0.0), (4020, 0.0), (4022, 0.0), (4023, 0.0), (4024, 0.0), (4025, 0.0), (4028, 0.0), (4035, 0.0), (4037, 0.0), (4040, 0.0), (4043, 0.0), (4044, 0.0), (4045, 0.0), (4051, 0.0), (4052, 0.0), (4053, 0.0), (4054, 0.0), (4056, 0.0), (4057, 0.0), (4059, 0.0), (4060, 0.0), (4067, 0.0), (4069, 0.0), (4072, 0.0), (4073, 0.0), (4074, 0.0), (4076, 0.0), (4080, 0.0), (4081, 0.0), (4083, 0.0), (4096, 0.0), (4105, 0.0), (4110, 0.0), (4119, 0.0), (4120, 0.0), (4121, 0.0), (4129, 0.0), (4130, 0.0), (4134, 0.0), (4137, 0.0), (4138, 0.0), (4139, 0.0), (4140, 0.0), (4142, 0.0), (4146, 0.0), (4147, 0.0), (4149, 0.0), (4159, 0.0), (4161, 0.0), (4162, 0.0), (4164, 0.0), (4165, 0.0), (4167, 0.0), (4168, 0.0), (4171, 0.0), (4172, 0.0), (4173, 0.0), (4175, 0.0), (4179, 0.0), (4184, 0.0), (4186, 0.0), (4187, 0.0), (4192, 0.0), (4193, 0.0), (4194, 0.0), (4195, 0.0), (4198, 0.0), (4201, 0.0), (4203, 0.0), (4205, 0.0), (4206, 0.0), (4208, 0.0), (4209, 0.0), (4214, 0.0), (4215, 0.0), (4217, 0.0), (4219, 0.0), (4221, 0.0), (4224, 0.0), (4226, 0.0), (4232, 0.0), (4234, 0.0), (4240, 0.0), (4241, 0.0), (4242, 0.0), (4245, 0.0), (4250, 0.0), (4253, 0.0), (4259, 0.0), (4263, 0.0), (4264, 0.0), (4269, 0.0), (4272, 0.0), (4277, 0.0), (4281, 0.0), (4283, 0.0), (4287, 0.0), (4288, 0.0), (4293, 0.0), (4295, 0.0), (4303, 0.0), (4319, 0.0), (4321, 0.0), (4322, 0.0), (4324, 0.0), (4331, 0.0), (4333, 0.0), (4334, 0.0), (4336, 0.0), (4337, 0.0), (4339, 0.0), (4341, 0.0), (4342, 0.0), (4343, 0.0), (4345, 0.0), (4349, 0.0), (4351, 0.0), (4354, 0.0), (4369, 0.0), (4372, 0.0), (4374, 0.0), (4376, 0.0), (4378, 0.0), (4379, 0.0), (4382, 0.0), (4384, 0.0), (4392, 0.0), (4393, 0.0), (4395, 0.0), (4401, 0.0), (4405, 0.0), (4410, 0.0), (4411, 0.0), (4412, 0.0), (4416, 0.0), (4420, 0.0), (4422, 0.0), (4425, 0.0), (4426, 0.0), (4433, 0.0), (4436, 0.0), (4439, 0.0), (4441, 0.0), (4442, 0.0), (4443, 0.0), (4445, 0.0), (4450, 0.0), (4451, 0.0), (4455, 0.0), (4457, 0.0), (4462, 0.0), (4465, 0.0), (4466, 0.0), (4467, 0.0), (4470, 0.0), (4472, 0.0), (4476, 0.0), (4478, 0.0), (4484, 0.0), (4487, 0.0), (4488, 0.0), (4489, 0.0), (4490, 0.0), (4493, 0.0), (4499, 0.0), (4501, 0.0), (4503, 0.0), (4506, 0.0), (4508, 0.0), (4510, 0.0), (4513, 0.0), (4518, 0.0), (4520, 0.0), (4527, 0.0), (4528, 0.0), (4529, 0.0), (4537, 0.0), (4538, 0.0), (4541, 0.0), (4546, 0.0), (4549, 0.0), (4550, 0.0), (4552, 0.0), (4561, 0.0), (4568, 0.0), (4571, 0.0), (4573, 0.0), (4576, 0.0), (4579, 0.0), (4581, 0.0), (4582, 0.0), (4583, 0.0), (4585, 0.0), (4586, 0.0), (4587, 0.0), (4588, 0.0), (4590, 0.0), (4591, 0.0), (4593, 0.0), (4596, 0.0), (4598, 0.0), (4601, 0.0), (4603, 0.0), (4609, 0.0), (4617, 0.0), (4618, 0.0), (4619, 0.0), (4624, 0.0), (4625, 0.0), (4633, 0.0), (4638, 0.0), (4644, 0.0), (4647, 0.0), (4649, 0.0), (4652, 0.0), (4654, 0.0), (4660, 0.0), (4661, 0.0), (4664, 0.0), (4666, 0.0), (4668, 0.0), (4670, 0.0), (4671, 0.0), (4673, 0.0), (4676, 0.0), (4678, 0.0), (4681, 0.0), (4683, 0.0), (4687, 0.0), (4689, 0.0), (4693, 0.0), (4697, 0.0), (4698, 0.0), (4701, 0.0), (4702, 0.0), (4703, 0.0), (4707, 0.0), (4711, 0.0), (4715, 0.0), (4716, 0.0), (4717, 0.0), (4718, 0.0), (4724, 0.0), (4733, 0.0), (4738, 0.0), (4739, 0.0), (4740, 0.0), (4747, 0.0), (4748, 0.0), (4749, 0.0), (4750, 0.0), (4751, 0.0), (4753, 0.0), (4754, 0.0), (4756, 0.0), (4757, 0.0), (4758, 0.0), (4759, 0.0), (4769, 0.0), (4774, 0.0), (4778, 0.0), (4783, 0.0), (4784, 0.0), (4786, 0.0), (4789, 0.0), (4797, 0.0), (4799, 0.0), (4803, 0.0), (4807, 0.0), (4810, 0.0), (4812, 0.0), (4817, 0.0), (4818, 0.0), (4819, 0.0), (4824, 0.0), (4826, 0.0), (4827, 0.0), (4830, 0.0), (4836, 0.0), (4838, 0.0), (4840, 0.0), (4845, 0.0), (4846, 0.0), (4848, 0.0), (4850, 0.0), (4852, 0.0), (4861, 0.0), (4864, 0.0), (4866, 0.0), (4867, 0.0), (4875, 0.0), (4876, 0.0), (4879, 0.0), (4888, 0.0), (4891, 0.0), (4893, 0.0), (4895, 0.0), (4897, 0.0), (4900, 0.0), (4904, 0.0), (4905, 0.0), (4917, 0.0), (4923, 0.0), (4929, 0.0), (4930, 0.0), (4932, 0.0), (4943, 0.0), (4944, 0.0), (4950, 0.0), (4952, 0.0), (4954, 0.0), (4958, 0.0), (4959, 0.0), (4960, 0.0), (4965, 0.0), (4973, 0.0), (4974, 0.0), (4975, 0.0), (4976, 0.0), (4978, 0.0), (4981, 0.0), (4989, 0.0), (4990, 0.0), (4998, 0.0), (5003, 0.0), (5004, 0.0), (5005, 0.0), (5010, 0.0), (5012, 0.0), (5015, 0.0), (5017, 0.0), (5018, 0.0), (5020, 0.0), (5021, 0.0), (5022, 0.0), (5024, 0.0), (5028, 0.0), (5033, 0.0), (5034, 0.0), (5053, 0.0), (5054, 0.0), (5059, 0.0), (5063, 0.0), (5066, 0.0), (5070, 0.0), (5073, 0.0), (5074, 0.0), (5079, 0.0), (5082, 0.0), (5084, 0.0), (5089, 0.0), (5090, 0.0), (5092, 0.0), (5093, 0.0), (5094, 0.0), (5095, 0.0), (5098, 0.0), (5101, 0.0), (5105, 0.0), (5116, 0.0), (5123, 0.0), (5125, 0.0), (5126, 0.0), (5128, 0.0), (5130, 0.0), (5131, 0.0), (5141, 0.0), (5143, 0.0), (5145, 0.0), (5148, 0.0), (5153, 0.0), (5155, 0.0), (5156, 0.0), (5160, 0.0), (5165, 0.0), (5170, 0.0), (5177, 0.0), (5178, 0.0), (5179, 0.0), (5186, 0.0), (5189, 0.0), (5192, 0.0), (5193, 0.0), (5198, 0.0), (5201, 0.0), (5207, 0.0), (5214, 0.0), (5220, 0.0), (5224, 0.0), (5225, 0.0), (5230, 0.0), (5232, 0.0), (5235, 0.0), (5239, 0.0), (5242, 0.0), (5252, 0.0), (5253, 0.0), (5258, 0.0), (5259, 0.0), (5264, 0.0), (5267, 0.0), (5270, 0.0), (5276, 0.0), (5280, 0.0), (5286, 0.0), (5287, 0.0), (5295, 0.0), (5296, 0.0), (5300, 0.0), (5304, 0.0), (5309, 0.0), (5311, 0.0), (5314, 0.0), (5315, 0.0), (5317, 0.0), (5319, 0.0), (5322, 0.0), (5323, 0.0), (5326, 0.0), (5327, 0.0), (5333, 0.0), (5334, 0.0), (5335, 0.0), (5346, 0.0), (5348, 0.0), (5349, 0.0), (5355, 0.0), (5371, 0.0), (5372, 0.0), (5373, 0.0), (5377, 0.0), (5382, 0.0), (5386, 0.0), (5390, 0.0), (5394, 0.0), (5398, 0.0), (5400, 0.0), (5402, 0.0), (5408, 0.0), (5416, 0.0), (5418, 0.0), (5420, 0.0), (5423, 0.0), (5424, 0.0), (5425, 0.0), (5426, 0.0), (5428, 0.0), (5431, 0.0), (5437, 0.0), (5438, 0.0), (5444, 0.0), (5447, 0.0), (5453, 0.0), (5456, 0.0), (5460, 0.0), (5462, 0.0), (5467, 0.0), (5468, 0.0), (5469, 0.0), (5472, 0.0), (5474, 0.0), (5475, 0.0), (5482, 0.0), (5488, 0.0), (5490, 0.0), (5491, 0.0), (5492, 0.0), (5493, 0.0), (5495, 0.0), (5507, 0.0), (5510, 0.0), (5517, 0.0), (5518, 0.0), (5521, 0.0), (5527, 0.0), (5528, 0.0), (5532, 0.0), (5534, 0.0), (5535, 0.0), (5537, 0.0), (5541, 0.0), (5544, 0.0), (5547, 0.0), (5548, 0.0), (5550, 0.0), (5564, 0.0), (5570, 0.0), (5571, 0.0), (5577, 0.0), (5579, 0.0), (5580, 0.0), (5596, 0.0), (5597, 0.0), (5598, 0.0), (5599, 0.0), (5600, 0.0), (5610, 0.0), (5612, 0.0), (5613, 0.0), (5617, 0.0), (5621, 0.0), (5622, 0.0), (5623, 0.0), (5625, 0.0), (5626, 0.0), (5630, 0.0), (5633, 0.0), (5634, 0.0), (5636, 0.0), (5637, 0.0), (5638, 0.0), (5643, 0.0), (5644, 0.0), (5645, 0.0), (5648, 0.0), (5653, 0.0), (5655, 0.0), (5659, 0.0), (5662, 0.0), (5667, 0.0), (5673, 0.0), (5674, 0.0), (5676, 0.0), (5680, 0.0), (5681, 0.0), (5682, 0.0), (5683, 0.0), (5688, 0.0), (5690, 0.0), (5693, 0.0), (5694, 0.0), (5695, 0.0), (5696, 0.0), (5701, 0.0), (5704, 0.0), (5705, 0.0), (5707, 0.0), (5714, 0.0), (5715, 0.0), (5719, 0.0), (5720, 0.0), (5725, 0.0), (5726, 0.0), (5728, 0.0), (5732, 0.0), (5737, 0.0), (5740, 0.0), (5741, 0.0), (5742, 0.0), (5743, 0.0), (5747, 0.0), (5748, 0.0), (5749, 0.0), (5762, 0.0), (5763, 0.0), (5764, 0.0), (5774, 0.0), (5778, 0.0), (5781, 0.0), (5785, 0.0), (5787, 0.0), (5791, 0.0), (5793, 0.0), (5795, 0.0), (5797, 0.0), (5799, 0.0), (5809, 0.0), (5811, 0.0), (5813, 0.0), (5816, 0.0), (5821, 0.0), (5823, 0.0), (5829, 0.0), (5831, 0.0), (5834, 0.0), (5837, 0.0), (5840, 0.0), (5842, 0.0), (5844, 0.0), (5845, 0.0), (5846, 0.0), (5847, 0.0), (5851, 0.0), (5852, 0.0), (5854, 0.0), (5855, 0.0), (5856, 0.0), (5858, 0.0), (5862, 0.0), (5864, 0.0), (5878, 0.0), (5880, 0.0), (5891, 0.0), (5892, 0.0), (5893, 0.0), (5894, 0.0), (5896, 0.0), (5898, 0.0), (5901, 0.0), (5907, 0.0), (5909, 0.0), (5912, 0.0), (5914, 0.0), (5918, 0.0), (5921, 0.0), (5927, 0.0), (5928, 0.0), (5930, 0.0), (5931, 0.0), (5936, 0.0), (5938, 0.0), (5939, 0.0), (5942, 0.0), (5944, 0.0), (5947, 0.0), (5954, 0.0), (5955, 0.0), (5960, 0.0), (5961, 0.0), (5962, 0.0), (5969, 0.0), (5970, 0.0), (5971, 0.0), (5973, 0.0), (5981, 0.0), (5982, 0.0), (5985, 0.0), (5986, 0.0), (5987, 0.0), (5991, 0.0), (5992, 0.0), (5993, 0.0), (5994, 0.0), (5996, 0.0), (5998, 0.0)]\n",
            "1\n"
          ]
        }
      ],
      "source": [
        "# Create a list of enumerations for the similartiy score [(movie_id, similarity_score, (...)....]\n",
        "\n",
        "scores = enumerate(cs[anime_id])\n",
        "sorted_scores = sorted(scores, key = lambda x:x[1], reverse=True)\n",
        "print(sorted_scores[0][0])"
      ]
    },
    {
      "cell_type": "markdown",
      "metadata": {
        "id": "TDvDCLvhG_WL"
      },
      "source": [
        "### Recommendation"
      ]
    },
    {
      "cell_type": "code",
      "execution_count": null,
      "metadata": {
        "colab": {
          "base_uri": "https://localhost:8080/"
        },
        "id": "1jGgRWgkOwzO",
        "outputId": "7045669a-5b0f-4a18-ac19-6e9fe15ad578"
      },
      "outputs": [
        {
          "name": "stdout",
          "output_type": "stream",
          "text": [
            "Tamayura: Sotsugyou Shashin Part 3 - Akogare\n",
            "Lupin III: Sweet Lost Night - Mahou no Lamp wa Akumu no Yokan\n",
            "Taiho Shichau zo (TV)\n",
            "Mobile Suit Gundam Wing: Endless Waltz\n",
            "Kuroko no Basket Movie 4: Last Game\n"
          ]
        }
      ],
      "source": [
        "def recommend(anime):\n",
        "    anime_id = df[df['Name'] == anime]['new_id'].values[0]\n",
        "    distances = sorted(list(enumerate(cs[anime_id])),reverse=True,key = lambda x: x[1])\n",
        "    for i in distances[1:6]:\n",
        "      print(df[df['new_id'] == i[0]]['Name'].values[0])\n",
        "    \n",
        "\n",
        "recommend('Shingeki no Kyojin')"
      ]
    }
  ],
  "metadata": {
    "colab": {
      "collapsed_sections": [
        "LChB_2wjoFIB",
        "uYNyaJhp0agL",
        "UTlO92Is426M",
        "BcG6q8uS0Ao3",
        "nFAcaBzOSeDG",
        "uoZxUz8is_2y",
        "AgAs__PYhUtu",
        "eB-mr-P8hZo6",
        "65qpN9YlheY2",
        "G3R-SNnmhlOP",
        "dSDagxZk4EL6",
        "zuOcVLYCTX6v",
        "zwP0EDdhXyL6",
        "LpPTswn7cH9Q",
        "DhpDvWCIe9YG",
        "TDvDCLvhG_WL"
      ],
      "name": "B1 Notebook",
      "provenance": []
    },
    "kernelspec": {
      "display_name": "Python 3",
      "name": "python3"
    },
    "language_info": {
      "name": "python"
    }
  },
  "nbformat": 4,
  "nbformat_minor": 0
}

{
  "cells": [
    {
      "cell_type": "markdown",
      "metadata": {
        "id": "7H2kLMDWY857"
      },
      "source": [
        "1. All libraries\n",
        "2. Import dataset\n",
        "3. Clean dataset\n",
        "4. Cosine similarity"
      ]
    },
    {
      "cell_type": "markdown",
      "metadata": {
        "id": "zuOcVLYCTX6v"
      },
      "source": [
        "# All libraries"
      ]
    },
    {
      "cell_type": "code",
      "execution_count": null,
      "metadata": {
        "colab": {
          "base_uri": "https://localhost:8080/"
        },
        "id": "huna7PfXTXE7",
        "outputId": "2b6fc9fc-6217-4445-e3f6-9f7b90661f3a"
      },
      "outputs": [
        {
          "name": "stdout",
          "output_type": "stream",
          "text": [
            "[nltk_data] Downloading package stopwords to /root/nltk_data...\n",
            "[nltk_data]   Unzipping corpora/stopwords.zip.\n"
          ]
        }
      ],
      "source": [
        "import numpy as np\n",
        "from sklearn.feature_extraction.text import CountVectorizer\n",
        "import nltk\n",
        "from nltk.corpus import stopwords\n",
        "nltk.download('stopwords')\n",
        "from spacy.lemmatizer import Lemmatizer\n",
        "import spacy\n",
        "nlp = spacy.load('en')\n",
        "from sklearn.metrics.pairwise import cosine_similarity\n",
        "from spacy import cli"
      ]
    },
    {
      "cell_type": "markdown",
      "metadata": {
        "id": "zwP0EDdhXyL6"
      },
      "source": [
        "# Import dataset"
      ]
    },
    {
      "cell_type": "code",
      "execution_count": null,
      "metadata": {
        "colab": {
          "base_uri": "https://localhost:8080/"
        },
        "id": "0VF_8rYuYcNW",
        "outputId": "41930ca2-3d5d-40b8-99f3-e7a68c83c6ca"
      },
      "outputs": [
        {
          "name": "stdout",
          "output_type": "stream",
          "text": [
            "Mounted at /content/drive\n"
          ]
        }
      ],
      "source": [
        "from google.colab import drive\n",
        "drive.mount('/content/drive')\n"
      ]
    },
    {
      "cell_type": "code",
      "execution_count": null,
      "metadata": {
        "id": "NyV0Ri7jZGhD"
      },
      "outputs": [],
      "source": [
        "import pandas as pd \n",
        "df=pd.read_csv('/content/drive/Shareddrives/BA820 Team1/Raw data/anime_with_synopsis.csv')\n",
        "data = df"
      ]
    },
    {
      "cell_type": "code",
      "execution_count": null,
      "metadata": {
        "colab": {
          "base_uri": "https://localhost:8080/"
        },
        "id": "z66VrP-nazcY",
        "outputId": "84d4c21f-351c-467b-cc15-c5201f5f00e4"
      },
      "outputs": [
        {
          "data": {
            "text/plain": [
              "(16214, 5)"
            ]
          },
          "execution_count": 4,
          "metadata": {},
          "output_type": "execute_result"
        }
      ],
      "source": [
        "df.shape"
      ]
    },
    {
      "cell_type": "code",
      "execution_count": null,
      "metadata": {
        "colab": {
          "base_uri": "https://localhost:8080/"
        },
        "id": "KwQHB0wOcgnU",
        "outputId": "df41b50e-a92a-4e17-9433-475c7b3863a0"
      },
      "outputs": [
        {
          "data": {
            "text/plain": [
              "Index(['MAL_ID', 'Name', 'Score', 'Genres', 'sypnopsis'], dtype='object')"
            ]
          },
          "execution_count": 5,
          "metadata": {},
          "output_type": "execute_result"
        }
      ],
      "source": [
        "df.columns"
      ]
    },
    {
      "cell_type": "markdown",
      "metadata": {
        "id": "LpPTswn7cH9Q"
      },
      "source": [
        "# Clean dataset"
      ]
    },
    {
      "cell_type": "markdown",
      "metadata": {
        "id": "_XtGH_JbcOHR"
      },
      "source": [
        "Take out the 6k animes with the highest rating in all 16215 animes in anime_with_synopsis.csv"
      ]
    },
    {
      "cell_type": "code",
      "execution_count": null,
      "metadata": {
        "id": "xNsbjboXcVUo"
      },
      "outputs": [],
      "source": [
        "df = df[df['Score'] != 'Unknown']\n",
        "df = df.sort_values(by='Score', ascending=False)\n",
        "df = df.iloc[:6000]"
      ]
    },
    {
      "cell_type": "code",
      "execution_count": null,
      "metadata": {
        "colab": {
          "base_uri": "https://localhost:8080/",
          "height": 997
        },
        "id": "vlwc_LRgF51C",
        "outputId": "c3424084-d774-4710-d1b8-d8cbd632c5dd"
      },
      "outputs": [
        {
          "data": {
            "text/html": [
              "<div>\n",
              "<style scoped>\n",
              "    .dataframe tbody tr th:only-of-type {\n",
              "        vertical-align: middle;\n",
              "    }\n",
              "\n",
              "    .dataframe tbody tr th {\n",
              "        vertical-align: top;\n",
              "    }\n",
              "\n",
              "    .dataframe thead th {\n",
              "        text-align: right;\n",
              "    }\n",
              "</style>\n",
              "<table border=\"1\" class=\"dataframe\">\n",
              "  <thead>\n",
              "    <tr style=\"text-align: right;\">\n",
              "      <th></th>\n",
              "      <th>MAL_ID</th>\n",
              "      <th>Name</th>\n",
              "      <th>Score</th>\n",
              "      <th>Genres</th>\n",
              "      <th>sypnopsis</th>\n",
              "      <th>new_id</th>\n",
              "    </tr>\n",
              "  </thead>\n",
              "  <tbody>\n",
              "    <tr>\n",
              "      <th>3446</th>\n",
              "      <td>5114</td>\n",
              "      <td>Fullmetal Alchemist: Brotherhood</td>\n",
              "      <td>9.19</td>\n",
              "      <td>Action, Military, Adventure, Comedy, Drama, Magic, Fantasy, Shounen</td>\n",
              "      <td>\"In order for something to be obtained, something of equal value must be lost.\" Alchemy is bound by this Law of Equivalent Exchange—something the young brothers Edward and Alphonse Elric only realize after attempting human transmutation: the one forbidden act of alchemy. They pay a terrible price for their transgression—Edward loses his left leg, Alphonse his physical body. It is only by the desperate sacrifice of Edward's right arm that he is able to affix Alphonse's soul to a suit of armor. Devastated and alone, it is the hope that they would both eventually return to their original bodies that gives Edward the inspiration to obtain metal limbs called \"automail\" and become a state alchemist, the Fullmetal Alchemist. Three years of searching later, the brothers seek the Philosopher's Stone, a mythical relic that allows an alchemist to overcome the Law of Equivalent Exchange. Even with military allies Colonel Roy Mustang, Lieutenant Riza Hawkeye, and Lieutenant Colonel Maes Hughes on their side, the brothers find themselves caught up in a nationwide conspiracy that leads them not only to the true nature of the elusive Philosopher's Stone, but their country's murky history as well. In between finding a serial killer and racing against time, Edward and Alphonse must ask themselves if what they are doing will make them human again... or take away their humanity.</td>\n",
              "      <td>1</td>\n",
              "    </tr>\n",
              "    <tr>\n",
              "      <th>14647</th>\n",
              "      <td>40028</td>\n",
              "      <td>Shingeki no Kyojin: The Final Season</td>\n",
              "      <td>9.17</td>\n",
              "      <td>Action, Military, Mystery, Super Power, Drama, Fantasy, Shounen</td>\n",
              "      <td>Gabi Braun and Falco Grice have been training their entire lives to inherit one of the seven titans under Marley's control and aid their nation in eradicating the Eldians on Paradis. However, just as all seems well for the two cadets, their peace is suddenly shaken by the arrival of Eren Yeager and the remaining members of the Survey Corps. Having finally reached the Yeager family basement and learned about the dark history surrounding the titans, the Survey Corps has at long last found the answer they so desperately fought to uncover. With the truth now in their hands, the group set out for the world beyond the walls. In Shingeki no Kyojin: The Final Season , two utterly different worlds collide as each party pursues its own agenda in the long-awaited conclusion to Paradis' fight for freedom.</td>\n",
              "      <td>2</td>\n",
              "    </tr>\n",
              "    <tr>\n",
              "      <th>4953</th>\n",
              "      <td>9253</td>\n",
              "      <td>Steins;Gate</td>\n",
              "      <td>9.11</td>\n",
              "      <td>Thriller, Sci-Fi</td>\n",
              "      <td>The self-proclaimed mad scientist Rintarou Okabe rents out a room in a rickety old building in Akihabara, where he indulges himself in his hobby of inventing prospective \"future gadgets\" with fellow lab members: Mayuri Shiina, his air-headed childhood friend, and Hashida Itaru, a perverted hacker nicknamed \"Daru.\" The three pass the time by tinkering with their most promising contraption yet, a machine dubbed the \"Phone Microwave,\" which performs the strange function of morphing bananas into piles of green gel. Though miraculous in itself, the phenomenon doesn't provide anything concrete in Okabe's search for a scientific breakthrough; that is, until the lab members are spurred into action by a string of mysterious happenings before stumbling upon an unexpected success—the Phone Microwave can send emails to the past, altering the flow of history. Adapted from the critically acclaimed visual novel by 5pb. and Nitroplus, Steins;Gate takes Okabe through the depths of scientific theory and practicality. Forced across the diverging threads of past and present, Okabe must shoulder the burdens that come with holding the key to the realm of time.</td>\n",
              "      <td>3</td>\n",
              "    </tr>\n",
              "    <tr>\n",
              "      <th>13720</th>\n",
              "      <td>38524</td>\n",
              "      <td>Shingeki no Kyojin Season 3 Part 2</td>\n",
              "      <td>9.1</td>\n",
              "      <td>Action, Drama, Fantasy, Military, Mystery, Shounen, Super Power</td>\n",
              "      <td>Seeking to restore humanity's diminishing hope, the Survey Corps embark on a mission to retake Wall Maria, where the battle against the merciless \"Titans\" takes the stage once again. Returning to the tattered Shiganshina District that was once his home, Eren Yeager and the Corps find the town oddly unoccupied by Titans. Even after the outer gate is plugged, they strangely encounter no opposition. The mission progresses smoothly until Armin Arlert, highly suspicious of the enemy's absence, discovers distressing signs of a potential scheme against them. Shingeki no Kyojin Season 3 Part 2 follows Eren as he vows to take back everything that was once his. Alongside him, the Survey Corps strive—through countless sacrifices—to carve a path towards victory and uncover the secrets locked away in the Yeager family's basement.</td>\n",
              "      <td>4</td>\n",
              "    </tr>\n",
              "    <tr>\n",
              "      <th>8879</th>\n",
              "      <td>28977</td>\n",
              "      <td>Gintama°</td>\n",
              "      <td>9.1</td>\n",
              "      <td>Action, Comedy, Historical, Parody, Samurai, Sci-Fi, Shounen</td>\n",
              "      <td>Gintoki, Shinpachi, and Kagura return as the fun-loving but broke members of the Yorozuya team! Living in an alternate-reality Edo, where swords are prohibited and alien overlords have conquered Japan, they try to thrive on doing whatever work they can get their hands on. However, Shinpachi and Kagura still haven't been paid... Does Gin-chan really spend all that cash playing pachinko? Meanwhile, when Gintoki drunkenly staggers home one night, an alien spaceship crashes nearby. A fatally injured crew member emerges from the ship and gives Gintoki a strange, clock-shaped device, warning him that it is incredibly powerful and must be safeguarded. Mistaking it for his alarm clock, Gintoki proceeds to smash the device the next morning and suddenly discovers that the world outside his apartment has come to a standstill. With Kagura and Shinpachi at his side, he sets off to get the device fixed; though, as usual, nothing is ever that simple for the Yorozuya team. Filled with tongue-in-cheek humor and moments of heartfelt emotion, Gintama 's fourth season finds Gintoki and his friends facing both their most hilarious misadventures and most dangerous crises yet.</td>\n",
              "      <td>5</td>\n",
              "    </tr>\n",
              "    <tr>\n",
              "      <th>...</th>\n",
              "      <td>...</td>\n",
              "      <td>...</td>\n",
              "      <td>...</td>\n",
              "      <td>...</td>\n",
              "      <td>...</td>\n",
              "      <td>...</td>\n",
              "    </tr>\n",
              "    <tr>\n",
              "      <th>193</th>\n",
              "      <td>225</td>\n",
              "      <td>Dragon Ball GT</td>\n",
              "      <td>6.48</td>\n",
              "      <td>Action, Sci-Fi, Adventure, Comedy, Super Power, Magic, Fantasy, Shounen</td>\n",
              "      <td>Emperor Pilaf finally has his hands on the Black Star Dragon Balls after years of searching, which are said to be twice as powerful as Earth's normal ones. Pilaf is about to make his wish for world domination when he is interrupted by Gokuu Son. As a result, Pilaf flubs his wish and accidentally turns Gokuu back into a child. After the wish is granted, the Black Star Dragon Balls scatter across the galaxy. However, Gokuu discovers that they will cause the Earth to explode unless they are all brought back within a year. Uniting with his granddaughter Pan and a young adult Trunks, Gokuu sets off on an adventure through the universe to find the Black Star Dragon Balls and save his planet from destruction.</td>\n",
              "      <td>5996</td>\n",
              "    </tr>\n",
              "    <tr>\n",
              "      <th>11763</th>\n",
              "      <td>35237</td>\n",
              "      <td>Hajimete no Gal: Hajimete no Bunkasai</td>\n",
              "      <td>6.48</td>\n",
              "      <td>Comedy, Romance, Ecchi, School, Shounen</td>\n",
              "      <td>Bundled with the limited edition 5th volume of the Hajimete no Gal manga.</td>\n",
              "      <td>5997</td>\n",
              "    </tr>\n",
              "    <tr>\n",
              "      <th>367</th>\n",
              "      <td>402</td>\n",
              "      <td>Otogi Juushi Akazukin OVA</td>\n",
              "      <td>6.48</td>\n",
              "      <td>Adventure, Comedy, Magic, Fantasy</td>\n",
              "      <td>ong, long time ago there where both science and magic in the human world. But God became afraid of the Human's unlimited potential, so he divided the world into two and sealed them apart. One world with magic and the other one with science. Suzukaze Souta is a normal boy except that he has the Key in his body to break the Seal. The evil witch Cendrillon want that power and tries to take it. Akazukin and Val, a silver wolf, came from the magic-world to prevent her from that. A grand story of a boy who will lead a checkered life and girls in fairly lands has just begun. (Source: AniDB)</td>\n",
              "      <td>5998</td>\n",
              "    </tr>\n",
              "    <tr>\n",
              "      <th>7031</th>\n",
              "      <td>18799</td>\n",
              "      <td>Take Your Way</td>\n",
              "      <td>6.48</td>\n",
              "      <td>Action, Supernatural, Music, Seinen</td>\n",
              "      <td>animated music video for the song \"Take Your Way\" by livetune adding Fukase (from SEKAI NO OWARI). The song is also used as the opening theme for Devil Survivor 2 The Animation.</td>\n",
              "      <td>5999</td>\n",
              "    </tr>\n",
              "    <tr>\n",
              "      <th>11323</th>\n",
              "      <td>34525</td>\n",
              "      <td>Centaur no Nayami</td>\n",
              "      <td>6.48</td>\n",
              "      <td>Slice of Life, Comedy, Fantasy, School, Seinen</td>\n",
              "      <td>Himeno is a sweet, shy little centaur girl. In her world, everyone seems to be a supernatural creature, and all her classmates have some kind of horns, wings, tails, halos, or other visible supernatural body part. Despite their supernatural elements, Himeno and her best friends, Nozomi and Kyouko, have a fun and mostly normal daily school life! (Source: MangaHelpers)</td>\n",
              "      <td>6000</td>\n",
              "    </tr>\n",
              "  </tbody>\n",
              "</table>\n",
              "<p>6000 rows × 6 columns</p>\n",
              "</div>"
            ],
            "text/plain": [
              "       MAL_ID  ... new_id\n",
              "3446     5114  ...      1\n",
              "14647   40028  ...      2\n",
              "4953     9253  ...      3\n",
              "13720   38524  ...      4\n",
              "8879    28977  ...      5\n",
              "...       ...  ...    ...\n",
              "193       225  ...   5996\n",
              "11763   35237  ...   5997\n",
              "367       402  ...   5998\n",
              "7031    18799  ...   5999\n",
              "11323   34525  ...   6000\n",
              "\n",
              "[6000 rows x 6 columns]"
            ]
          },
          "execution_count": 7,
          "metadata": {},
          "output_type": "execute_result"
        }
      ],
      "source": [
        "pd.set_option('max_colwidt', None)\n",
        "df['new_id']= np.arange(1, 6001)\n",
        "df"
      ]
    },
    {
      "cell_type": "code",
      "execution_count": null,
      "metadata": {
        "colab": {
          "base_uri": "https://localhost:8080/"
        },
        "id": "51c-_CH9dMes",
        "outputId": "eb60da71-d27f-4e0b-cee7-e17fef1b91e8"
      },
      "outputs": [
        {
          "data": {
            "text/plain": [
              "(6000, 6)"
            ]
          },
          "execution_count": 8,
          "metadata": {},
          "output_type": "execute_result"
        }
      ],
      "source": [
        "df.shape"
      ]
    },
    {
      "cell_type": "code",
      "execution_count": null,
      "metadata": {
        "colab": {
          "base_uri": "https://localhost:8080/"
        },
        "id": "-i0f5hLQo4kU",
        "outputId": "c06a5e68-26fa-4ca7-802a-b4c2f9bfaffe"
      },
      "outputs": [
        {
          "name": "stdout",
          "output_type": "stream",
          "text": [
            "<class 'pandas.core.frame.DataFrame'>\n",
            "Int64Index: 6000 entries, 3446 to 11323\n",
            "Data columns (total 6 columns):\n",
            " #   Column     Non-Null Count  Dtype \n",
            "---  ------     --------------  ----- \n",
            " 0   MAL_ID     6000 non-null   int64 \n",
            " 1   Name       6000 non-null   object\n",
            " 2   Score      6000 non-null   object\n",
            " 3   Genres     6000 non-null   object\n",
            " 4   sypnopsis  6000 non-null   object\n",
            " 5   new_id     6000 non-null   int64 \n",
            "dtypes: int64(2), object(4)\n",
            "memory usage: 328.1+ KB\n"
          ]
        }
      ],
      "source": [
        "df.info()"
      ]
    },
    {
      "cell_type": "markdown",
      "metadata": {
        "id": "5BfIaMvqTISd"
      },
      "source": [
        "![image.png](data:image/png;base64,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)"
      ]
    },
    {
      "cell_type": "code",
      "execution_count": null,
      "metadata": {
        "id": "wSUgSmVfYQhd"
      },
      "outputs": [],
      "source": [
        "# Convert words into lowercase\n",
        "df['sypnopsis'] = df['sypnopsis'].str.lower()"
      ]
    },
    {
      "cell_type": "code",
      "execution_count": null,
      "metadata": {
        "colab": {
          "base_uri": "https://localhost:8080/"
        },
        "id": "Wdk0PNImlpkF",
        "outputId": "8246cda5-7c0f-4f5c-ced0-79e6538c155e"
      },
      "outputs": [
        {
          "name": "stdout",
          "output_type": "stream",
          "text": [
            "\u001b[38;5;2m✔ Download and installation successful\u001b[0m\n",
            "You can now load the model via spacy.load('en_core_web_md')\n"
          ]
        }
      ],
      "source": [
        "model = \"en_core_web_md\"\n",
        "cli.download(model)\n",
        "\n",
        "nlp = spacy.load(model)"
      ]
    },
    {
      "cell_type": "code",
      "execution_count": null,
      "metadata": {
        "id": "A2O_at80Y75J"
      },
      "outputs": [],
      "source": [
        "# # Remove all words that are not alphabet (including japanese words and punctuations)\n",
        "pd.set_option('max_colwidt', None)\n",
        "df['sypnopsis'] = df['sypnopsis'].str.replace('—', ' ')\n",
        "df['sypnopsis'] = df['sypnopsis'].str.replace('[^a-zA-Z\\ ]', '')"
      ]
    },
    {
      "cell_type": "code",
      "execution_count": null,
      "metadata": {
        "id": "7PDGMDkGZ8Z6"
      },
      "outputs": [],
      "source": [
        "# Remove all English stopwords\n",
        "STOPWORDS = list(stopwords.words('english'))\n",
        "# We will add this to the countvectorizer param later"
      ]
    },
    {
      "cell_type": "code",
      "execution_count": null,
      "metadata": {
        "id": "YXD43o8x582a"
      },
      "outputs": [],
      "source": [
        "# Lemmatization\n",
        "nlp = spacy.load('en')\n",
        "\n",
        "df['sypnopsis'] = df['sypnopsis'].apply(lambda row: \" \".join([w.lemma_ for w in nlp(row)]))\n",
        "df['sypnopsis'] = df['sypnopsis'].str.replace('-PRON-', '')"
      ]
    },
    {
      "cell_type": "code",
      "execution_count": null,
      "metadata": {
        "colab": {
          "base_uri": "https://localhost:8080/",
          "height": 290
        },
        "id": "jaSCYIy0ey7e",
        "outputId": "0fd520e7-d928-482f-f4ec-941d502a26eb"
      },
      "outputs": [
        {
          "name": "stderr",
          "output_type": "stream",
          "text": [
            "/usr/local/lib/python3.7/dist-packages/sklearn/utils/deprecation.py:87: FutureWarning: Function get_feature_names is deprecated; get_feature_names is deprecated in 1.0 and will be removed in 1.2. Please use get_feature_names_out instead.\n",
            "  warnings.warn(msg, category=FutureWarning)\n"
          ]
        },
        {
          "data": {
            "text/html": [
              "<div>\n",
              "<style scoped>\n",
              "    .dataframe tbody tr th:only-of-type {\n",
              "        vertical-align: middle;\n",
              "    }\n",
              "\n",
              "    .dataframe tbody tr th {\n",
              "        vertical-align: top;\n",
              "    }\n",
              "\n",
              "    .dataframe thead th {\n",
              "        text-align: right;\n",
              "    }\n",
              "</style>\n",
              "<table border=\"1\" class=\"dataframe\">\n",
              "  <thead>\n",
              "    <tr style=\"text-align: right;\">\n",
              "      <th></th>\n",
              "      <th>aa</th>\n",
              "      <th>aaa</th>\n",
              "      <th>aachi</th>\n",
              "      <th>aarinfantasy</th>\n",
              "      <th>aaron</th>\n",
              "      <th>aasu</th>\n",
              "      <th>aback</th>\n",
              "      <th>abandon</th>\n",
              "      <th>abandoned</th>\n",
              "      <th>abarai</th>\n",
              "      <th>abarenbou</th>\n",
              "      <th>abash</th>\n",
              "      <th>abbott</th>\n",
              "      <th>abbreviate</th>\n",
              "      <th>abduct</th>\n",
              "      <th>abducted</th>\n",
              "      <th>abduction</th>\n",
              "      <th>abductor</th>\n",
              "      <th>abducts</th>\n",
              "      <th>abdul</th>\n",
              "      <th>abdullah</th>\n",
              "      <th>abe</th>\n",
              "      <th>abel</th>\n",
              "      <th>abema</th>\n",
              "      <th>abematv</th>\n",
              "      <th>abeno</th>\n",
              "      <th>abenobashi</th>\n",
              "      <th>abenos</th>\n",
              "      <th>aberrant</th>\n",
              "      <th>aberration</th>\n",
              "      <th>abh</th>\n",
              "      <th>abhor</th>\n",
              "      <th>abide</th>\n",
              "      <th>abigail</th>\n",
              "      <th>abilitie</th>\n",
              "      <th>ability</th>\n",
              "      <th>abillity</th>\n",
              "      <th>abiru</th>\n",
              "      <th>ablaze</th>\n",
              "      <th>able</th>\n",
              "      <th>...</th>\n",
              "      <th>zoo</th>\n",
              "      <th>zoom</th>\n",
              "      <th>zor</th>\n",
              "      <th>zora</th>\n",
              "      <th>zorbados</th>\n",
              "      <th>zordar</th>\n",
              "      <th>zorndyke</th>\n",
              "      <th>zorndykes</th>\n",
              "      <th>zoro</th>\n",
              "      <th>zoroark</th>\n",
              "      <th>zorocia</th>\n",
              "      <th>zorori</th>\n",
              "      <th>zorro</th>\n",
              "      <th>zorua</th>\n",
              "      <th>zoruas</th>\n",
              "      <th>zouroku</th>\n",
              "      <th>zre</th>\n",
              "      <th>zs</th>\n",
              "      <th>zu</th>\n",
              "      <th>zuberg</th>\n",
              "      <th>zubu</th>\n",
              "      <th>zuellni</th>\n",
              "      <th>zuerst</th>\n",
              "      <th>zufu</th>\n",
              "      <th>zuho</th>\n",
              "      <th>zuisouroku</th>\n",
              "      <th>zukan</th>\n",
              "      <th>zuki</th>\n",
              "      <th>zum</th>\n",
              "      <th>zun</th>\n",
              "      <th>zundar</th>\n",
              "      <th>zuo</th>\n",
              "      <th>zuru</th>\n",
              "      <th>zusa</th>\n",
              "      <th>zutto</th>\n",
              "      <th>zuuma</th>\n",
              "      <th>zvezda</th>\n",
              "      <th>zwei</th>\n",
              "      <th>zygarde</th>\n",
              "      <th>zz</th>\n",
              "    </tr>\n",
              "  </thead>\n",
              "  <tbody>\n",
              "    <tr>\n",
              "      <th>0</th>\n",
              "      <td>0</td>\n",
              "      <td>0</td>\n",
              "      <td>0</td>\n",
              "      <td>0</td>\n",
              "      <td>0</td>\n",
              "      <td>0</td>\n",
              "      <td>0</td>\n",
              "      <td>0</td>\n",
              "      <td>0</td>\n",
              "      <td>0</td>\n",
              "      <td>0</td>\n",
              "      <td>0</td>\n",
              "      <td>0</td>\n",
              "      <td>0</td>\n",
              "      <td>0</td>\n",
              "      <td>0</td>\n",
              "      <td>0</td>\n",
              "      <td>0</td>\n",
              "      <td>0</td>\n",
              "      <td>0</td>\n",
              "      <td>0</td>\n",
              "      <td>0</td>\n",
              "      <td>0</td>\n",
              "      <td>0</td>\n",
              "      <td>0</td>\n",
              "      <td>0</td>\n",
              "      <td>0</td>\n",
              "      <td>0</td>\n",
              "      <td>0</td>\n",
              "      <td>0</td>\n",
              "      <td>0</td>\n",
              "      <td>0</td>\n",
              "      <td>0</td>\n",
              "      <td>0</td>\n",
              "      <td>0</td>\n",
              "      <td>0</td>\n",
              "      <td>0</td>\n",
              "      <td>0</td>\n",
              "      <td>0</td>\n",
              "      <td>1</td>\n",
              "      <td>...</td>\n",
              "      <td>0</td>\n",
              "      <td>0</td>\n",
              "      <td>0</td>\n",
              "      <td>0</td>\n",
              "      <td>0</td>\n",
              "      <td>0</td>\n",
              "      <td>0</td>\n",
              "      <td>0</td>\n",
              "      <td>0</td>\n",
              "      <td>0</td>\n",
              "      <td>0</td>\n",
              "      <td>0</td>\n",
              "      <td>0</td>\n",
              "      <td>0</td>\n",
              "      <td>0</td>\n",
              "      <td>0</td>\n",
              "      <td>0</td>\n",
              "      <td>0</td>\n",
              "      <td>0</td>\n",
              "      <td>0</td>\n",
              "      <td>0</td>\n",
              "      <td>0</td>\n",
              "      <td>0</td>\n",
              "      <td>0</td>\n",
              "      <td>0</td>\n",
              "      <td>0</td>\n",
              "      <td>0</td>\n",
              "      <td>0</td>\n",
              "      <td>0</td>\n",
              "      <td>0</td>\n",
              "      <td>0</td>\n",
              "      <td>0</td>\n",
              "      <td>0</td>\n",
              "      <td>0</td>\n",
              "      <td>0</td>\n",
              "      <td>0</td>\n",
              "      <td>0</td>\n",
              "      <td>0</td>\n",
              "      <td>0</td>\n",
              "      <td>0</td>\n",
              "    </tr>\n",
              "    <tr>\n",
              "      <th>1</th>\n",
              "      <td>0</td>\n",
              "      <td>0</td>\n",
              "      <td>0</td>\n",
              "      <td>0</td>\n",
              "      <td>0</td>\n",
              "      <td>0</td>\n",
              "      <td>0</td>\n",
              "      <td>0</td>\n",
              "      <td>0</td>\n",
              "      <td>0</td>\n",
              "      <td>0</td>\n",
              "      <td>0</td>\n",
              "      <td>0</td>\n",
              "      <td>0</td>\n",
              "      <td>0</td>\n",
              "      <td>0</td>\n",
              "      <td>0</td>\n",
              "      <td>0</td>\n",
              "      <td>0</td>\n",
              "      <td>0</td>\n",
              "      <td>0</td>\n",
              "      <td>0</td>\n",
              "      <td>0</td>\n",
              "      <td>0</td>\n",
              "      <td>0</td>\n",
              "      <td>0</td>\n",
              "      <td>0</td>\n",
              "      <td>0</td>\n",
              "      <td>0</td>\n",
              "      <td>0</td>\n",
              "      <td>0</td>\n",
              "      <td>0</td>\n",
              "      <td>0</td>\n",
              "      <td>0</td>\n",
              "      <td>0</td>\n",
              "      <td>0</td>\n",
              "      <td>0</td>\n",
              "      <td>0</td>\n",
              "      <td>0</td>\n",
              "      <td>0</td>\n",
              "      <td>...</td>\n",
              "      <td>0</td>\n",
              "      <td>0</td>\n",
              "      <td>0</td>\n",
              "      <td>0</td>\n",
              "      <td>0</td>\n",
              "      <td>0</td>\n",
              "      <td>0</td>\n",
              "      <td>0</td>\n",
              "      <td>0</td>\n",
              "      <td>0</td>\n",
              "      <td>0</td>\n",
              "      <td>0</td>\n",
              "      <td>0</td>\n",
              "      <td>0</td>\n",
              "      <td>0</td>\n",
              "      <td>0</td>\n",
              "      <td>0</td>\n",
              "      <td>0</td>\n",
              "      <td>0</td>\n",
              "      <td>0</td>\n",
              "      <td>0</td>\n",
              "      <td>0</td>\n",
              "      <td>0</td>\n",
              "      <td>0</td>\n",
              "      <td>0</td>\n",
              "      <td>0</td>\n",
              "      <td>0</td>\n",
              "      <td>0</td>\n",
              "      <td>0</td>\n",
              "      <td>0</td>\n",
              "      <td>0</td>\n",
              "      <td>0</td>\n",
              "      <td>0</td>\n",
              "      <td>0</td>\n",
              "      <td>0</td>\n",
              "      <td>0</td>\n",
              "      <td>0</td>\n",
              "      <td>0</td>\n",
              "      <td>0</td>\n",
              "      <td>0</td>\n",
              "    </tr>\n",
              "    <tr>\n",
              "      <th>2</th>\n",
              "      <td>0</td>\n",
              "      <td>0</td>\n",
              "      <td>0</td>\n",
              "      <td>0</td>\n",
              "      <td>0</td>\n",
              "      <td>0</td>\n",
              "      <td>0</td>\n",
              "      <td>0</td>\n",
              "      <td>0</td>\n",
              "      <td>0</td>\n",
              "      <td>0</td>\n",
              "      <td>0</td>\n",
              "      <td>0</td>\n",
              "      <td>0</td>\n",
              "      <td>0</td>\n",
              "      <td>0</td>\n",
              "      <td>0</td>\n",
              "      <td>0</td>\n",
              "      <td>0</td>\n",
              "      <td>0</td>\n",
              "      <td>0</td>\n",
              "      <td>0</td>\n",
              "      <td>0</td>\n",
              "      <td>0</td>\n",
              "      <td>0</td>\n",
              "      <td>0</td>\n",
              "      <td>0</td>\n",
              "      <td>0</td>\n",
              "      <td>0</td>\n",
              "      <td>0</td>\n",
              "      <td>0</td>\n",
              "      <td>0</td>\n",
              "      <td>0</td>\n",
              "      <td>0</td>\n",
              "      <td>0</td>\n",
              "      <td>0</td>\n",
              "      <td>0</td>\n",
              "      <td>0</td>\n",
              "      <td>0</td>\n",
              "      <td>0</td>\n",
              "      <td>...</td>\n",
              "      <td>0</td>\n",
              "      <td>0</td>\n",
              "      <td>0</td>\n",
              "      <td>0</td>\n",
              "      <td>0</td>\n",
              "      <td>0</td>\n",
              "      <td>0</td>\n",
              "      <td>0</td>\n",
              "      <td>0</td>\n",
              "      <td>0</td>\n",
              "      <td>0</td>\n",
              "      <td>0</td>\n",
              "      <td>0</td>\n",
              "      <td>0</td>\n",
              "      <td>0</td>\n",
              "      <td>0</td>\n",
              "      <td>0</td>\n",
              "      <td>0</td>\n",
              "      <td>0</td>\n",
              "      <td>0</td>\n",
              "      <td>0</td>\n",
              "      <td>0</td>\n",
              "      <td>0</td>\n",
              "      <td>0</td>\n",
              "      <td>0</td>\n",
              "      <td>0</td>\n",
              "      <td>0</td>\n",
              "      <td>0</td>\n",
              "      <td>0</td>\n",
              "      <td>0</td>\n",
              "      <td>0</td>\n",
              "      <td>0</td>\n",
              "      <td>0</td>\n",
              "      <td>0</td>\n",
              "      <td>0</td>\n",
              "      <td>0</td>\n",
              "      <td>0</td>\n",
              "      <td>0</td>\n",
              "      <td>0</td>\n",
              "      <td>0</td>\n",
              "    </tr>\n",
              "    <tr>\n",
              "      <th>3</th>\n",
              "      <td>0</td>\n",
              "      <td>0</td>\n",
              "      <td>0</td>\n",
              "      <td>0</td>\n",
              "      <td>0</td>\n",
              "      <td>0</td>\n",
              "      <td>0</td>\n",
              "      <td>0</td>\n",
              "      <td>0</td>\n",
              "      <td>0</td>\n",
              "      <td>0</td>\n",
              "      <td>0</td>\n",
              "      <td>0</td>\n",
              "      <td>0</td>\n",
              "      <td>0</td>\n",
              "      <td>0</td>\n",
              "      <td>0</td>\n",
              "      <td>0</td>\n",
              "      <td>0</td>\n",
              "      <td>0</td>\n",
              "      <td>0</td>\n",
              "      <td>0</td>\n",
              "      <td>0</td>\n",
              "      <td>0</td>\n",
              "      <td>0</td>\n",
              "      <td>0</td>\n",
              "      <td>0</td>\n",
              "      <td>0</td>\n",
              "      <td>0</td>\n",
              "      <td>0</td>\n",
              "      <td>0</td>\n",
              "      <td>0</td>\n",
              "      <td>0</td>\n",
              "      <td>0</td>\n",
              "      <td>0</td>\n",
              "      <td>0</td>\n",
              "      <td>0</td>\n",
              "      <td>0</td>\n",
              "      <td>0</td>\n",
              "      <td>0</td>\n",
              "      <td>...</td>\n",
              "      <td>0</td>\n",
              "      <td>0</td>\n",
              "      <td>0</td>\n",
              "      <td>0</td>\n",
              "      <td>0</td>\n",
              "      <td>0</td>\n",
              "      <td>0</td>\n",
              "      <td>0</td>\n",
              "      <td>0</td>\n",
              "      <td>0</td>\n",
              "      <td>0</td>\n",
              "      <td>0</td>\n",
              "      <td>0</td>\n",
              "      <td>0</td>\n",
              "      <td>0</td>\n",
              "      <td>0</td>\n",
              "      <td>0</td>\n",
              "      <td>0</td>\n",
              "      <td>0</td>\n",
              "      <td>0</td>\n",
              "      <td>0</td>\n",
              "      <td>0</td>\n",
              "      <td>0</td>\n",
              "      <td>0</td>\n",
              "      <td>0</td>\n",
              "      <td>0</td>\n",
              "      <td>0</td>\n",
              "      <td>0</td>\n",
              "      <td>0</td>\n",
              "      <td>0</td>\n",
              "      <td>0</td>\n",
              "      <td>0</td>\n",
              "      <td>0</td>\n",
              "      <td>0</td>\n",
              "      <td>0</td>\n",
              "      <td>0</td>\n",
              "      <td>0</td>\n",
              "      <td>0</td>\n",
              "      <td>0</td>\n",
              "      <td>0</td>\n",
              "    </tr>\n",
              "    <tr>\n",
              "      <th>4</th>\n",
              "      <td>0</td>\n",
              "      <td>0</td>\n",
              "      <td>0</td>\n",
              "      <td>0</td>\n",
              "      <td>0</td>\n",
              "      <td>0</td>\n",
              "      <td>0</td>\n",
              "      <td>0</td>\n",
              "      <td>0</td>\n",
              "      <td>0</td>\n",
              "      <td>0</td>\n",
              "      <td>0</td>\n",
              "      <td>0</td>\n",
              "      <td>0</td>\n",
              "      <td>0</td>\n",
              "      <td>0</td>\n",
              "      <td>0</td>\n",
              "      <td>0</td>\n",
              "      <td>0</td>\n",
              "      <td>0</td>\n",
              "      <td>0</td>\n",
              "      <td>0</td>\n",
              "      <td>0</td>\n",
              "      <td>0</td>\n",
              "      <td>0</td>\n",
              "      <td>0</td>\n",
              "      <td>0</td>\n",
              "      <td>0</td>\n",
              "      <td>0</td>\n",
              "      <td>0</td>\n",
              "      <td>0</td>\n",
              "      <td>0</td>\n",
              "      <td>0</td>\n",
              "      <td>0</td>\n",
              "      <td>0</td>\n",
              "      <td>0</td>\n",
              "      <td>0</td>\n",
              "      <td>0</td>\n",
              "      <td>0</td>\n",
              "      <td>0</td>\n",
              "      <td>...</td>\n",
              "      <td>0</td>\n",
              "      <td>0</td>\n",
              "      <td>0</td>\n",
              "      <td>0</td>\n",
              "      <td>0</td>\n",
              "      <td>0</td>\n",
              "      <td>0</td>\n",
              "      <td>0</td>\n",
              "      <td>0</td>\n",
              "      <td>0</td>\n",
              "      <td>0</td>\n",
              "      <td>0</td>\n",
              "      <td>0</td>\n",
              "      <td>0</td>\n",
              "      <td>0</td>\n",
              "      <td>0</td>\n",
              "      <td>0</td>\n",
              "      <td>0</td>\n",
              "      <td>0</td>\n",
              "      <td>0</td>\n",
              "      <td>0</td>\n",
              "      <td>0</td>\n",
              "      <td>0</td>\n",
              "      <td>0</td>\n",
              "      <td>0</td>\n",
              "      <td>0</td>\n",
              "      <td>0</td>\n",
              "      <td>0</td>\n",
              "      <td>0</td>\n",
              "      <td>0</td>\n",
              "      <td>0</td>\n",
              "      <td>0</td>\n",
              "      <td>0</td>\n",
              "      <td>0</td>\n",
              "      <td>0</td>\n",
              "      <td>0</td>\n",
              "      <td>0</td>\n",
              "      <td>0</td>\n",
              "      <td>0</td>\n",
              "      <td>0</td>\n",
              "    </tr>\n",
              "  </tbody>\n",
              "</table>\n",
              "<p>5 rows × 28720 columns</p>\n",
              "</div>"
            ],
            "text/plain": [
              "   aa  aaa  aachi  aarinfantasy  aaron  ...  zuuma  zvezda  zwei  zygarde  zz\n",
              "0   0    0      0             0      0  ...      0       0     0        0   0\n",
              "1   0    0      0             0      0  ...      0       0     0        0   0\n",
              "2   0    0      0             0      0  ...      0       0     0        0   0\n",
              "3   0    0      0             0      0  ...      0       0     0        0   0\n",
              "4   0    0      0             0      0  ...      0       0     0        0   0\n",
              "\n",
              "[5 rows x 28720 columns]"
            ]
          },
          "execution_count": 18,
          "metadata": {},
          "output_type": "execute_result"
        }
      ],
      "source": [
        "#fit transform from text column to make dtm\n",
        "\n",
        "cv = CountVectorizer(stop_words=STOPWORDS)\n",
        "dtm = cv.fit_transform(df['sypnopsis'])\n",
        "cv.vocabulary_\n",
        "dtm.toarray()[:5, :5]\n",
        "\n",
        "dtm_df = pd.DataFrame(dtm.toarray(), columns=cv.get_feature_names())\n",
        "dtm_df.head()"
      ]
    },
    {
      "cell_type": "code",
      "execution_count": null,
      "metadata": {
        "colab": {
          "base_uri": "https://localhost:8080/"
        },
        "id": "Da2Y0bWXrale",
        "outputId": "3cd7d771-58d2-4a05-f2ac-fc74c23f58ea"
      },
      "outputs": [
        {
          "data": {
            "text/plain": [
              "28720"
            ]
          },
          "execution_count": 19,
          "metadata": {},
          "output_type": "execute_result"
        }
      ],
      "source": [
        "len(cv.vocabulary_)"
      ]
    },
    {
      "cell_type": "markdown",
      "metadata": {
        "id": "DhpDvWCIe9YG"
      },
      "source": [
        "# Cosine similarity\n",
        "\n",
        "\n"
      ]
    },
    {
      "cell_type": "code",
      "execution_count": null,
      "metadata": {
        "colab": {
          "base_uri": "https://localhost:8080/"
        },
        "id": "yQB2zsg_fDgr",
        "outputId": "b7666188-3df3-4f74-cef3-451e17baa563"
      },
      "outputs": [
        {
          "data": {
            "text/plain": [
              "array([[1.        , 0.0369914 , 0.04850534, ..., 0.09598157, 0.01531589,\n",
              "        0.02092549],\n",
              "       [0.0369914 , 1.        , 0.02731792, ..., 0.14414999, 0.        ,\n",
              "        0.06285394],\n",
              "       [0.04850534, 0.02731792, 1.        , ..., 0.04922347, 0.01885115,\n",
              "        0.01287779],\n",
              "       ...,\n",
              "       [0.09598157, 0.14414999, 0.04922347, ..., 1.        , 0.02486824,\n",
              "        0.13590592],\n",
              "       [0.01531589, 0.        , 0.01885115, ..., 0.02486824, 1.        ,\n",
              "        0.        ],\n",
              "       [0.02092549, 0.06285394, 0.01287779, ..., 0.13590592, 0.        ,\n",
              "        1.        ]])"
            ]
          },
          "execution_count": 20,
          "metadata": {},
          "output_type": "execute_result"
        }
      ],
      "source": [
        "cs = cosine_similarity(dtm)\n",
        "# Let's try seeing it out\n",
        "cs"
      ]
    },
    {
      "cell_type": "code",
      "execution_count": null,
      "metadata": {
        "colab": {
          "base_uri": "https://localhost:8080/"
        },
        "id": "T7guEOCT_Ufn",
        "outputId": "c9194ce3-f7b0-4c49-c1ff-02b97ef7310d"
      },
      "outputs": [
        {
          "name": "stdout",
          "output_type": "stream",
          "text": [
            "1\n"
          ]
        }
      ],
      "source": [
        "# Get the title of the anime that user likes\n",
        "title = 'Fullmetal Alchemist: Brotherhood'\n",
        "\n",
        "# Find the title id\n",
        "anime_id = df[df['Name'] == title]['new_id'].values[0]\n",
        "print(anime_id)\n",
        "\n"
      ]
    },
    {
      "cell_type": "markdown",
      "metadata": {
        "id": "TDvDCLvhG_WL"
      },
      "source": [
        "# Recommendation"
      ]
    },
    {
      "cell_type": "code",
      "execution_count": null,
      "metadata": {
        "colab": {
          "base_uri": "https://localhost:8080/"
        },
        "id": "1jGgRWgkOwzO",
        "outputId": "7045669a-5b0f-4a18-ac19-6e9fe15ad578"
      },
      "outputs": [
        {
          "name": "stdout",
          "output_type": "stream",
          "text": [
            "Tamayura: Sotsugyou Shashin Part 3 - Akogare\n",
            "Lupin III: Sweet Lost Night - Mahou no Lamp wa Akumu no Yokan\n",
            "Taiho Shichau zo (TV)\n",
            "Mobile Suit Gundam Wing: Endless Waltz\n",
            "Kuroko no Basket Movie 4: Last Game\n"
          ]
        }
      ],
      "source": [
        "def recommend(anime):\n",
        "    anime_id = df[df['Name'] == anime]['new_id'].values[0]\n",
        "    distances = sorted(list(enumerate(cs[anime_id])),reverse=True,key = lambda x: x[1])\n",
        "    for i in distances[1:6]:\n",
        "      print(df[df['new_id'] == i[0]]['Name'].values[0])\n",
        "    \n",
        "\n",
        "recommend('Shingeki no Kyojin')"
      ]
    }
  ],
  "metadata": {
    "colab": {
      "name": "Linh To _ Recommendation system_Content based",
      "provenance": []
    },
    "kernelspec": {
      "display_name": "Python 3",
      "name": "python3"
    },
    "language_info": {
      "name": "python"
    }
  },
  "nbformat": 4,
  "nbformat_minor": 0
}
